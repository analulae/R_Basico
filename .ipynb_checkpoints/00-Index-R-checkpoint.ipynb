{
 "cells": [
  {
   "cell_type": "markdown",
   "metadata": {},
   "source": [
    "# Índice"
   ]
  },
  {
   "cell_type": "markdown",
   "metadata": {},
   "source": [
    "# Módulo 1 : Introducción a R y Rstudio (2 sesiones)\n",
    "\n",
    "- ¿Qué es R?\n",
    "- Instalación de R y Rstudio\n",
    "- Espacios de trabajo de Rstudio\n",
    "- Instalación de paquetes, ayuda de R\n",
    "- Leer, importar – exportar, guardar datos y proyectos\n",
    "- Trabajo colaborativo – Introducción a Github\n",
    "\n",
    "# Módulo 2 : Conceptos básicos y gestión de datos (4-5 sesiones)\n",
    "\n",
    "- Programación dirigida a objetos (En R)\n",
    "- Variables cuantitativas y cualitativas\n",
    "- Estructuras de datos en R y sus operaciones\n",
    "\t* Cadenas – Expresiones regulares\n",
    "\t* Vectores y factores\n",
    "\t* Arreglos y matrices\n",
    "\t* Listas y dataframes\n",
    "\n",
    "# Módulo 3 : Visualización básica de datos (2 sesiones)\n",
    "\n",
    "Gráficos básicos:\n",
    "- Historgramas\n",
    "- Boxplots\n",
    "- Scatterplots\n",
    "- ggplot - ggplot2\n",
    "\n",
    "# Módulo 4 : Fundamentos de R programming (4 sesiones)\n",
    "\n",
    "- Condicionantes y bucles\n",
    "- Funciones en R\n",
    "- Depuración - Errores\n",
    "- Funciones apply, lapply, sapply, tapply, mapply y vapply en R"
   ]
  },
  {
   "cell_type": "code",
   "execution_count": null,
   "metadata": {
    "collapsed": true
   },
   "outputs": [],
   "source": []
  }
 ],
 "metadata": {
  "kernelspec": {
   "display_name": "R",
   "language": "R",
   "name": "ir"
  },
  "language_info": {
   "codemirror_mode": "r",
   "file_extension": ".r",
   "mimetype": "text/x-r-source",
   "name": "R",
   "pygments_lexer": "r",
   "version": "3.2.3"
  }
 },
 "nbformat": 4,
 "nbformat_minor": 2
}
