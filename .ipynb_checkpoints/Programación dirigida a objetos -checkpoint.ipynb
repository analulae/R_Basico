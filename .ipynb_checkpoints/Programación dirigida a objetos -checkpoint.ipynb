{
 "cells": [
  {
   "cell_type": "markdown",
   "metadata": {},
   "source": [
    "Orientado a Objetos significa que las variables, datos, funciones, resultados, etc., se guardan en la memoria activa de computador en forma de objetos con un nombre específio. El usuario puede modificar o manipular estos objetos con operadores (aritméticos,lógicos y comparativos)."
   ]
  }
 ],
 "metadata": {
  "kernelspec": {
   "display_name": "R",
   "language": "R",
   "name": "ir"
  },
  "language_info": {
   "codemirror_mode": "r",
   "file_extension": ".r",
   "mimetype": "text/x-r-source",
   "name": "R",
   "pygments_lexer": "r",
   "version": "3.2.3"
  }
 },
 "nbformat": 4,
 "nbformat_minor": 2
}
