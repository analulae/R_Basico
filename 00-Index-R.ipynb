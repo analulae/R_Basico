{
 "cells": [
  {
   "cell_type": "markdown",
   "metadata": {},
   "source": [
    "# Índice"
   ]
  },
  {
   "cell_type": "markdown",
   "metadata": {},
   "source": [
    "Este curso está dirigido a aquellas personas que tengan poco o ningún conocimiento sobre R, se enfoca principalmente en desarrollar los conceptos y destrezas básicas para el uso de este lenguaje."
   ]
  },
  {
   "cell_type": "markdown",
   "metadata": {},
   "source": [
    "# Módulo 1 : Introducción a R y Rstudio (2 sesiones)\n",
    "\n",
    "- ¿Qué es R?, programación dirigida a objetos \n",
    "- Instalación de R y RStudio\n",
    "- Espacios de trabajo de Rstudio\n",
    "- Instalación de paquetes, ayuda de R\n",
    "- Introducir, importar – exportar, guardar datos y proyectos\n",
    "- Trabajo colaborativo – Introducción a Github\n",
    "\n",
    "# Módulo 2 : Conceptos básicos y gestión de datos (4-5 sesiones)\n",
    "\n",
    "\n",
    "- Tipos de datos\n",
    "    * Datos numéricos\n",
    "    * Textos\n",
    "    \n",
    "    \n",
    "- Estructuras de datos en R \n",
    "\t* Vectores\n",
    "    * Data Frames\n",
    "\t* Matrices\n",
    "\t* Listas \n",
    "\n",
    "# Módulo 3 : Fundamentos de R programming (4 sesiones)\n",
    "\n",
    "- Condicionantes y bucles\n",
    "- Funciones en R\n",
    "- Depuración - Errores\n",
    "- Funciones apply, lapply, sapply, tapply, mapply y vapply en R\n",
    "\n",
    "\n",
    "# Módulo 4 : Visualización básica de datos (2 sesiones)\n",
    "\n",
    "Gráficos básicos:\n",
    "- Historgramas\n",
    "- Boxplots\n",
    "- Scatterplots\n",
    "- ggplot - ggplot2"
   ]
  }
 ],
 "metadata": {
  "kernelspec": {
   "display_name": "R",
   "language": "R",
   "name": "ir"
  },
  "language_info": {
   "codemirror_mode": "r",
   "file_extension": ".r",
   "mimetype": "text/x-r-source",
   "name": "R",
   "pygments_lexer": "r",
   "version": "3.2.3"
  }
 },
 "nbformat": 4,
 "nbformat_minor": 2
}
