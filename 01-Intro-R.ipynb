{
 "cells": [
  {
   "cell_type": "markdown",
   "metadata": {},
   "source": [
    "# ¿Qué es R?"
   ]
  },
  {
   "cell_type": "markdown",
   "metadata": {
    "collapsed": true
   },
   "source": [
    "R es un lenguaje de programación interpretado que se mantiene en un ambiente para el computo estadísico y gráfico. Es de distribución libre, bajo Licencia GNU y puede utilizarse en diferentes plataformas: Linux, Windows, MacOS.\n",
    "\n",
    "La filosofía de creación de este software se fundamenta en que los usuarios puedan iniciar su experiencia en un entorno interactivo y ajustar su uso a sus necesidades. Conforme se introducen en el mundo de la programación y tienen una idea más clara de sus objetivos, los aspectos del lenguaje y el sistema se vuelven más importantes para proveer flexibilidad y especificidad en el análisis, pudiendo verlo como un ambiente donde se aplican técnicas estadística en lugar de pensarlo como un sistema estadístico."
   ]
  },
  {
   "cell_type": "markdown",
   "metadata": {
    "collapsed": true
   },
   "source": [
    "+ Proyecto colaborativo y abierto, los desarrolladores pueden descargar el código de forma gratuita y modificarlo para incluir mejoras.\n",
    "+ Lenguaje interpretado, funciona mediante comandos.\n",
    "+ Proporciona una amplia gama de herramientas estadísticas que incluyen análisis de datos y generación de gráficos.\n",
    "+ Permite manejar grandes volúmenes de datos.\n",
    "+ Puede integrarse con distintas bases de datos. \n",
    "+ Funciona con diferentes tipos de hardware y software (Windows, Unix, Linux…)\n",
    "+ Ofrece la posibilidad de cargar bibliotecas y paquetes con diversas funcionalidades lo que permite a los usuarios extender su configuración básica.\n",
    "+ Comunidad activa que permite encontrar soluciones rápidamente a los problemase los usuarios."
   ]
  },
  {
   "cell_type": "markdown",
   "metadata": {},
   "source": [
    "# Un poco de Historia"
   ]
  },
  {
   "cell_type": "markdown",
   "metadata": {},
   "source": [
    "R fue creado en 1992 en Nueva Zelanda por Ross Ihaka y Robert Gentleman (Ihaka [1998]). La intención inicial con R, era crear un lenguaje didáctico, para ser utilizado en el curso de Introducción a la Estadística de la Universidad de Nueva Zelanda. Para ello decidieron adoptar la sintaxis del lenguaje S desarrollado por Bell Laboratories.\n",
    "\n",
    "A modo de broma Ross y Robert, comienzan a llamar “R” al lenguaje que implementaron,  por  las  iniciales  de  sus  nombres. Luego de la creación de R (en 1992), se da un primer anuncio al público del software R en 1993. En el año de 1995 un profesor de la Escuela Politécnica Federal de Zúrich convence a  Ross  y  Robert  a  usar  la  Licencia  GNU  para  hacer  de  R  un  software  libre. Como consecuencia, a partir de 1997, R forma parte del proyecto GNU.\n",
    "\n",
    "En febrero de 29 del 2000 se considera al software completo y suficientemente estable como para liberar la primera versión."
   ]
  },
  {
   "cell_type": "code",
   "execution_count": null,
   "metadata": {
    "collapsed": true
   },
   "outputs": [],
   "source": []
  }
 ],
 "metadata": {
  "kernelspec": {
   "display_name": "R",
   "language": "R",
   "name": "ir"
  },
  "language_info": {
   "codemirror_mode": "r",
   "file_extension": ".r",
   "mimetype": "text/x-r-source",
   "name": "R",
   "pygments_lexer": "r",
   "version": "3.4.1"
  }
 },
 "nbformat": 4,
 "nbformat_minor": 2
}
