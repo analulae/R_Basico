{
 "cells": [
  {
   "cell_type": "markdown",
   "metadata": {},
   "source": [
    "# ¿Qué es R?"
   ]
  },
  {
   "cell_type": "code",
   "execution_count": null,
   "metadata": {
    "collapsed": true
   },
   "outputs": [],
   "source": []
  },
  {
   "cell_type": "code",
   "execution_count": null,
   "metadata": {
    "collapsed": true
   },
   "outputs": [],
   "source": []
  },
  {
   "cell_type": "markdown",
   "metadata": {},
   "source": [
    "# Un poco de Historia"
   ]
  },
  {
   "cell_type": "raw",
   "metadata": {},
   "source": [
    "R fue creado en 1992 en Nueva Zelanda por Ross Ihaka y Robert Gentleman (Ihaka [1998]). La intención inicial con R, era crear un lenguaje didáctico, para ser utilizado en el curso de Introducción a la Estadística de la Universidad de Nueva Zelanda. Para ello decidieron adoptar la sintaxis del lenguaje S desarrollado por Bell Laboratories.\n",
    "\n",
    "A modo de broma Ross y Robert, comienzan a llamar “R” al lenguaje que implementaron,  por  las  iniciales  de  sus  nombres. Luego de la creación de R (en 1992), se da un primer anuncio al público del software R en 1993. En el año de 1995 un profesor de la Escuela Politécnica Federal de Zúrich convence a  Ross  y  Robert  a  usar  la  Licencia  GNU  para  hacer  de  R  un  software  libre. Como consecuencia, a partir de 1997, R forma parte del proyecto GNU.\n",
    "\n",
    "En febrero de 29 del 2000 se considera al software completo y suficientemente estable como para liberar la primera versión."
   ]
  }
 ],
 "metadata": {
  "kernelspec": {
   "display_name": "R",
   "language": "R",
   "name": "ir"
  },
  "language_info": {
   "codemirror_mode": "r",
   "file_extension": ".r",
   "mimetype": "text/x-r-source",
   "name": "R",
   "pygments_lexer": "r",
   "version": "3.2.3"
  }
 },
 "nbformat": 4,
 "nbformat_minor": 2
}
