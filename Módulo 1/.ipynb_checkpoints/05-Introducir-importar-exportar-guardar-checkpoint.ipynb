{
 "cells": [
  {
   "cell_type": "markdown",
   "metadata": {},
   "source": [
    "La manipulación de los datos es uno de los trabajos más importantes para el análisis de los mismos, la forma en la que los introducimos, importamos, organizamos, y finalmente exportamos es fundamental para facilitar y mejorar la extración de información del conjunto de datos."
   ]
  },
  {
   "cell_type": "markdown",
   "metadata": {},
   "source": [
    "# Introducir datos \n"
   ]
  },
  {
   "cell_type": "markdown",
   "metadata": {},
   "source": [
    "Si son pocos datos, podemos sencillamente teclearlos en la consola."
   ]
  },
  {
   "cell_type": "code",
   "execution_count": 8,
   "metadata": {},
   "outputs": [],
   "source": [
    "# Vamos a crear 3 objetos : a, b, c con valores 1, 2, 3\n",
    "a <- 1\n",
    "b <- 2\n",
    "c <- 3\n",
    "# Veamos que resultado devuelve R con: A, b, c"
   ]
  },
  {
   "cell_type": "markdown",
   "metadata": {},
   "source": [
    "R es sensible a las mayúsculas"
   ]
  },
  {
   "cell_type": "code",
   "execution_count": 9,
   "metadata": {},
   "outputs": [
    {
     "data": {
      "text/html": [
       "<ol class=list-inline>\n",
       "\t<li>4</li>\n",
       "\t<li>5</li>\n",
       "\t<li>6</li>\n",
       "\t<li>7</li>\n",
       "</ol>\n"
      ],
      "text/latex": [
       "\\begin{enumerate*}\n",
       "\\item 4\n",
       "\\item 5\n",
       "\\item 6\n",
       "\\item 7\n",
       "\\end{enumerate*}\n"
      ],
      "text/markdown": [
       "1. 4\n",
       "2. 5\n",
       "3. 6\n",
       "4. 7\n",
       "\n",
       "\n"
      ],
      "text/plain": [
       "[1] 4 5 6 7"
      ]
     },
     "metadata": {},
     "output_type": "display_data"
    }
   ],
   "source": [
    "#Creemos un vector\n",
    "#Función scan()\n",
    "#Función c()\n",
    "d <- c(4,5,6,7)\n",
    "d"
   ]
  },
  {
   "cell_type": "markdown",
   "metadata": {},
   "source": [
    "Se puede observar que muchos comandos terminan con un par de paréntesis, esto indica que se trata de una función y no de un objeto.\n",
    "\n",
    "Dentro de los paréntesis se pueden especificar los argumentos de esta función, o, dejarlos vacíos si se desea mantener los valores establecidos por defecto."
   ]
  },
  {
   "cell_type": "code",
   "execution_count": 2,
   "metadata": {},
   "outputs": [
    {
     "data": {
      "text/html": [
       "<ol class=list-inline>\n",
       "\t<li>1</li>\n",
       "\t<li>2</li>\n",
       "\t<li>3</li>\n",
       "\t<li>4</li>\n",
       "\t<li>5</li>\n",
       "\t<li>6</li>\n",
       "\t<li>7</li>\n",
       "\t<li>8</li>\n",
       "</ol>\n"
      ],
      "text/latex": [
       "\\begin{enumerate*}\n",
       "\\item 1\n",
       "\\item 2\n",
       "\\item 3\n",
       "\\item 4\n",
       "\\item 5\n",
       "\\item 6\n",
       "\\item 7\n",
       "\\item 8\n",
       "\\end{enumerate*}\n"
      ],
      "text/markdown": [
       "1. 1\n",
       "2. 2\n",
       "3. 3\n",
       "4. 4\n",
       "5. 5\n",
       "6. 6\n",
       "7. 7\n",
       "8. 8\n",
       "\n",
       "\n"
      ],
      "text/plain": [
       "[1] 1 2 3 4 5 6 7 8"
      ]
     },
     "metadata": {},
     "output_type": "display_data"
    },
    {
     "data": {
      "text/html": [
       "<ol class=list-inline>\n",
       "\t<li>1</li>\n",
       "\t<li>2</li>\n",
       "\t<li>3</li>\n",
       "\t<li>4</li>\n",
       "\t<li>5</li>\n",
       "\t<li>6</li>\n",
       "\t<li>7</li>\n",
       "\t<li>8</li>\n",
       "</ol>\n"
      ],
      "text/latex": [
       "\\begin{enumerate*}\n",
       "\\item 1\n",
       "\\item 2\n",
       "\\item 3\n",
       "\\item 4\n",
       "\\item 5\n",
       "\\item 6\n",
       "\\item 7\n",
       "\\item 8\n",
       "\\end{enumerate*}\n"
      ],
      "text/markdown": [
       "1. 1\n",
       "2. 2\n",
       "3. 3\n",
       "4. 4\n",
       "5. 5\n",
       "6. 6\n",
       "7. 7\n",
       "8. 8\n",
       "\n",
       "\n"
      ],
      "text/plain": [
       "[1] 1 2 3 4 5 6 7 8"
      ]
     },
     "metadata": {},
     "output_type": "display_data"
    },
    {
     "data": {
      "text/html": [
       "<ol class=list-inline>\n",
       "\t<li>1</li>\n",
       "\t<li>1.5</li>\n",
       "\t<li>2</li>\n",
       "\t<li>2.5</li>\n",
       "\t<li>3</li>\n",
       "\t<li>3.5</li>\n",
       "\t<li>4</li>\n",
       "\t<li>4.5</li>\n",
       "\t<li>5</li>\n",
       "\t<li>5.5</li>\n",
       "\t<li>6</li>\n",
       "\t<li>6.5</li>\n",
       "\t<li>7</li>\n",
       "\t<li>7.5</li>\n",
       "\t<li>8</li>\n",
       "</ol>\n"
      ],
      "text/latex": [
       "\\begin{enumerate*}\n",
       "\\item 1\n",
       "\\item 1.5\n",
       "\\item 2\n",
       "\\item 2.5\n",
       "\\item 3\n",
       "\\item 3.5\n",
       "\\item 4\n",
       "\\item 4.5\n",
       "\\item 5\n",
       "\\item 5.5\n",
       "\\item 6\n",
       "\\item 6.5\n",
       "\\item 7\n",
       "\\item 7.5\n",
       "\\item 8\n",
       "\\end{enumerate*}\n"
      ],
      "text/markdown": [
       "1. 1\n",
       "2. 1.5\n",
       "3. 2\n",
       "4. 2.5\n",
       "5. 3\n",
       "6. 3.5\n",
       "7. 4\n",
       "8. 4.5\n",
       "9. 5\n",
       "10. 5.5\n",
       "11. 6\n",
       "12. 6.5\n",
       "13. 7\n",
       "14. 7.5\n",
       "15. 8\n",
       "\n",
       "\n"
      ],
      "text/plain": [
       " [1] 1.0 1.5 2.0 2.5 3.0 3.5 4.0 4.5 5.0 5.5 6.0 6.5 7.0 7.5 8.0"
      ]
     },
     "metadata": {},
     "output_type": "display_data"
    },
    {
     "data": {
      "text/html": [
       "<ol class=list-inline>\n",
       "\t<li>1</li>\n",
       "\t<li>1.46666666666667</li>\n",
       "\t<li>1.93333333333333</li>\n",
       "\t<li>2.4</li>\n",
       "\t<li>2.86666666666667</li>\n",
       "\t<li>3.33333333333333</li>\n",
       "\t<li>3.8</li>\n",
       "\t<li>4.26666666666667</li>\n",
       "\t<li>4.73333333333333</li>\n",
       "\t<li>5.2</li>\n",
       "\t<li>5.66666666666667</li>\n",
       "\t<li>6.13333333333333</li>\n",
       "\t<li>6.6</li>\n",
       "\t<li>7.06666666666667</li>\n",
       "\t<li>7.53333333333333</li>\n",
       "\t<li>8</li>\n",
       "</ol>\n"
      ],
      "text/latex": [
       "\\begin{enumerate*}\n",
       "\\item 1\n",
       "\\item 1.46666666666667\n",
       "\\item 1.93333333333333\n",
       "\\item 2.4\n",
       "\\item 2.86666666666667\n",
       "\\item 3.33333333333333\n",
       "\\item 3.8\n",
       "\\item 4.26666666666667\n",
       "\\item 4.73333333333333\n",
       "\\item 5.2\n",
       "\\item 5.66666666666667\n",
       "\\item 6.13333333333333\n",
       "\\item 6.6\n",
       "\\item 7.06666666666667\n",
       "\\item 7.53333333333333\n",
       "\\item 8\n",
       "\\end{enumerate*}\n"
      ],
      "text/markdown": [
       "1. 1\n",
       "2. 1.46666666666667\n",
       "3. 1.93333333333333\n",
       "4. 2.4\n",
       "5. 2.86666666666667\n",
       "6. 3.33333333333333\n",
       "7. 3.8\n",
       "8. 4.26666666666667\n",
       "9. 4.73333333333333\n",
       "10. 5.2\n",
       "11. 5.66666666666667\n",
       "12. 6.13333333333333\n",
       "13. 6.6\n",
       "14. 7.06666666666667\n",
       "15. 7.53333333333333\n",
       "16. 8\n",
       "\n",
       "\n"
      ],
      "text/plain": [
       " [1] 1.000000 1.466667 1.933333 2.400000 2.866667 3.333333 3.800000 4.266667\n",
       " [9] 4.733333 5.200000 5.666667 6.133333 6.600000 7.066667 7.533333 8.000000"
      ]
     },
     "metadata": {},
     "output_type": "display_data"
    },
    {
     "data": {
      "text/html": [
       "<ol class=list-inline>\n",
       "\t<li>7</li>\n",
       "\t<li>7</li>\n",
       "\t<li>7</li>\n",
       "\t<li>7</li>\n",
       "\t<li>7</li>\n",
       "</ol>\n"
      ],
      "text/latex": [
       "\\begin{enumerate*}\n",
       "\\item 7\n",
       "\\item 7\n",
       "\\item 7\n",
       "\\item 7\n",
       "\\item 7\n",
       "\\end{enumerate*}\n"
      ],
      "text/markdown": [
       "1. 7\n",
       "2. 7\n",
       "3. 7\n",
       "4. 7\n",
       "5. 7\n",
       "\n",
       "\n"
      ],
      "text/plain": [
       "[1] 7 7 7 7 7"
      ]
     },
     "metadata": {},
     "output_type": "display_data"
    },
    {
     "data": {
      "text/html": [
       "<ol class=list-inline>\n",
       "\t<li>1</li>\n",
       "\t<li>2</li>\n",
       "\t<li>3</li>\n",
       "\t<li>4</li>\n",
       "\t<li>5</li>\n",
       "\t<li>1</li>\n",
       "\t<li>2</li>\n",
       "\t<li>3</li>\n",
       "\t<li>4</li>\n",
       "\t<li>5</li>\n",
       "\t<li>1</li>\n",
       "\t<li>2</li>\n",
       "\t<li>3</li>\n",
       "\t<li>4</li>\n",
       "\t<li>5</li>\n",
       "</ol>\n"
      ],
      "text/latex": [
       "\\begin{enumerate*}\n",
       "\\item 1\n",
       "\\item 2\n",
       "\\item 3\n",
       "\\item 4\n",
       "\\item 5\n",
       "\\item 1\n",
       "\\item 2\n",
       "\\item 3\n",
       "\\item 4\n",
       "\\item 5\n",
       "\\item 1\n",
       "\\item 2\n",
       "\\item 3\n",
       "\\item 4\n",
       "\\item 5\n",
       "\\end{enumerate*}\n"
      ],
      "text/markdown": [
       "1. 1\n",
       "2. 2\n",
       "3. 3\n",
       "4. 4\n",
       "5. 5\n",
       "6. 1\n",
       "7. 2\n",
       "8. 3\n",
       "9. 4\n",
       "10. 5\n",
       "11. 1\n",
       "12. 2\n",
       "13. 3\n",
       "14. 4\n",
       "15. 5\n",
       "\n",
       "\n"
      ],
      "text/plain": [
       " [1] 1 2 3 4 5 1 2 3 4 5 1 2 3 4 5"
      ]
     },
     "metadata": {},
     "output_type": "display_data"
    },
    {
     "data": {
      "text/html": [
       "<ol class=list-inline>\n",
       "\t<li>'A'</li>\n",
       "\t<li>'B'</li>\n",
       "\t<li>'C'</li>\n",
       "\t<li>'A'</li>\n",
       "\t<li>'B'</li>\n",
       "\t<li>'C'</li>\n",
       "\t<li>'A'</li>\n",
       "\t<li>'B'</li>\n",
       "\t<li>'C'</li>\n",
       "</ol>\n"
      ],
      "text/latex": [
       "\\begin{enumerate*}\n",
       "\\item 'A'\n",
       "\\item 'B'\n",
       "\\item 'C'\n",
       "\\item 'A'\n",
       "\\item 'B'\n",
       "\\item 'C'\n",
       "\\item 'A'\n",
       "\\item 'B'\n",
       "\\item 'C'\n",
       "\\end{enumerate*}\n"
      ],
      "text/markdown": [
       "1. 'A'\n",
       "2. 'B'\n",
       "3. 'C'\n",
       "4. 'A'\n",
       "5. 'B'\n",
       "6. 'C'\n",
       "7. 'A'\n",
       "8. 'B'\n",
       "9. 'C'\n",
       "\n",
       "\n"
      ],
      "text/plain": [
       "[1] \"A\" \"B\" \"C\" \"A\" \"B\" \"C\" \"A\" \"B\" \"C\""
      ]
     },
     "metadata": {},
     "output_type": "display_data"
    },
    {
     "data": {
      "text/html": [
       "<ol class=list-inline>\n",
       "\t<li>'T 1'</li>\n",
       "\t<li>'T 2'</li>\n",
       "\t<li>'T 3'</li>\n",
       "\t<li>'T 4'</li>\n",
       "</ol>\n"
      ],
      "text/latex": [
       "\\begin{enumerate*}\n",
       "\\item 'T 1'\n",
       "\\item 'T 2'\n",
       "\\item 'T 3'\n",
       "\\item 'T 4'\n",
       "\\end{enumerate*}\n"
      ],
      "text/markdown": [
       "1. 'T 1'\n",
       "2. 'T 2'\n",
       "3. 'T 3'\n",
       "4. 'T 4'\n",
       "\n",
       "\n"
      ],
      "text/plain": [
       "[1] \"T 1\" \"T 2\" \"T 3\" \"T 4\""
      ]
     },
     "metadata": {},
     "output_type": "display_data"
    },
    {
     "data": {
      "text/html": [
       "<ol class=list-inline>\n",
       "\t<li>'T.1'</li>\n",
       "\t<li>'T.2'</li>\n",
       "\t<li>'T.3'</li>\n",
       "\t<li>'T.4'</li>\n",
       "</ol>\n"
      ],
      "text/latex": [
       "\\begin{enumerate*}\n",
       "\\item 'T.1'\n",
       "\\item 'T.2'\n",
       "\\item 'T.3'\n",
       "\\item 'T.4'\n",
       "\\end{enumerate*}\n"
      ],
      "text/markdown": [
       "1. 'T.1'\n",
       "2. 'T.2'\n",
       "3. 'T.3'\n",
       "4. 'T.4'\n",
       "\n",
       "\n"
      ],
      "text/plain": [
       "[1] \"T.1\" \"T.2\" \"T.3\" \"T.4\""
      ]
     },
     "metadata": {},
     "output_type": "display_data"
    }
   ],
   "source": [
    "#Generando secuencias de datos \n",
    "#Operador\n",
    "1:8\n",
    "#Función seq()\n",
    "seq (1,8)\n",
    "seq (1,8, by= .5) # Cambiando valores por defecto de los argumentos\n",
    "seq (1,8, length=16)\n",
    "#Función rep()\n",
    "rep (7,5)\n",
    "rep (1:5,3)\n",
    "rep (c(\"A\", \"B\", \"C\"), 3)\n",
    "#Función paste()\n",
    "paste(\"T\",1:4)\n",
    "paste(\"T\",1:4,sep=\".\")"
   ]
  },
  {
   "cell_type": "markdown",
   "metadata": {},
   "source": [
    "Te habrás dado cuenta que trabajar directamente en la consola no es muy práctico, muchas veces es necesario correr un código varias veces para obtener los resultados deseados, por eso es importante el uso de la ventana de **Scripts.**\n",
    "\n",
    "En este espacio puedes escribir código en diferentes pestañas y ejecutar la parte necesaria del código sin tener que escribirla de nuevo en la consola."
   ]
  },
  {
   "cell_type": "markdown",
   "metadata": {},
   "source": []
  },
  {
   "cell_type": "code",
   "execution_count": null,
   "metadata": {},
   "outputs": [],
   "source": []
  },
  {
   "cell_type": "code",
   "execution_count": null,
   "metadata": {
    "collapsed": true
   },
   "outputs": [],
   "source": []
  },
  {
   "cell_type": "code",
   "execution_count": null,
   "metadata": {
    "collapsed": true
   },
   "outputs": [],
   "source": []
  },
  {
   "cell_type": "markdown",
   "metadata": {},
   "source": [
    "# Guardar datos"
   ]
  },
  {
   "cell_type": "markdown",
   "metadata": {},
   "source": [
    "Se puede guardar el espacio de trabajo en el menú File.\n",
    "También se puede guardar en el directorio de trabajo (la dirección dentro de la computadora sobre la que opera R) con el siguiente comando:"
   ]
  },
  {
   "cell_type": "code",
   "execution_count": 51,
   "metadata": {
    "collapsed": true
   },
   "outputs": [],
   "source": [
    "save.image() #Guarda archivo como .RData \n",
    "save.image(file = \"uno.RData\")\n"
   ]
  },
  {
   "cell_type": "raw",
   "metadata": {},
   "source": [
    "Para saber cuál es nuestro directorio de trabajo y cambiarlo se usan las siguientes funciones:"
   ]
  },
  {
   "cell_type": "code",
   "execution_count": 4,
   "metadata": {},
   "outputs": [
    {
     "data": {
      "text/html": [
       "'/home/analulae/R_Basico/Módulo 1'"
      ],
      "text/latex": [
       "'/home/analulae/R\\_Basico/Módulo 1'"
      ],
      "text/markdown": [
       "'/home/analulae/R_Basico/Módulo 1'"
      ],
      "text/plain": [
       "[1] \"/home/analulae/R_Basico/Módulo 1\""
      ]
     },
     "metadata": {},
     "output_type": "display_data"
    },
    {
     "ename": "ERROR",
     "evalue": "Error in setwd(\"nueva dirección del directorio\"): no es posible cambiar el directorio de trabajo\n",
     "output_type": "error",
     "traceback": [
      "Error in setwd(\"nueva dirección del directorio\"): no es posible cambiar el directorio de trabajo\nTraceback:\n",
      "1. setwd(\"nueva dirección del directorio\")"
     ]
    }
   ],
   "source": [
    "getwd() #Identificar el directorio\n",
    "setwd(\"nueva dirección del directorio\") #Cambiar el directorio"
   ]
  },
  {
   "cell_type": "code",
   "execution_count": null,
   "metadata": {
    "collapsed": true
   },
   "outputs": [],
   "source": []
  },
  {
   "cell_type": "code",
   "execution_count": 4,
   "metadata": {
    "collapsed": true
   },
   "outputs": [],
   "source": [
    "m  <- 3\n",
    "z  <- 4\n",
    "save(m, z, file = \"ab.RData\")"
   ]
  },
  {
   "cell_type": "code",
   "execution_count": 2,
   "metadata": {
    "scrolled": true
   },
   "outputs": [
    {
     "data": {
      "text/html": [
       "3"
      ],
      "text/latex": [
       "3"
      ],
      "text/markdown": [
       "3"
      ],
      "text/plain": [
       "[1] 3"
      ]
     },
     "metadata": {},
     "output_type": "display_data"
    },
    {
     "data": {
      "text/html": [
       "4"
      ],
      "text/latex": [
       "4"
      ],
      "text/markdown": [
       "4"
      ],
      "text/plain": [
       "[1] 4"
      ]
     },
     "metadata": {},
     "output_type": "display_data"
    }
   ],
   "source": [
    "m\n",
    "z"
   ]
  },
  {
   "cell_type": "markdown",
   "metadata": {},
   "source": [
    "En cambio, si existe un gran volumen de datos, es necesario importarlos, dependiendo del formato se puede hacer de distintas formas, vamos a revisar los formatos más utilizados (excel, .txt, .csv)"
   ]
  },
  {
   "cell_type": "markdown",
   "metadata": {},
   "source": [
    "#  Importar datos"
   ]
  },
  {
   "cell_type": "markdown",
   "metadata": {},
   "source": [
    "### Importar archivos .txt o .csv (ASCII)"
   ]
  },
  {
   "cell_type": "markdown",
   "metadata": {},
   "source": [
    "Los datos planos o ASCII tienen dos características principales:\n",
    "+ Header \n",
    "+ Separación de caracteres -> separación de columnas (comas, puntos y comas, espacios, tabulación)\n",
    "\n",
    "En la práctica vamos a encontrar tres tipos de archivos:\n",
    "+ Solo datos\n",
    "+ Header en primera línea, datos en la segunda\n",
    "+ Header engañoso\n"
   ]
  },
  {
   "cell_type": "markdown",
   "metadata": {
    "collapsed": true
   },
   "source": [
    "#### Paquete readr\n",
    "##### Cargar el paquete readr"
   ]
  },
  {
   "cell_type": "code",
   "execution_count": 52,
   "metadata": {},
   "outputs": [
    {
     "name": "stderr",
     "output_type": "stream",
     "text": [
      "Installing package into ‘/home/analulae/R/x86_64-pc-linux-gnu-library/3.4’\n",
      "(as ‘lib’ is unspecified)\n",
      "also installing the dependencies ‘hms’, ‘BH’\n",
      "\n"
     ]
    }
   ],
   "source": [
    "# Instalar el paquete 'readr' el paquete más práctico para leer ficheros planos&amp;amp;lt;/span&amp;amp;gt;\n",
    "install.packages(\"readr\")\n",
    "# Cargar el paquete\n",
    "library(\"readr\")"
   ]
  },
  {
   "cell_type": "code",
   "execution_count": null,
   "metadata": {
    "collapsed": true
   },
   "outputs": [],
   "source": []
  },
  {
   "cell_type": "code",
   "execution_count": null,
   "metadata": {
    "collapsed": true
   },
   "outputs": [],
   "source": []
  },
  {
   "cell_type": "code",
   "execution_count": null,
   "metadata": {
    "collapsed": true
   },
   "outputs": [],
   "source": []
  }
 ],
 "metadata": {
  "kernelspec": {
   "display_name": "R",
   "language": "R",
   "name": "ir"
  },
  "language_info": {
   "codemirror_mode": "r",
   "file_extension": ".r",
   "mimetype": "text/x-r-source",
   "name": "R",
   "pygments_lexer": "r",
   "version": "3.4.1"
  }
 },
 "nbformat": 4,
 "nbformat_minor": 2
}
