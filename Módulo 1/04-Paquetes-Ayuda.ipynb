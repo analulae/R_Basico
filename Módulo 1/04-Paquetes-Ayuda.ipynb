{
 "cells": [
  {
   "cell_type": "markdown",
   "metadata": {},
   "source": [
    "# Paquetes en R"
   ]
  },
  {
   "cell_type": "markdown",
   "metadata": {},
   "source": [
    "Una de las características más atractivas de R es su carácter colaborativo, por lo que el usuario puede valerse de la experiencia y el trabajo de otros para desarrollar ciertas tareas más especializadas. Aunque R provee más de 4000 funciones básicas, también nos permite crear y descargar paquetes, que amplian la configuración básica. \n",
    "\n",
    "Veamos los paquetes instalados hasta ahora automáticamente con RStudio"
   ]
  },
  {
   "cell_type": "code",
   "execution_count": 9,
   "metadata": {},
   "outputs": [
    {
     "data": {},
     "metadata": {},
     "output_type": "display_data"
    }
   ],
   "source": [
    "library()"
   ]
  },
  {
   "cell_type": "markdown",
   "metadata": {},
   "source": [
    "Son bibliotecas de código gratuitas creadas por la comunidad de usuarios y disponibles en varios repositorios."
   ]
  },
  {
   "cell_type": "markdown",
   "metadata": {},
   "source": [
    "## Instalación"
   ]
  },
  {
   "cell_type": "markdown",
   "metadata": {},
   "source": [
    "### Desde la consola"
   ]
  },
  {
   "cell_type": "code",
   "execution_count": null,
   "metadata": {
    "collapsed": true
   },
   "outputs": [],
   "source": [
    "install.packages (\"paquete\") #Un paquete\n",
    "install.packages (c(\"paquete1\", \"paquete2\", \"paquete3\")) #Varios paquetes"
   ]
  },
  {
   "cell_type": "markdown",
   "metadata": {},
   "source": [
    "+ Pueden aparecer varios mensajes de error:\n",
    " * No se encuentra el paquete : \"package ‘paquete’ is not available\".\n",
    " * No se encuentra la función.\n",
    "\n",
    "De ser correcta la escritura del comando, aparecerá el siguiente mensaje:\n",
    "\n",
    "**— Please select a CRAN mirror for use in this session —**\n",
    "\n",
    "Se elige cualquiera y esperamos a que termine de cargar el paquete. (DONE)"
   ]
  },
  {
   "cell_type": "markdown",
   "metadata": {},
   "source": [
    "### Desde RStudio"
   ]
  },
  {
   "cell_type": "markdown",
   "metadata": {
    "collapsed": true
   },
   "source": [
    "Nos posicionamos en la ventana inferior derecha, en la pestaña de \"Packages\" y buscamos el paquete a descargar, o a actualizar."
   ]
  },
  {
   "cell_type": "markdown",
   "metadata": {},
   "source": [
    "** Para activar el paquete y poder usar sus funciones, utilizamos: **"
   ]
  },
  {
   "cell_type": "code",
   "execution_count": null,
   "metadata": {
    "collapsed": true
   },
   "outputs": [],
   "source": [
    "library(\"paquete\")"
   ]
  },
  {
   "cell_type": "markdown",
   "metadata": {},
   "source": [
    "Otras funciones que pueden ser útiles:"
   ]
  },
  {
   "cell_type": "code",
   "execution_count": null,
   "metadata": {
    "collapsed": true
   },
   "outputs": [],
   "source": [
    "search() # Lista los paquetes cargados\n",
    "installed.packages() # Proporciona más detalles sobre los paquetes\n",
    "update.packages() # Actualiza los paquetes de la biblioteca\n",
    "sessionInfo() # Información sobre R y paquetes cargados"
   ]
  },
  {
   "cell_type": "markdown",
   "metadata": {},
   "source": [
    "En niveles más avanzados se presentarán las bases para el desarrollo de paquetes en R"
   ]
  },
  {
   "cell_type": "markdown",
   "metadata": {},
   "source": [
    "# Ayuda en R"
   ]
  },
  {
   "cell_type": "markdown",
   "metadata": {},
   "source": [
    "### Desde la consola"
   ]
  },
  {
   "cell_type": "code",
   "execution_count": 13,
   "metadata": {
    "collapsed": true
   },
   "outputs": [],
   "source": [
    "help.start() #Abre un navegador web de ayuda online\n",
    "help(\"paquete\") \n",
    "?paquete #forma abreviada"
   ]
  },
  {
   "cell_type": "markdown",
   "metadata": {},
   "source": [
    "Ambos códigos devuelven la misma salida, que es la documentación de la función buscada, abriendo el navegador web, o en la pestaña de Help, en la ventana inferior derecha de RStudio. Con las siguientes características:\n",
    "\n",
    "+ Description\n",
    "+ Usage\n",
    "+ Arguments\n",
    "+ Details\n",
    "+ Value\n",
    "+ Note\n",
    "+ Authors\n",
    "+ References\n",
    "+ See Also\n",
    "+ Examples"
   ]
  },
  {
   "cell_type": "markdown",
   "metadata": {
    "collapsed": true
   },
   "source": [
    "### Desde RStudio "
   ]
  },
  {
   "cell_type": "markdown",
   "metadata": {},
   "source": [
    "Vamos a la ventana inferior derecha, en la pestaña de Help donde encontramos links a diferentes páginas de ayuda y recursos de R, y en la esquina superior derecha podemos iniciar una búsqueda donde aparecerán las funciones que en su descripción tengan las palabras claves.\n",
    "\n",
    "Además en la barra Menú también tenemos la opción de Help."
   ]
  }
 ],
 "metadata": {
  "kernelspec": {
   "display_name": "R",
   "language": "R",
   "name": "ir"
  },
  "language_info": {
   "codemirror_mode": "r",
   "file_extension": ".r",
   "mimetype": "text/x-r-source",
   "name": "R",
   "pygments_lexer": "r",
   "version": "3.4.1"
  }
 },
 "nbformat": 4,
 "nbformat_minor": 2
}
