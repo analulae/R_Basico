{
 "cells": [
  {
   "cell_type": "markdown",
   "metadata": {},
   "source": [
    "# Trabajo Colaborativo"
   ]
  },
  {
   "cell_type": "markdown",
   "metadata": {},
   "source": [
    "Actualmente la labor de un desarrollador de código no es realizada individualmente sino que existen muchas personas con conocimiento especializado que colaboran con los diferentes problemas u obstáculos que se presentan al correr un programa.\n",
    "\n",
    "Esta filosofía permite que sea reconocido el trabajo de todas las personas que participaron en un proyecto por más pequeño que sea, además permite desarrollar nuevas tecnologías utilizando otro código de base.\n",
    "\n",
    "Actualmente existen varias plataformas que apoyan y fomentan el trabajo colaborativo y el control de versiones, siendo una de las más populares GitHub"
   ]
  },
  {
   "cell_type": "markdown",
   "metadata": {},
   "source": [
    "# GitHub"
   ]
  },
  {
   "cell_type": "markdown",
   "metadata": {},
   "source": [
    "Es una plataforma de desarrollo colaborativo que se utiliza para almacenar proyectos de forma pública o privada, utilizando el cintrol de versiones de git.\n",
    "\n",
    "Debemos comenzar creando una cuenta en: https://github.com/\n",
    "\n",
    "Se creará un cuenta con nuestros datos y cantidad de aportes a distintos proyectos, además de mostrar las organizaciones a las que se pertenece.\n",
    "\n",
    "El usuario podrá descargar el código del proyecto (público) que desea y así trabajar en el por optimización o por partir de allí para nuevas tecnologías.\n",
    "\n",
    "Las personas que revisen el repositorio podrán clonarlo o hacer \"fork\" para editarlo y colaborar con la línea de desarrollo del código o inventar una nueva.\n",
    "\n",
    "Por otro lado, cada vez que se actualiza el repositorio podemos seguir los cambios realizados a través de los commits\n",
    "\n",
    "Por supuesto esto no es una explicación detallada de todas las funciones y cómo se debe hacer el control de versiones, es simplemente para presentar una idea de cuáles son las funciones de Git y GitHub."
   ]
  },
  {
   "cell_type": "markdown",
   "metadata": {},
   "source": [
    "Durante este nivel no va a ser necesario profundizar\n",
    "de la plataforma de control de versiones, GitHub.\n",
    "\n",
    "La siguiente es una guía sencilla y resumida de git:\n",
    "\n",
    "http://rogerdudler.github.io/git-guide/index.es.html"
   ]
  }
 ],
 "metadata": {
  "kernelspec": {
   "display_name": "R",
   "language": "R",
   "name": "ir"
  },
  "language_info": {
   "codemirror_mode": "r",
   "file_extension": ".r",
   "mimetype": "text/x-r-source",
   "name": "R",
   "pygments_lexer": "r",
   "version": "3.4.1"
  }
 },
 "nbformat": 4,
 "nbformat_minor": 2
}
