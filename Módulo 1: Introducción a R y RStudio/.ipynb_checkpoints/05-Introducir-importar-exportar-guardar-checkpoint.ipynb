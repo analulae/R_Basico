{
 "cells": [
  {
   "cell_type": "markdown",
   "metadata": {},
   "source": [
    "La manipulación de los datos es uno de los trabajos más importantes para el análisis de los mismos, la forma en la que los introducimos, importamos, organizamos, y finalmente exportamos es fundamental para facilitar y mejorar la extración de información del conjunto de datos."
   ]
  },
  {
   "cell_type": "markdown",
   "metadata": {},
   "source": [
    "# Guardar"
   ]
  },
  {
   "cell_type": "markdown",
   "metadata": {},
   "source": [
    "Se puede guardar el espacio de trabajo en el menú File.\n",
    "También se puede guardar desde la consola en el directorio de trabajo (la dirección dentro de la computadora sobre la que opera R) con el siguiente comando:"
   ]
  },
  {
   "cell_type": "code",
   "execution_count": 1,
   "metadata": {
    "collapsed": true
   },
   "outputs": [],
   "source": [
    "save.image() #Guarda archivo como .RData \n",
    "save.image(file = \"uno.RData\")\n"
   ]
  },
  {
   "cell_type": "markdown",
   "metadata": {},
   "source": [
    "El archivo queda guardado como un .RData, que puede ser leído directamente por R.\n",
    "\n",
    "Para saber cuál es nuestro directorio de trabajo y cambiarlo se usan las siguientes funciones:"
   ]
  },
  {
   "cell_type": "code",
   "execution_count": 2,
   "metadata": {},
   "outputs": [
    {
     "data": {
      "text/html": [
       "'/home/analulae/R_Basico/Módulo 1'"
      ],
      "text/latex": [
       "'/home/analulae/R\\_Basico/Módulo 1'"
      ],
      "text/markdown": [
       "'/home/analulae/R_Basico/Módulo 1'"
      ],
      "text/plain": [
       "[1] \"/home/analulae/R_Basico/Módulo 1\""
      ]
     },
     "metadata": {},
     "output_type": "display_data"
    },
    {
     "ename": "ERROR",
     "evalue": "Error in setwd(\"nueva dirección del directorio\"): no es posible cambiar el directorio de trabajo\n",
     "output_type": "error",
     "traceback": [
      "Error in setwd(\"nueva dirección del directorio\"): no es posible cambiar el directorio de trabajo\nTraceback:\n",
      "1. setwd(\"nueva dirección del directorio\")"
     ]
    }
   ],
   "source": [
    "getwd() #Identificar el directorio\n",
    "setwd(\"nueva dirección del directorio\") #Cambiar el directorio"
   ]
  },
  {
   "cell_type": "markdown",
   "metadata": {},
   "source": [
    "Al cerrar R, o Rstudio, el programa consulta si se desea guardar la imagen del espacio de trabajo, si la respuesta es si, se guarda en ~/.RData y se carga en la siguiente sesión de trabajo.\n",
    "\n",
    "Es preferible guardar el espacio de trabajo como un proyecto en RStudio y así se guarda también el historial de la sesión e identificamos con un nombre lo realizado."
   ]
  },
  {
   "cell_type": "markdown",
   "metadata": {},
   "source": [
    "# Introducir datos \n"
   ]
  },
  {
   "cell_type": "markdown",
   "metadata": {},
   "source": [
    "Si son pocos datos, podemos sencillamente teclearlos en la consola."
   ]
  },
  {
   "cell_type": "code",
   "execution_count": 8,
   "metadata": {
    "collapsed": true
   },
   "outputs": [],
   "source": [
    "# Vamos a crear 3 objetos : a, b, c con valores 1, 2, 3\n",
    "a <- 1\n",
    "b <- 2\n",
    "c <- 3\n",
    "# Veamos que resultado devuelve R con: A, b, c"
   ]
  },
  {
   "cell_type": "markdown",
   "metadata": {},
   "source": [
    "R es sensible a las mayúsculas"
   ]
  },
  {
   "cell_type": "code",
   "execution_count": 4,
   "metadata": {},
   "outputs": [
    {
     "data": {
      "text/html": [
       "<ol class=list-inline>\n",
       "\t<li>'Ana'</li>\n",
       "\t<li>'Pedro'</li>\n",
       "\t<li>'Pablo'</li>\n",
       "</ol>\n"
      ],
      "text/latex": [
       "\\begin{enumerate*}\n",
       "\\item 'Ana'\n",
       "\\item 'Pedro'\n",
       "\\item 'Pablo'\n",
       "\\end{enumerate*}\n"
      ],
      "text/markdown": [
       "1. 'Ana'\n",
       "2. 'Pedro'\n",
       "3. 'Pablo'\n",
       "\n",
       "\n"
      ],
      "text/plain": [
       "[1] \"Ana\"   \"Pedro\" \"Pablo\""
      ]
     },
     "metadata": {},
     "output_type": "display_data"
    },
    {
     "data": {
      "text/html": [
       "<ol class=list-inline>\n",
       "\t<li>4</li>\n",
       "\t<li>5</li>\n",
       "\t<li>6</li>\n",
       "\t<li>7</li>\n",
       "</ol>\n"
      ],
      "text/latex": [
       "\\begin{enumerate*}\n",
       "\\item 4\n",
       "\\item 5\n",
       "\\item 6\n",
       "\\item 7\n",
       "\\end{enumerate*}\n"
      ],
      "text/markdown": [
       "1. 4\n",
       "2. 5\n",
       "3. 6\n",
       "4. 7\n",
       "\n",
       "\n"
      ],
      "text/plain": [
       "[1] 4 5 6 7"
      ]
     },
     "metadata": {},
     "output_type": "display_data"
    },
    {
     "data": {
      "text/html": [
       "<ol class=list-inline>\n",
       "\t<li>'Ana'</li>\n",
       "\t<li>'Pedro'</li>\n",
       "\t<li>'Pablo'</li>\n",
       "\t<li>'4'</li>\n",
       "\t<li>'5'</li>\n",
       "\t<li>'6'</li>\n",
       "\t<li>'7'</li>\n",
       "</ol>\n"
      ],
      "text/latex": [
       "\\begin{enumerate*}\n",
       "\\item 'Ana'\n",
       "\\item 'Pedro'\n",
       "\\item 'Pablo'\n",
       "\\item '4'\n",
       "\\item '5'\n",
       "\\item '6'\n",
       "\\item '7'\n",
       "\\end{enumerate*}\n"
      ],
      "text/markdown": [
       "1. 'Ana'\n",
       "2. 'Pedro'\n",
       "3. 'Pablo'\n",
       "4. '4'\n",
       "5. '5'\n",
       "6. '6'\n",
       "7. '7'\n",
       "\n",
       "\n"
      ],
      "text/plain": [
       "[1] \"Ana\"   \"Pedro\" \"Pablo\" \"4\"     \"5\"     \"6\"     \"7\"    "
      ]
     },
     "metadata": {},
     "output_type": "display_data"
    }
   ],
   "source": [
    "#Creemos un vector\n",
    "#Función scan()\n",
    "#Función c()\n",
    "d <- c(4,5,6,7)\n",
    "f <- c(\"Ana\", \"Pedro\", \"Pablo\")\n",
    "f\n",
    "d\n",
    "c(f, d)"
   ]
  },
  {
   "cell_type": "markdown",
   "metadata": {},
   "source": [
    "Se puede observar que muchos comandos terminan con un par de paréntesis, esto indica que se trata de una función y no de un objeto.\n",
    "\n",
    "Dentro de los paréntesis se pueden especificar los argumentos de esta función, o, dejarlos vacíos si se desea mantener los valores establecidos por defecto."
   ]
  },
  {
   "cell_type": "markdown",
   "metadata": {},
   "source": [
    "Te habrás dado cuenta que trabajar directamente en la consola no es muy práctico, muchas veces es necesario copiar y correr un código varias veces para obtener los resultados deseados, por eso es importante el uso de la ventana de **Scripts.**\n",
    "\n",
    "En este espacio puedes escribir código en diferentes pestañas y ejecutar la parte necesaria del código sin tener que escribirla de nuevo en la consola."
   ]
  },
  {
   "cell_type": "markdown",
   "metadata": {},
   "source": [
    "Para saber cuáles variables se han creado durante la sesión en R o qué paquetes han sido cargados, utiliza:"
   ]
  },
  {
   "cell_type": "code",
   "execution_count": 15,
   "metadata": {},
   "outputs": [
    {
     "data": {
      "text/html": [
       "<ol class=list-inline>\n",
       "\t<li>'a'</li>\n",
       "\t<li>'b'</li>\n",
       "\t<li>'c'</li>\n",
       "\t<li>'d'</li>\n",
       "\t<li>'m'</li>\n",
       "\t<li>'z'</li>\n",
       "</ol>\n"
      ],
      "text/latex": [
       "\\begin{enumerate*}\n",
       "\\item 'a'\n",
       "\\item 'b'\n",
       "\\item 'c'\n",
       "\\item 'd'\n",
       "\\item 'm'\n",
       "\\item 'z'\n",
       "\\end{enumerate*}\n"
      ],
      "text/markdown": [
       "1. 'a'\n",
       "2. 'b'\n",
       "3. 'c'\n",
       "4. 'd'\n",
       "5. 'm'\n",
       "6. 'z'\n",
       "\n",
       "\n"
      ],
      "text/plain": [
       "[1] \"a\" \"b\" \"c\" \"d\" \"m\" \"z\""
      ]
     },
     "metadata": {},
     "output_type": "display_data"
    },
    {
     "data": {
      "text/html": [
       "<ol class=list-inline>\n",
       "\t<li>'.GlobalEnv'</li>\n",
       "\t<li>'jupyter:irkernel'</li>\n",
       "\t<li>'jupyter:irkernel'</li>\n",
       "\t<li>'package:stats'</li>\n",
       "\t<li>'package:graphics'</li>\n",
       "\t<li>'package:grDevices'</li>\n",
       "\t<li>'package:utils'</li>\n",
       "\t<li>'package:datasets'</li>\n",
       "\t<li>'package:methods'</li>\n",
       "\t<li>'Autoloads'</li>\n",
       "\t<li>'package:base'</li>\n",
       "</ol>\n"
      ],
      "text/latex": [
       "\\begin{enumerate*}\n",
       "\\item '.GlobalEnv'\n",
       "\\item 'jupyter:irkernel'\n",
       "\\item 'jupyter:irkernel'\n",
       "\\item 'package:stats'\n",
       "\\item 'package:graphics'\n",
       "\\item 'package:grDevices'\n",
       "\\item 'package:utils'\n",
       "\\item 'package:datasets'\n",
       "\\item 'package:methods'\n",
       "\\item 'Autoloads'\n",
       "\\item 'package:base'\n",
       "\\end{enumerate*}\n"
      ],
      "text/markdown": [
       "1. '.GlobalEnv'\n",
       "2. 'jupyter:irkernel'\n",
       "3. 'jupyter:irkernel'\n",
       "4. 'package:stats'\n",
       "5. 'package:graphics'\n",
       "6. 'package:grDevices'\n",
       "7. 'package:utils'\n",
       "8. 'package:datasets'\n",
       "9. 'package:methods'\n",
       "10. 'Autoloads'\n",
       "11. 'package:base'\n",
       "\n",
       "\n"
      ],
      "text/plain": [
       " [1] \".GlobalEnv\"        \"jupyter:irkernel\"  \"jupyter:irkernel\" \n",
       " [4] \"package:stats\"     \"package:graphics\"  \"package:grDevices\"\n",
       " [7] \"package:utils\"     \"package:datasets\"  \"package:methods\"  \n",
       "[10] \"Autoloads\"         \"package:base\"     "
      ]
     },
     "metadata": {},
     "output_type": "display_data"
    }
   ],
   "source": [
    "objects() # Variables creadas, ls() realiza un acción equivalente\n",
    "search() # Paquetes cargados\n",
    "# Puedes revisar el contenido de cualquiera de ellas."
   ]
  },
  {
   "cell_type": "markdown",
   "metadata": {},
   "source": [
    "Si existe un gran volumen de datos, es necesario importarlos, dependiendo del formato se puede hacer de distintas formas, vamos a revisar los formatos más utilizados (excel, .txt, .csv)"
   ]
  },
  {
   "cell_type": "markdown",
   "metadata": {},
   "source": [
    "#  Importar datos"
   ]
  },
  {
   "cell_type": "markdown",
   "metadata": {},
   "source": [
    "Para importar todo tipo de datos podemos hacer dos cosas, posicionarnos en el directorio de trabajo u obtener la ruta donde se encuentra el archivo"
   ]
  },
  {
   "cell_type": "markdown",
   "metadata": {},
   "source": [
    "## Desde la Consola"
   ]
  },
  {
   "cell_type": "markdown",
   "metadata": {},
   "source": [
    "### Importar archivos .txt "
   ]
  },
  {
   "cell_type": "markdown",
   "metadata": {},
   "source": [
    "Los datos planos o ASCII tienen dos características principales:\n",
    "+ Header \n",
    "+ Separación de caracteres -> separación de columnas (comas, puntos y comas, espacios, tabulación (sep = \"\\t\"))"
   ]
  },
  {
   "cell_type": "code",
   "execution_count": 10,
   "metadata": {
    "scrolled": true
   },
   "outputs": [
    {
     "data": {
      "text/html": [
       "<table>\n",
       "<thead><tr><th scope=col>y1</th><th scope=col>y2</th><th scope=col>x1</th><th scope=col>x2</th><th scope=col>x3</th></tr></thead>\n",
       "<tbody>\n",
       "\t<tr><td>41.5</td><td>45.9</td><td>162 </td><td>23.0</td><td>3.0 </td></tr>\n",
       "\t<tr><td>33.8</td><td>53.3</td><td>162 </td><td>23.0</td><td>8.0 </td></tr>\n",
       "\t<tr><td>27.7</td><td>57.5</td><td>162 </td><td>30.0</td><td>5.0 </td></tr>\n",
       "\t<tr><td>21.7</td><td>58.8</td><td>162 </td><td>30.0</td><td>8.0 </td></tr>\n",
       "\t<tr><td>19.9</td><td>60.6</td><td>172 </td><td>25.0</td><td>5.0 </td></tr>\n",
       "\t<tr><td>15.0</td><td>58.0</td><td>172 </td><td>25.0</td><td>8.0 </td></tr>\n",
       "\t<tr><td>12.2</td><td>58.6</td><td>172 </td><td>30.0</td><td>5.0 </td></tr>\n",
       "\t<tr><td> 4.3</td><td>52.4</td><td>172 </td><td>30.0</td><td>8.0 </td></tr>\n",
       "\t<tr><td>19.3</td><td>56.9</td><td>167 </td><td>27.5</td><td>6.5 </td></tr>\n",
       "\t<tr><td> 6.4</td><td>55.4</td><td>177 </td><td>27.5</td><td>6.5 </td></tr>\n",
       "\t<tr><td>37.6</td><td>46.9</td><td>157 </td><td>27.5</td><td>6.5 </td></tr>\n",
       "\t<tr><td>18.0</td><td>57.3</td><td>167 </td><td>32.5</td><td>6.5 </td></tr>\n",
       "\t<tr><td>26.3</td><td>55.0</td><td>167 </td><td>22.5</td><td>6.5 </td></tr>\n",
       "\t<tr><td> 9.9</td><td>58.9</td><td>167 </td><td>27.5</td><td>9.5 </td></tr>\n",
       "\t<tr><td>25.0</td><td>50.3</td><td>167 </td><td>27.5</td><td>3.5 </td></tr>\n",
       "\t<tr><td>14.1</td><td>61.1</td><td>177 </td><td>20.0</td><td>6.5 </td></tr>\n",
       "\t<tr><td>15.2</td><td>62.9</td><td>177 </td><td>20.0</td><td>6.5 </td></tr>\n",
       "\t<tr><td>15.9</td><td>60.0</td><td>160 </td><td>34.0</td><td>7.5 </td></tr>\n",
       "\t<tr><td>19.6</td><td>60.6</td><td>160 </td><td>34.0</td><td>7.5 </td></tr>\n",
       "</tbody>\n",
       "</table>\n"
      ],
      "text/latex": [
       "\\begin{tabular}{r|lllll}\n",
       " y1 & y2 & x1 & x2 & x3\\\\\n",
       "\\hline\n",
       "\t 41.5 & 45.9 & 162  & 23.0 & 3.0 \\\\\n",
       "\t 33.8 & 53.3 & 162  & 23.0 & 8.0 \\\\\n",
       "\t 27.7 & 57.5 & 162  & 30.0 & 5.0 \\\\\n",
       "\t 21.7 & 58.8 & 162  & 30.0 & 8.0 \\\\\n",
       "\t 19.9 & 60.6 & 172  & 25.0 & 5.0 \\\\\n",
       "\t 15.0 & 58.0 & 172  & 25.0 & 8.0 \\\\\n",
       "\t 12.2 & 58.6 & 172  & 30.0 & 5.0 \\\\\n",
       "\t  4.3 & 52.4 & 172  & 30.0 & 8.0 \\\\\n",
       "\t 19.3 & 56.9 & 167  & 27.5 & 6.5 \\\\\n",
       "\t  6.4 & 55.4 & 177  & 27.5 & 6.5 \\\\\n",
       "\t 37.6 & 46.9 & 157  & 27.5 & 6.5 \\\\\n",
       "\t 18.0 & 57.3 & 167  & 32.5 & 6.5 \\\\\n",
       "\t 26.3 & 55.0 & 167  & 22.5 & 6.5 \\\\\n",
       "\t  9.9 & 58.9 & 167  & 27.5 & 9.5 \\\\\n",
       "\t 25.0 & 50.3 & 167  & 27.5 & 3.5 \\\\\n",
       "\t 14.1 & 61.1 & 177  & 20.0 & 6.5 \\\\\n",
       "\t 15.2 & 62.9 & 177  & 20.0 & 6.5 \\\\\n",
       "\t 15.9 & 60.0 & 160  & 34.0 & 7.5 \\\\\n",
       "\t 19.6 & 60.6 & 160  & 34.0 & 7.5 \\\\\n",
       "\\end{tabular}\n"
      ],
      "text/markdown": [
       "\n",
       "y1 | y2 | x1 | x2 | x3 | \n",
       "|---|---|---|---|---|---|---|---|---|---|---|---|---|---|---|---|---|---|---|\n",
       "| 41.5 | 45.9 | 162  | 23.0 | 3.0  | \n",
       "| 33.8 | 53.3 | 162  | 23.0 | 8.0  | \n",
       "| 27.7 | 57.5 | 162  | 30.0 | 5.0  | \n",
       "| 21.7 | 58.8 | 162  | 30.0 | 8.0  | \n",
       "| 19.9 | 60.6 | 172  | 25.0 | 5.0  | \n",
       "| 15.0 | 58.0 | 172  | 25.0 | 8.0  | \n",
       "| 12.2 | 58.6 | 172  | 30.0 | 5.0  | \n",
       "|  4.3 | 52.4 | 172  | 30.0 | 8.0  | \n",
       "| 19.3 | 56.9 | 167  | 27.5 | 6.5  | \n",
       "|  6.4 | 55.4 | 177  | 27.5 | 6.5  | \n",
       "| 37.6 | 46.9 | 157  | 27.5 | 6.5  | \n",
       "| 18.0 | 57.3 | 167  | 32.5 | 6.5  | \n",
       "| 26.3 | 55.0 | 167  | 22.5 | 6.5  | \n",
       "|  9.9 | 58.9 | 167  | 27.5 | 9.5  | \n",
       "| 25.0 | 50.3 | 167  | 27.5 | 3.5  | \n",
       "| 14.1 | 61.1 | 177  | 20.0 | 6.5  | \n",
       "| 15.2 | 62.9 | 177  | 20.0 | 6.5  | \n",
       "| 15.9 | 60.0 | 160  | 34.0 | 7.5  | \n",
       "| 19.6 | 60.6 | 160  | 34.0 | 7.5  | \n",
       "\n",
       "\n"
      ],
      "text/plain": [
       "   y1   y2   x1  x2   x3 \n",
       "1  41.5 45.9 162 23.0 3.0\n",
       "2  33.8 53.3 162 23.0 8.0\n",
       "3  27.7 57.5 162 30.0 5.0\n",
       "4  21.7 58.8 162 30.0 8.0\n",
       "5  19.9 60.6 172 25.0 5.0\n",
       "6  15.0 58.0 172 25.0 8.0\n",
       "7  12.2 58.6 172 30.0 5.0\n",
       "8   4.3 52.4 172 30.0 8.0\n",
       "9  19.3 56.9 167 27.5 6.5\n",
       "10  6.4 55.4 177 27.5 6.5\n",
       "11 37.6 46.9 157 27.5 6.5\n",
       "12 18.0 57.3 167 32.5 6.5\n",
       "13 26.3 55.0 167 22.5 6.5\n",
       "14  9.9 58.9 167 27.5 9.5\n",
       "15 25.0 50.3 167 27.5 3.5\n",
       "16 14.1 61.1 177 20.0 6.5\n",
       "17 15.2 62.9 177 20.0 6.5\n",
       "18 15.9 60.0 160 34.0 7.5\n",
       "19 19.6 60.6 160 34.0 7.5"
      ]
     },
     "metadata": {},
     "output_type": "display_data"
    }
   ],
   "source": [
    "read.table(\"/home/analulae/R_Basico/Archivos-ejemplo/ejemplo.txt\", header = TRUE)\n"
   ]
  },
  {
   "cell_type": "code",
   "execution_count": 11,
   "metadata": {},
   "outputs": [
    {
     "data": {
      "text/html": [
       "<table>\n",
       "<thead><tr><th scope=col>y1</th><th scope=col>y2</th><th scope=col>x1</th><th scope=col>x2</th><th scope=col>x3</th></tr></thead>\n",
       "<tbody>\n",
       "\t<tr><td>41.5</td><td>45.9</td><td>162 </td><td>23.0</td><td>3.0 </td></tr>\n",
       "\t<tr><td>33.8</td><td>53.3</td><td>162 </td><td>23.0</td><td>8.0 </td></tr>\n",
       "\t<tr><td>27.7</td><td>57.5</td><td>162 </td><td>30.0</td><td>5.0 </td></tr>\n",
       "\t<tr><td>21.7</td><td>58.8</td><td>162 </td><td>30.0</td><td>8.0 </td></tr>\n",
       "\t<tr><td>19.9</td><td>60.6</td><td>172 </td><td>25.0</td><td>5.0 </td></tr>\n",
       "\t<tr><td>15.0</td><td>58.0</td><td>172 </td><td>25.0</td><td>8.0 </td></tr>\n",
       "\t<tr><td>12.2</td><td>58.6</td><td>172 </td><td>30.0</td><td>5.0 </td></tr>\n",
       "\t<tr><td> 4.3</td><td>52.4</td><td>172 </td><td>30.0</td><td>8.0 </td></tr>\n",
       "\t<tr><td>19.3</td><td>56.9</td><td>167 </td><td>27.5</td><td>6.5 </td></tr>\n",
       "\t<tr><td> 6.4</td><td>55.4</td><td>177 </td><td>27.5</td><td>6.5 </td></tr>\n",
       "\t<tr><td>37.6</td><td>46.9</td><td>157 </td><td>27.5</td><td>6.5 </td></tr>\n",
       "\t<tr><td>18.0</td><td>57.3</td><td>167 </td><td>32.5</td><td>6.5 </td></tr>\n",
       "\t<tr><td>26.3</td><td>55.0</td><td>167 </td><td>22.5</td><td>6.5 </td></tr>\n",
       "\t<tr><td> 9.9</td><td>58.9</td><td>167 </td><td>27.5</td><td>9.5 </td></tr>\n",
       "\t<tr><td>25.0</td><td>50.3</td><td>167 </td><td>27.5</td><td>3.5 </td></tr>\n",
       "\t<tr><td>14.1</td><td>61.1</td><td>177 </td><td>20.0</td><td>6.5 </td></tr>\n",
       "\t<tr><td>15.2</td><td>62.9</td><td>177 </td><td>20.0</td><td>6.5 </td></tr>\n",
       "\t<tr><td>15.9</td><td>60.0</td><td>160 </td><td>34.0</td><td>7.5 </td></tr>\n",
       "\t<tr><td>19.6</td><td>60.6</td><td>160 </td><td>34.0</td><td>7.5 </td></tr>\n",
       "</tbody>\n",
       "</table>\n"
      ],
      "text/latex": [
       "\\begin{tabular}{r|lllll}\n",
       " y1 & y2 & x1 & x2 & x3\\\\\n",
       "\\hline\n",
       "\t 41.5 & 45.9 & 162  & 23.0 & 3.0 \\\\\n",
       "\t 33.8 & 53.3 & 162  & 23.0 & 8.0 \\\\\n",
       "\t 27.7 & 57.5 & 162  & 30.0 & 5.0 \\\\\n",
       "\t 21.7 & 58.8 & 162  & 30.0 & 8.0 \\\\\n",
       "\t 19.9 & 60.6 & 172  & 25.0 & 5.0 \\\\\n",
       "\t 15.0 & 58.0 & 172  & 25.0 & 8.0 \\\\\n",
       "\t 12.2 & 58.6 & 172  & 30.0 & 5.0 \\\\\n",
       "\t  4.3 & 52.4 & 172  & 30.0 & 8.0 \\\\\n",
       "\t 19.3 & 56.9 & 167  & 27.5 & 6.5 \\\\\n",
       "\t  6.4 & 55.4 & 177  & 27.5 & 6.5 \\\\\n",
       "\t 37.6 & 46.9 & 157  & 27.5 & 6.5 \\\\\n",
       "\t 18.0 & 57.3 & 167  & 32.5 & 6.5 \\\\\n",
       "\t 26.3 & 55.0 & 167  & 22.5 & 6.5 \\\\\n",
       "\t  9.9 & 58.9 & 167  & 27.5 & 9.5 \\\\\n",
       "\t 25.0 & 50.3 & 167  & 27.5 & 3.5 \\\\\n",
       "\t 14.1 & 61.1 & 177  & 20.0 & 6.5 \\\\\n",
       "\t 15.2 & 62.9 & 177  & 20.0 & 6.5 \\\\\n",
       "\t 15.9 & 60.0 & 160  & 34.0 & 7.5 \\\\\n",
       "\t 19.6 & 60.6 & 160  & 34.0 & 7.5 \\\\\n",
       "\\end{tabular}\n"
      ],
      "text/markdown": [
       "\n",
       "y1 | y2 | x1 | x2 | x3 | \n",
       "|---|---|---|---|---|---|---|---|---|---|---|---|---|---|---|---|---|---|---|\n",
       "| 41.5 | 45.9 | 162  | 23.0 | 3.0  | \n",
       "| 33.8 | 53.3 | 162  | 23.0 | 8.0  | \n",
       "| 27.7 | 57.5 | 162  | 30.0 | 5.0  | \n",
       "| 21.7 | 58.8 | 162  | 30.0 | 8.0  | \n",
       "| 19.9 | 60.6 | 172  | 25.0 | 5.0  | \n",
       "| 15.0 | 58.0 | 172  | 25.0 | 8.0  | \n",
       "| 12.2 | 58.6 | 172  | 30.0 | 5.0  | \n",
       "|  4.3 | 52.4 | 172  | 30.0 | 8.0  | \n",
       "| 19.3 | 56.9 | 167  | 27.5 | 6.5  | \n",
       "|  6.4 | 55.4 | 177  | 27.5 | 6.5  | \n",
       "| 37.6 | 46.9 | 157  | 27.5 | 6.5  | \n",
       "| 18.0 | 57.3 | 167  | 32.5 | 6.5  | \n",
       "| 26.3 | 55.0 | 167  | 22.5 | 6.5  | \n",
       "|  9.9 | 58.9 | 167  | 27.5 | 9.5  | \n",
       "| 25.0 | 50.3 | 167  | 27.5 | 3.5  | \n",
       "| 14.1 | 61.1 | 177  | 20.0 | 6.5  | \n",
       "| 15.2 | 62.9 | 177  | 20.0 | 6.5  | \n",
       "| 15.9 | 60.0 | 160  | 34.0 | 7.5  | \n",
       "| 19.6 | 60.6 | 160  | 34.0 | 7.5  | \n",
       "\n",
       "\n"
      ],
      "text/plain": [
       "   y1   y2   x1  x2   x3 \n",
       "1  41.5 45.9 162 23.0 3.0\n",
       "2  33.8 53.3 162 23.0 8.0\n",
       "3  27.7 57.5 162 30.0 5.0\n",
       "4  21.7 58.8 162 30.0 8.0\n",
       "5  19.9 60.6 172 25.0 5.0\n",
       "6  15.0 58.0 172 25.0 8.0\n",
       "7  12.2 58.6 172 30.0 5.0\n",
       "8   4.3 52.4 172 30.0 8.0\n",
       "9  19.3 56.9 167 27.5 6.5\n",
       "10  6.4 55.4 177 27.5 6.5\n",
       "11 37.6 46.9 157 27.5 6.5\n",
       "12 18.0 57.3 167 32.5 6.5\n",
       "13 26.3 55.0 167 22.5 6.5\n",
       "14  9.9 58.9 167 27.5 9.5\n",
       "15 25.0 50.3 167 27.5 3.5\n",
       "16 14.1 61.1 177 20.0 6.5\n",
       "17 15.2 62.9 177 20.0 6.5\n",
       "18 15.9 60.0 160 34.0 7.5\n",
       "19 19.6 60.6 160 34.0 7.5"
      ]
     },
     "metadata": {},
     "output_type": "display_data"
    }
   ],
   "source": [
    "setwd('/home/analulae/R_Basico/Archivos-ejemplo')\n",
    "read.table(file = \"ejemplo.txt\", header = TRUE)"
   ]
  },
  {
   "cell_type": "markdown",
   "metadata": {},
   "source": [
    "### Importar archivos .csv"
   ]
  },
  {
   "cell_type": "code",
   "execution_count": 13,
   "metadata": {},
   "outputs": [
    {
     "data": {
      "text/html": [
       "<table>\n",
       "<thead><tr><th scope=col>y1</th><th scope=col>y2</th><th scope=col>x1</th><th scope=col>x2</th><th scope=col>x3</th></tr></thead>\n",
       "<tbody>\n",
       "\t<tr><td>41.5</td><td>45.9</td><td>162 </td><td>23.0</td><td>3.0 </td></tr>\n",
       "\t<tr><td>33.8</td><td>53.3</td><td>162 </td><td>23.0</td><td>8.0 </td></tr>\n",
       "\t<tr><td>27.7</td><td>57.5</td><td>162 </td><td>30.0</td><td>5.0 </td></tr>\n",
       "\t<tr><td>21.7</td><td>58.8</td><td>162 </td><td>30.0</td><td>8.0 </td></tr>\n",
       "\t<tr><td>19.9</td><td>60.6</td><td>172 </td><td>25.0</td><td>5.0 </td></tr>\n",
       "\t<tr><td>15.0</td><td>58.0</td><td>172 </td><td>25.0</td><td>8.0 </td></tr>\n",
       "\t<tr><td>12.2</td><td>58.6</td><td>172 </td><td>30.0</td><td>5.0 </td></tr>\n",
       "\t<tr><td> 4.3</td><td>52.4</td><td>172 </td><td>30.0</td><td>8.0 </td></tr>\n",
       "\t<tr><td>19.3</td><td>56.9</td><td>167 </td><td>27.5</td><td>6.5 </td></tr>\n",
       "\t<tr><td> 6.4</td><td>55.4</td><td>177 </td><td>27.5</td><td>6.5 </td></tr>\n",
       "\t<tr><td>37.6</td><td>46.9</td><td>157 </td><td>27.5</td><td>6.5 </td></tr>\n",
       "\t<tr><td>18.0</td><td>57.3</td><td>167 </td><td>32.5</td><td>6.5 </td></tr>\n",
       "\t<tr><td>26.3</td><td>55.0</td><td>167 </td><td>22.5</td><td>6.5 </td></tr>\n",
       "\t<tr><td> 9.9</td><td>58.9</td><td>167 </td><td>27.5</td><td>9.5 </td></tr>\n",
       "\t<tr><td>25.0</td><td>50.3</td><td>167 </td><td>27.5</td><td>3.5 </td></tr>\n",
       "\t<tr><td>14.1</td><td>61.1</td><td>177 </td><td>20.0</td><td>6.5 </td></tr>\n",
       "\t<tr><td>15.2</td><td>62.9</td><td>177 </td><td>20.0</td><td>6.5 </td></tr>\n",
       "\t<tr><td>15.9</td><td>60.0</td><td>160 </td><td>34.0</td><td>7.5 </td></tr>\n",
       "\t<tr><td>19.6</td><td>60.6</td><td>160 </td><td>34.0</td><td>7.5 </td></tr>\n",
       "</tbody>\n",
       "</table>\n"
      ],
      "text/latex": [
       "\\begin{tabular}{r|lllll}\n",
       " y1 & y2 & x1 & x2 & x3\\\\\n",
       "\\hline\n",
       "\t 41.5 & 45.9 & 162  & 23.0 & 3.0 \\\\\n",
       "\t 33.8 & 53.3 & 162  & 23.0 & 8.0 \\\\\n",
       "\t 27.7 & 57.5 & 162  & 30.0 & 5.0 \\\\\n",
       "\t 21.7 & 58.8 & 162  & 30.0 & 8.0 \\\\\n",
       "\t 19.9 & 60.6 & 172  & 25.0 & 5.0 \\\\\n",
       "\t 15.0 & 58.0 & 172  & 25.0 & 8.0 \\\\\n",
       "\t 12.2 & 58.6 & 172  & 30.0 & 5.0 \\\\\n",
       "\t  4.3 & 52.4 & 172  & 30.0 & 8.0 \\\\\n",
       "\t 19.3 & 56.9 & 167  & 27.5 & 6.5 \\\\\n",
       "\t  6.4 & 55.4 & 177  & 27.5 & 6.5 \\\\\n",
       "\t 37.6 & 46.9 & 157  & 27.5 & 6.5 \\\\\n",
       "\t 18.0 & 57.3 & 167  & 32.5 & 6.5 \\\\\n",
       "\t 26.3 & 55.0 & 167  & 22.5 & 6.5 \\\\\n",
       "\t  9.9 & 58.9 & 167  & 27.5 & 9.5 \\\\\n",
       "\t 25.0 & 50.3 & 167  & 27.5 & 3.5 \\\\\n",
       "\t 14.1 & 61.1 & 177  & 20.0 & 6.5 \\\\\n",
       "\t 15.2 & 62.9 & 177  & 20.0 & 6.5 \\\\\n",
       "\t 15.9 & 60.0 & 160  & 34.0 & 7.5 \\\\\n",
       "\t 19.6 & 60.6 & 160  & 34.0 & 7.5 \\\\\n",
       "\\end{tabular}\n"
      ],
      "text/markdown": [
       "\n",
       "y1 | y2 | x1 | x2 | x3 | \n",
       "|---|---|---|---|---|---|---|---|---|---|---|---|---|---|---|---|---|---|---|\n",
       "| 41.5 | 45.9 | 162  | 23.0 | 3.0  | \n",
       "| 33.8 | 53.3 | 162  | 23.0 | 8.0  | \n",
       "| 27.7 | 57.5 | 162  | 30.0 | 5.0  | \n",
       "| 21.7 | 58.8 | 162  | 30.0 | 8.0  | \n",
       "| 19.9 | 60.6 | 172  | 25.0 | 5.0  | \n",
       "| 15.0 | 58.0 | 172  | 25.0 | 8.0  | \n",
       "| 12.2 | 58.6 | 172  | 30.0 | 5.0  | \n",
       "|  4.3 | 52.4 | 172  | 30.0 | 8.0  | \n",
       "| 19.3 | 56.9 | 167  | 27.5 | 6.5  | \n",
       "|  6.4 | 55.4 | 177  | 27.5 | 6.5  | \n",
       "| 37.6 | 46.9 | 157  | 27.5 | 6.5  | \n",
       "| 18.0 | 57.3 | 167  | 32.5 | 6.5  | \n",
       "| 26.3 | 55.0 | 167  | 22.5 | 6.5  | \n",
       "|  9.9 | 58.9 | 167  | 27.5 | 9.5  | \n",
       "| 25.0 | 50.3 | 167  | 27.5 | 3.5  | \n",
       "| 14.1 | 61.1 | 177  | 20.0 | 6.5  | \n",
       "| 15.2 | 62.9 | 177  | 20.0 | 6.5  | \n",
       "| 15.9 | 60.0 | 160  | 34.0 | 7.5  | \n",
       "| 19.6 | 60.6 | 160  | 34.0 | 7.5  | \n",
       "\n",
       "\n"
      ],
      "text/plain": [
       "   y1   y2   x1  x2   x3 \n",
       "1  41.5 45.9 162 23.0 3.0\n",
       "2  33.8 53.3 162 23.0 8.0\n",
       "3  27.7 57.5 162 30.0 5.0\n",
       "4  21.7 58.8 162 30.0 8.0\n",
       "5  19.9 60.6 172 25.0 5.0\n",
       "6  15.0 58.0 172 25.0 8.0\n",
       "7  12.2 58.6 172 30.0 5.0\n",
       "8   4.3 52.4 172 30.0 8.0\n",
       "9  19.3 56.9 167 27.5 6.5\n",
       "10  6.4 55.4 177 27.5 6.5\n",
       "11 37.6 46.9 157 27.5 6.5\n",
       "12 18.0 57.3 167 32.5 6.5\n",
       "13 26.3 55.0 167 22.5 6.5\n",
       "14  9.9 58.9 167 27.5 9.5\n",
       "15 25.0 50.3 167 27.5 3.5\n",
       "16 14.1 61.1 177 20.0 6.5\n",
       "17 15.2 62.9 177 20.0 6.5\n",
       "18 15.9 60.0 160 34.0 7.5\n",
       "19 19.6 60.6 160 34.0 7.5"
      ]
     },
     "metadata": {},
     "output_type": "display_data"
    }
   ],
   "source": [
    "read.csv(\"/home/analulae/R_Basico/Archivos-ejemplo/ejemplo.csv\", header = TRUE, sep = \"\")"
   ]
  },
  {
   "cell_type": "code",
   "execution_count": 15,
   "metadata": {},
   "outputs": [
    {
     "data": {
      "text/html": [
       "<table>\n",
       "<thead><tr><th scope=col>y1</th><th scope=col>y2</th><th scope=col>x1</th><th scope=col>x2</th><th scope=col>x3</th></tr></thead>\n",
       "<tbody>\n",
       "\t<tr><td>41.5</td><td>45.9</td><td>162 </td><td>23.0</td><td>3.0 </td></tr>\n",
       "\t<tr><td>33.8</td><td>53.3</td><td>162 </td><td>23.0</td><td>8.0 </td></tr>\n",
       "\t<tr><td>27.7</td><td>57.5</td><td>162 </td><td>30.0</td><td>5.0 </td></tr>\n",
       "\t<tr><td>21.7</td><td>58.8</td><td>162 </td><td>30.0</td><td>8.0 </td></tr>\n",
       "\t<tr><td>19.9</td><td>60.6</td><td>172 </td><td>25.0</td><td>5.0 </td></tr>\n",
       "\t<tr><td>15.0</td><td>58.0</td><td>172 </td><td>25.0</td><td>8.0 </td></tr>\n",
       "\t<tr><td>12.2</td><td>58.6</td><td>172 </td><td>30.0</td><td>5.0 </td></tr>\n",
       "\t<tr><td> 4.3</td><td>52.4</td><td>172 </td><td>30.0</td><td>8.0 </td></tr>\n",
       "\t<tr><td>19.3</td><td>56.9</td><td>167 </td><td>27.5</td><td>6.5 </td></tr>\n",
       "\t<tr><td> 6.4</td><td>55.4</td><td>177 </td><td>27.5</td><td>6.5 </td></tr>\n",
       "\t<tr><td>37.6</td><td>46.9</td><td>157 </td><td>27.5</td><td>6.5 </td></tr>\n",
       "\t<tr><td>18.0</td><td>57.3</td><td>167 </td><td>32.5</td><td>6.5 </td></tr>\n",
       "\t<tr><td>26.3</td><td>55.0</td><td>167 </td><td>22.5</td><td>6.5 </td></tr>\n",
       "\t<tr><td> 9.9</td><td>58.9</td><td>167 </td><td>27.5</td><td>9.5 </td></tr>\n",
       "\t<tr><td>25.0</td><td>50.3</td><td>167 </td><td>27.5</td><td>3.5 </td></tr>\n",
       "\t<tr><td>14.1</td><td>61.1</td><td>177 </td><td>20.0</td><td>6.5 </td></tr>\n",
       "\t<tr><td>15.2</td><td>62.9</td><td>177 </td><td>20.0</td><td>6.5 </td></tr>\n",
       "\t<tr><td>15.9</td><td>60.0</td><td>160 </td><td>34.0</td><td>7.5 </td></tr>\n",
       "\t<tr><td>19.6</td><td>60.6</td><td>160 </td><td>34.0</td><td>7.5 </td></tr>\n",
       "</tbody>\n",
       "</table>\n"
      ],
      "text/latex": [
       "\\begin{tabular}{r|lllll}\n",
       " y1 & y2 & x1 & x2 & x3\\\\\n",
       "\\hline\n",
       "\t 41.5 & 45.9 & 162  & 23.0 & 3.0 \\\\\n",
       "\t 33.8 & 53.3 & 162  & 23.0 & 8.0 \\\\\n",
       "\t 27.7 & 57.5 & 162  & 30.0 & 5.0 \\\\\n",
       "\t 21.7 & 58.8 & 162  & 30.0 & 8.0 \\\\\n",
       "\t 19.9 & 60.6 & 172  & 25.0 & 5.0 \\\\\n",
       "\t 15.0 & 58.0 & 172  & 25.0 & 8.0 \\\\\n",
       "\t 12.2 & 58.6 & 172  & 30.0 & 5.0 \\\\\n",
       "\t  4.3 & 52.4 & 172  & 30.0 & 8.0 \\\\\n",
       "\t 19.3 & 56.9 & 167  & 27.5 & 6.5 \\\\\n",
       "\t  6.4 & 55.4 & 177  & 27.5 & 6.5 \\\\\n",
       "\t 37.6 & 46.9 & 157  & 27.5 & 6.5 \\\\\n",
       "\t 18.0 & 57.3 & 167  & 32.5 & 6.5 \\\\\n",
       "\t 26.3 & 55.0 & 167  & 22.5 & 6.5 \\\\\n",
       "\t  9.9 & 58.9 & 167  & 27.5 & 9.5 \\\\\n",
       "\t 25.0 & 50.3 & 167  & 27.5 & 3.5 \\\\\n",
       "\t 14.1 & 61.1 & 177  & 20.0 & 6.5 \\\\\n",
       "\t 15.2 & 62.9 & 177  & 20.0 & 6.5 \\\\\n",
       "\t 15.9 & 60.0 & 160  & 34.0 & 7.5 \\\\\n",
       "\t 19.6 & 60.6 & 160  & 34.0 & 7.5 \\\\\n",
       "\\end{tabular}\n"
      ],
      "text/markdown": [
       "\n",
       "y1 | y2 | x1 | x2 | x3 | \n",
       "|---|---|---|---|---|---|---|---|---|---|---|---|---|---|---|---|---|---|---|\n",
       "| 41.5 | 45.9 | 162  | 23.0 | 3.0  | \n",
       "| 33.8 | 53.3 | 162  | 23.0 | 8.0  | \n",
       "| 27.7 | 57.5 | 162  | 30.0 | 5.0  | \n",
       "| 21.7 | 58.8 | 162  | 30.0 | 8.0  | \n",
       "| 19.9 | 60.6 | 172  | 25.0 | 5.0  | \n",
       "| 15.0 | 58.0 | 172  | 25.0 | 8.0  | \n",
       "| 12.2 | 58.6 | 172  | 30.0 | 5.0  | \n",
       "|  4.3 | 52.4 | 172  | 30.0 | 8.0  | \n",
       "| 19.3 | 56.9 | 167  | 27.5 | 6.5  | \n",
       "|  6.4 | 55.4 | 177  | 27.5 | 6.5  | \n",
       "| 37.6 | 46.9 | 157  | 27.5 | 6.5  | \n",
       "| 18.0 | 57.3 | 167  | 32.5 | 6.5  | \n",
       "| 26.3 | 55.0 | 167  | 22.5 | 6.5  | \n",
       "|  9.9 | 58.9 | 167  | 27.5 | 9.5  | \n",
       "| 25.0 | 50.3 | 167  | 27.5 | 3.5  | \n",
       "| 14.1 | 61.1 | 177  | 20.0 | 6.5  | \n",
       "| 15.2 | 62.9 | 177  | 20.0 | 6.5  | \n",
       "| 15.9 | 60.0 | 160  | 34.0 | 7.5  | \n",
       "| 19.6 | 60.6 | 160  | 34.0 | 7.5  | \n",
       "\n",
       "\n"
      ],
      "text/plain": [
       "   y1   y2   x1  x2   x3 \n",
       "1  41.5 45.9 162 23.0 3.0\n",
       "2  33.8 53.3 162 23.0 8.0\n",
       "3  27.7 57.5 162 30.0 5.0\n",
       "4  21.7 58.8 162 30.0 8.0\n",
       "5  19.9 60.6 172 25.0 5.0\n",
       "6  15.0 58.0 172 25.0 8.0\n",
       "7  12.2 58.6 172 30.0 5.0\n",
       "8   4.3 52.4 172 30.0 8.0\n",
       "9  19.3 56.9 167 27.5 6.5\n",
       "10  6.4 55.4 177 27.5 6.5\n",
       "11 37.6 46.9 157 27.5 6.5\n",
       "12 18.0 57.3 167 32.5 6.5\n",
       "13 26.3 55.0 167 22.5 6.5\n",
       "14  9.9 58.9 167 27.5 9.5\n",
       "15 25.0 50.3 167 27.5 3.5\n",
       "16 14.1 61.1 177 20.0 6.5\n",
       "17 15.2 62.9 177 20.0 6.5\n",
       "18 15.9 60.0 160 34.0 7.5\n",
       "19 19.6 60.6 160 34.0 7.5"
      ]
     },
     "metadata": {},
     "output_type": "display_data"
    }
   ],
   "source": [
    "setwd(\"/home/analulae/R_Basico/Archivos-ejemplo\")\n",
    "read.csv(file = \"ejemplo.csv\", header = TRUE, sep = \",\")"
   ]
  },
  {
   "cell_type": "code",
   "execution_count": 17,
   "metadata": {},
   "outputs": [
    {
     "data": {
      "text/html": [
       "<table>\n",
       "<thead><tr><th scope=col>y1</th><th scope=col>y2</th><th scope=col>x1</th><th scope=col>x2</th><th scope=col>x3</th></tr></thead>\n",
       "<tbody>\n",
       "\t<tr><td>41.5</td><td>45.9</td><td>162 </td><td>23  </td><td>3   </td></tr>\n",
       "\t<tr><td>33.8</td><td>53.3</td><td>162 </td><td>23  </td><td>8   </td></tr>\n",
       "\t<tr><td>27.7</td><td>57.5</td><td>162 </td><td>30  </td><td>5   </td></tr>\n",
       "\t<tr><td>21.7</td><td>58.8</td><td>162 </td><td>30  </td><td>8   </td></tr>\n",
       "\t<tr><td>19.9</td><td>60.6</td><td>172 </td><td>25  </td><td>5   </td></tr>\n",
       "\t<tr><td>15.0</td><td>58.0</td><td>172 </td><td>25  </td><td>8   </td></tr>\n",
       "\t<tr><td>12.2</td><td>58.6</td><td>172 </td><td>30  </td><td>5   </td></tr>\n",
       "\t<tr><td>4.3 </td><td>52.4</td><td>172 </td><td>30  </td><td>8   </td></tr>\n",
       "\t<tr><td>19.3</td><td>56.9</td><td>167 </td><td>27.5</td><td>6.5 </td></tr>\n",
       "\t<tr><td>6.4 </td><td>55.4</td><td>177 </td><td>27.5</td><td>6.5 </td></tr>\n",
       "\t<tr><td>37.6</td><td>46.9</td><td>157 </td><td>27.5</td><td>6.5 </td></tr>\n",
       "\t<tr><td>18.0</td><td>57.3</td><td>167 </td><td>32.5</td><td>6.5 </td></tr>\n",
       "\t<tr><td>26.3</td><td>55.0</td><td>167 </td><td>22.5</td><td>6.5 </td></tr>\n",
       "\t<tr><td>9.9 </td><td>58.9</td><td>167 </td><td>27.5</td><td>9.5 </td></tr>\n",
       "\t<tr><td>25.0</td><td>50.3</td><td>167 </td><td>27.5</td><td>3.5 </td></tr>\n",
       "\t<tr><td>14.1</td><td>61.1</td><td>177 </td><td>20  </td><td>6.5 </td></tr>\n",
       "\t<tr><td>15.2</td><td>62.9</td><td>177 </td><td>20  </td><td>6.5 </td></tr>\n",
       "\t<tr><td>15.9</td><td>60.0</td><td>160 </td><td>34  </td><td>7.5 </td></tr>\n",
       "\t<tr><td>19.6</td><td>60.6</td><td>160 </td><td>34  </td><td>7.5 </td></tr>\n",
       "</tbody>\n",
       "</table>\n"
      ],
      "text/latex": [
       "\\begin{tabular}{r|lllll}\n",
       " y1 & y2 & x1 & x2 & x3\\\\\n",
       "\\hline\n",
       "\t 41.5 & 45.9 & 162  & 23   & 3   \\\\\n",
       "\t 33.8 & 53.3 & 162  & 23   & 8   \\\\\n",
       "\t 27.7 & 57.5 & 162  & 30   & 5   \\\\\n",
       "\t 21.7 & 58.8 & 162  & 30   & 8   \\\\\n",
       "\t 19.9 & 60.6 & 172  & 25   & 5   \\\\\n",
       "\t 15.0 & 58.0 & 172  & 25   & 8   \\\\\n",
       "\t 12.2 & 58.6 & 172  & 30   & 5   \\\\\n",
       "\t 4.3  & 52.4 & 172  & 30   & 8   \\\\\n",
       "\t 19.3 & 56.9 & 167  & 27.5 & 6.5 \\\\\n",
       "\t 6.4  & 55.4 & 177  & 27.5 & 6.5 \\\\\n",
       "\t 37.6 & 46.9 & 157  & 27.5 & 6.5 \\\\\n",
       "\t 18.0 & 57.3 & 167  & 32.5 & 6.5 \\\\\n",
       "\t 26.3 & 55.0 & 167  & 22.5 & 6.5 \\\\\n",
       "\t 9.9  & 58.9 & 167  & 27.5 & 9.5 \\\\\n",
       "\t 25.0 & 50.3 & 167  & 27.5 & 3.5 \\\\\n",
       "\t 14.1 & 61.1 & 177  & 20   & 6.5 \\\\\n",
       "\t 15.2 & 62.9 & 177  & 20   & 6.5 \\\\\n",
       "\t 15.9 & 60.0 & 160  & 34   & 7.5 \\\\\n",
       "\t 19.6 & 60.6 & 160  & 34   & 7.5 \\\\\n",
       "\\end{tabular}\n"
      ],
      "text/markdown": [
       "\n",
       "y1 | y2 | x1 | x2 | x3 | \n",
       "|---|---|---|---|---|---|---|---|---|---|---|---|---|---|---|---|---|---|---|\n",
       "| 41.5 | 45.9 | 162  | 23   | 3    | \n",
       "| 33.8 | 53.3 | 162  | 23   | 8    | \n",
       "| 27.7 | 57.5 | 162  | 30   | 5    | \n",
       "| 21.7 | 58.8 | 162  | 30   | 8    | \n",
       "| 19.9 | 60.6 | 172  | 25   | 5    | \n",
       "| 15.0 | 58.0 | 172  | 25   | 8    | \n",
       "| 12.2 | 58.6 | 172  | 30   | 5    | \n",
       "| 4.3  | 52.4 | 172  | 30   | 8    | \n",
       "| 19.3 | 56.9 | 167  | 27.5 | 6.5  | \n",
       "| 6.4  | 55.4 | 177  | 27.5 | 6.5  | \n",
       "| 37.6 | 46.9 | 157  | 27.5 | 6.5  | \n",
       "| 18.0 | 57.3 | 167  | 32.5 | 6.5  | \n",
       "| 26.3 | 55.0 | 167  | 22.5 | 6.5  | \n",
       "| 9.9  | 58.9 | 167  | 27.5 | 9.5  | \n",
       "| 25.0 | 50.3 | 167  | 27.5 | 3.5  | \n",
       "| 14.1 | 61.1 | 177  | 20   | 6.5  | \n",
       "| 15.2 | 62.9 | 177  | 20   | 6.5  | \n",
       "| 15.9 | 60.0 | 160  | 34   | 7.5  | \n",
       "| 19.6 | 60.6 | 160  | 34   | 7.5  | \n",
       "\n",
       "\n"
      ],
      "text/plain": [
       "   y1   y2   x1  x2   x3 \n",
       "1  41.5 45.9 162 23   3  \n",
       "2  33.8 53.3 162 23   8  \n",
       "3  27.7 57.5 162 30   5  \n",
       "4  21.7 58.8 162 30   8  \n",
       "5  19.9 60.6 172 25   5  \n",
       "6  15.0 58.0 172 25   8  \n",
       "7  12.2 58.6 172 30   5  \n",
       "8  4.3  52.4 172 30   8  \n",
       "9  19.3 56.9 167 27.5 6.5\n",
       "10 6.4  55.4 177 27.5 6.5\n",
       "11 37.6 46.9 157 27.5 6.5\n",
       "12 18.0 57.3 167 32.5 6.5\n",
       "13 26.3 55.0 167 22.5 6.5\n",
       "14 9.9  58.9 167 27.5 9.5\n",
       "15 25.0 50.3 167 27.5 3.5\n",
       "16 14.1 61.1 177 20   6.5\n",
       "17 15.2 62.9 177 20   6.5\n",
       "18 15.9 60.0 160 34   7.5\n",
       "19 19.6 60.6 160 34   7.5"
      ]
     },
     "metadata": {},
     "output_type": "display_data"
    }
   ],
   "source": [
    "read.csv2(file = \"ejemplo1.csv\", header = TRUE, sep = \";\")"
   ]
  },
  {
   "cell_type": "markdown",
   "metadata": {
    "collapsed": true
   },
   "source": [
    "### Importar archivos Excel"
   ]
  },
  {
   "cell_type": "markdown",
   "metadata": {
    "collapsed": true
   },
   "source": [
    "Para importar archivos directamente desde excel (.xls) se deben cargar paquetes adicionales o seleccionar los datos, copiarlos y acceder a ellos con este código:\n"
   ]
  },
  {
   "cell_type": "code",
   "execution_count": 24,
   "metadata": {},
   "outputs": [
    {
     "data": {
      "text/html": [
       "<table>\n",
       "<thead><tr><th scope=col>y1</th><th scope=col>y2</th><th scope=col>x1</th><th scope=col>x2</th><th scope=col>x3</th></tr></thead>\n",
       "<tbody>\n",
       "\t<tr><td>41.5</td><td>45.9</td><td>162 </td><td>23  </td><td>3   </td></tr>\n",
       "\t<tr><td>33.8</td><td>53.3</td><td>162 </td><td>23  </td><td>8   </td></tr>\n",
       "\t<tr><td>27.7</td><td>57.5</td><td>162 </td><td>30  </td><td>5   </td></tr>\n",
       "\t<tr><td>21.7</td><td>58.8</td><td>162 </td><td>30  </td><td>8   </td></tr>\n",
       "\t<tr><td>19.9</td><td>60.6</td><td>172 </td><td>25  </td><td>5   </td></tr>\n",
       "\t<tr><td>15.0</td><td>58.0</td><td>172 </td><td>25  </td><td>8   </td></tr>\n",
       "</tbody>\n",
       "</table>\n"
      ],
      "text/latex": [
       "\\begin{tabular}{r|lllll}\n",
       " y1 & y2 & x1 & x2 & x3\\\\\n",
       "\\hline\n",
       "\t 41.5 & 45.9 & 162  & 23   & 3   \\\\\n",
       "\t 33.8 & 53.3 & 162  & 23   & 8   \\\\\n",
       "\t 27.7 & 57.5 & 162  & 30   & 5   \\\\\n",
       "\t 21.7 & 58.8 & 162  & 30   & 8   \\\\\n",
       "\t 19.9 & 60.6 & 172  & 25   & 5   \\\\\n",
       "\t 15.0 & 58.0 & 172  & 25   & 8   \\\\\n",
       "\\end{tabular}\n"
      ],
      "text/markdown": [
       "\n",
       "y1 | y2 | x1 | x2 | x3 | \n",
       "|---|---|---|---|---|---|\n",
       "| 41.5 | 45.9 | 162  | 23   | 3    | \n",
       "| 33.8 | 53.3 | 162  | 23   | 8    | \n",
       "| 27.7 | 57.5 | 162  | 30   | 5    | \n",
       "| 21.7 | 58.8 | 162  | 30   | 8    | \n",
       "| 19.9 | 60.6 | 172  | 25   | 5    | \n",
       "| 15.0 | 58.0 | 172  | 25   | 8    | \n",
       "\n",
       "\n"
      ],
      "text/plain": [
       "  y1   y2   x1  x2 x3\n",
       "1 41.5 45.9 162 23 3 \n",
       "2 33.8 53.3 162 23 8 \n",
       "3 27.7 57.5 162 30 5 \n",
       "4 21.7 58.8 162 30 8 \n",
       "5 19.9 60.6 172 25 5 \n",
       "6 15.0 58.0 172 25 8 "
      ]
     },
     "metadata": {},
     "output_type": "display_data"
    }
   ],
   "source": [
    "#Abrir el archivo de excel del ejemplo y copiar los datos\n",
    "read.table(file = \"clipboard\", sep = \"\\t\", header=TRUE)"
   ]
  },
  {
   "cell_type": "markdown",
   "metadata": {},
   "source": [
    "## Desde RStudio"
   ]
  },
  {
   "cell_type": "markdown",
   "metadata": {},
   "source": [
    "En la ventana superior derecha, en la pestaña Environment, existe el botón \"Import Dataset\", donde se puede cargar un archivo txt o un URL."
   ]
  },
  {
   "cell_type": "markdown",
   "metadata": {},
   "source": [
    "## Exportar "
   ]
  },
  {
   "cell_type": "markdown",
   "metadata": {},
   "source": [
    "Primero debemos importar los datos:"
   ]
  },
  {
   "cell_type": "code",
   "execution_count": 51,
   "metadata": {},
   "outputs": [
    {
     "data": {
      "text/html": [
       "<table>\n",
       "<thead><tr><th scope=col>X</th><th scope=col>y1</th><th scope=col>y2</th><th scope=col>x1</th><th scope=col>x2</th><th scope=col>x3</th></tr></thead>\n",
       "<tbody>\n",
       "\t<tr><td> 1  </td><td>41.5</td><td>45.9</td><td>162 </td><td>23.0</td><td>3.0 </td></tr>\n",
       "\t<tr><td> 2  </td><td>33.8</td><td>53.3</td><td>162 </td><td>23.0</td><td>8.0 </td></tr>\n",
       "\t<tr><td> 3  </td><td>27.7</td><td>57.5</td><td>162 </td><td>30.0</td><td>5.0 </td></tr>\n",
       "\t<tr><td> 4  </td><td>21.7</td><td>58.8</td><td>162 </td><td>30.0</td><td>8.0 </td></tr>\n",
       "\t<tr><td> 5  </td><td>19.9</td><td>60.6</td><td>172 </td><td>25.0</td><td>5.0 </td></tr>\n",
       "\t<tr><td> 6  </td><td>15.0</td><td>58.0</td><td>172 </td><td>25.0</td><td>8.0 </td></tr>\n",
       "\t<tr><td> 7  </td><td>12.2</td><td>58.6</td><td>172 </td><td>30.0</td><td>5.0 </td></tr>\n",
       "\t<tr><td> 8  </td><td> 4.3</td><td>52.4</td><td>172 </td><td>30.0</td><td>8.0 </td></tr>\n",
       "\t<tr><td> 9  </td><td>19.3</td><td>56.9</td><td>167 </td><td>27.5</td><td>6.5 </td></tr>\n",
       "\t<tr><td>10  </td><td> 6.4</td><td>55.4</td><td>177 </td><td>27.5</td><td>6.5 </td></tr>\n",
       "\t<tr><td>11  </td><td>37.6</td><td>46.9</td><td>157 </td><td>27.5</td><td>6.5 </td></tr>\n",
       "\t<tr><td>12  </td><td>18.0</td><td>57.3</td><td>167 </td><td>32.5</td><td>6.5 </td></tr>\n",
       "\t<tr><td>13  </td><td>26.3</td><td>55.0</td><td>167 </td><td>22.5</td><td>6.5 </td></tr>\n",
       "\t<tr><td>14  </td><td> 9.9</td><td>58.9</td><td>167 </td><td>27.5</td><td>9.5 </td></tr>\n",
       "\t<tr><td>15  </td><td>25.0</td><td>50.3</td><td>167 </td><td>27.5</td><td>3.5 </td></tr>\n",
       "\t<tr><td>16  </td><td>14.1</td><td>61.1</td><td>177 </td><td>20.0</td><td>6.5 </td></tr>\n",
       "\t<tr><td>17  </td><td>15.2</td><td>62.9</td><td>177 </td><td>20.0</td><td>6.5 </td></tr>\n",
       "\t<tr><td>18  </td><td>15.9</td><td>60.0</td><td>160 </td><td>34.0</td><td>7.5 </td></tr>\n",
       "\t<tr><td>19  </td><td>19.6</td><td>60.6</td><td>160 </td><td>34.0</td><td>7.5 </td></tr>\n",
       "</tbody>\n",
       "</table>\n"
      ],
      "text/latex": [
       "\\begin{tabular}{r|llllll}\n",
       " X & y1 & y2 & x1 & x2 & x3\\\\\n",
       "\\hline\n",
       "\t  1   & 41.5 & 45.9 & 162  & 23.0 & 3.0 \\\\\n",
       "\t  2   & 33.8 & 53.3 & 162  & 23.0 & 8.0 \\\\\n",
       "\t  3   & 27.7 & 57.5 & 162  & 30.0 & 5.0 \\\\\n",
       "\t  4   & 21.7 & 58.8 & 162  & 30.0 & 8.0 \\\\\n",
       "\t  5   & 19.9 & 60.6 & 172  & 25.0 & 5.0 \\\\\n",
       "\t  6   & 15.0 & 58.0 & 172  & 25.0 & 8.0 \\\\\n",
       "\t  7   & 12.2 & 58.6 & 172  & 30.0 & 5.0 \\\\\n",
       "\t  8   &  4.3 & 52.4 & 172  & 30.0 & 8.0 \\\\\n",
       "\t  9   & 19.3 & 56.9 & 167  & 27.5 & 6.5 \\\\\n",
       "\t 10   &  6.4 & 55.4 & 177  & 27.5 & 6.5 \\\\\n",
       "\t 11   & 37.6 & 46.9 & 157  & 27.5 & 6.5 \\\\\n",
       "\t 12   & 18.0 & 57.3 & 167  & 32.5 & 6.5 \\\\\n",
       "\t 13   & 26.3 & 55.0 & 167  & 22.5 & 6.5 \\\\\n",
       "\t 14   &  9.9 & 58.9 & 167  & 27.5 & 9.5 \\\\\n",
       "\t 15   & 25.0 & 50.3 & 167  & 27.5 & 3.5 \\\\\n",
       "\t 16   & 14.1 & 61.1 & 177  & 20.0 & 6.5 \\\\\n",
       "\t 17   & 15.2 & 62.9 & 177  & 20.0 & 6.5 \\\\\n",
       "\t 18   & 15.9 & 60.0 & 160  & 34.0 & 7.5 \\\\\n",
       "\t 19   & 19.6 & 60.6 & 160  & 34.0 & 7.5 \\\\\n",
       "\\end{tabular}\n"
      ],
      "text/markdown": [
       "\n",
       "X | y1 | y2 | x1 | x2 | x3 | \n",
       "|---|---|---|---|---|---|---|---|---|---|---|---|---|---|---|---|---|---|---|\n",
       "|  1   | 41.5 | 45.9 | 162  | 23.0 | 3.0  | \n",
       "|  2   | 33.8 | 53.3 | 162  | 23.0 | 8.0  | \n",
       "|  3   | 27.7 | 57.5 | 162  | 30.0 | 5.0  | \n",
       "|  4   | 21.7 | 58.8 | 162  | 30.0 | 8.0  | \n",
       "|  5   | 19.9 | 60.6 | 172  | 25.0 | 5.0  | \n",
       "|  6   | 15.0 | 58.0 | 172  | 25.0 | 8.0  | \n",
       "|  7   | 12.2 | 58.6 | 172  | 30.0 | 5.0  | \n",
       "|  8   |  4.3 | 52.4 | 172  | 30.0 | 8.0  | \n",
       "|  9   | 19.3 | 56.9 | 167  | 27.5 | 6.5  | \n",
       "| 10   |  6.4 | 55.4 | 177  | 27.5 | 6.5  | \n",
       "| 11   | 37.6 | 46.9 | 157  | 27.5 | 6.5  | \n",
       "| 12   | 18.0 | 57.3 | 167  | 32.5 | 6.5  | \n",
       "| 13   | 26.3 | 55.0 | 167  | 22.5 | 6.5  | \n",
       "| 14   |  9.9 | 58.9 | 167  | 27.5 | 9.5  | \n",
       "| 15   | 25.0 | 50.3 | 167  | 27.5 | 3.5  | \n",
       "| 16   | 14.1 | 61.1 | 177  | 20.0 | 6.5  | \n",
       "| 17   | 15.2 | 62.9 | 177  | 20.0 | 6.5  | \n",
       "| 18   | 15.9 | 60.0 | 160  | 34.0 | 7.5  | \n",
       "| 19   | 19.6 | 60.6 | 160  | 34.0 | 7.5  | \n",
       "\n",
       "\n"
      ],
      "text/plain": [
       "   X  y1   y2   x1  x2   x3 \n",
       "1   1 41.5 45.9 162 23.0 3.0\n",
       "2   2 33.8 53.3 162 23.0 8.0\n",
       "3   3 27.7 57.5 162 30.0 5.0\n",
       "4   4 21.7 58.8 162 30.0 8.0\n",
       "5   5 19.9 60.6 172 25.0 5.0\n",
       "6   6 15.0 58.0 172 25.0 8.0\n",
       "7   7 12.2 58.6 172 30.0 5.0\n",
       "8   8  4.3 52.4 172 30.0 8.0\n",
       "9   9 19.3 56.9 167 27.5 6.5\n",
       "10 10  6.4 55.4 177 27.5 6.5\n",
       "11 11 37.6 46.9 157 27.5 6.5\n",
       "12 12 18.0 57.3 167 32.5 6.5\n",
       "13 13 26.3 55.0 167 22.5 6.5\n",
       "14 14  9.9 58.9 167 27.5 9.5\n",
       "15 15 25.0 50.3 167 27.5 3.5\n",
       "16 16 14.1 61.1 177 20.0 6.5\n",
       "17 17 15.2 62.9 177 20.0 6.5\n",
       "18 18 15.9 60.0 160 34.0 7.5\n",
       "19 19 19.6 60.6 160 34.0 7.5"
      ]
     },
     "metadata": {},
     "output_type": "display_data"
    }
   ],
   "source": [
    "ejemplo <- read.table(file = \"ejemplo.txt\", header = TRUE)\n",
    "write.csv(ejemplo, \"ejemplo_nuevo.csv\")\n",
    "ejemplo_csv  <- read.csv(file = \"ejemplo_nuevo.csv\")\n",
    "ejemplo_csv"
   ]
  },
  {
   "cell_type": "code",
   "execution_count": 49,
   "metadata": {},
   "outputs": [
    {
     "data": {
      "text/html": [
       "<table>\n",
       "<thead><tr><th scope=col>X</th><th scope=col>y1</th><th scope=col>y2</th><th scope=col>x1</th><th scope=col>x2</th><th scope=col>x3</th></tr></thead>\n",
       "<tbody>\n",
       "\t<tr><td> 1  </td><td>41.5</td><td>45.9</td><td>162 </td><td>23.0</td><td>3.0 </td></tr>\n",
       "\t<tr><td> 2  </td><td>33.8</td><td>53.3</td><td>162 </td><td>23.0</td><td>8.0 </td></tr>\n",
       "\t<tr><td> 3  </td><td>27.7</td><td>57.5</td><td>162 </td><td>30.0</td><td>5.0 </td></tr>\n",
       "\t<tr><td> 4  </td><td>21.7</td><td>58.8</td><td>162 </td><td>30.0</td><td>8.0 </td></tr>\n",
       "\t<tr><td> 5  </td><td>19.9</td><td>60.6</td><td>172 </td><td>25.0</td><td>5.0 </td></tr>\n",
       "\t<tr><td> 6  </td><td>15.0</td><td>58.0</td><td>172 </td><td>25.0</td><td>8.0 </td></tr>\n",
       "\t<tr><td> 7  </td><td>12.2</td><td>58.6</td><td>172 </td><td>30.0</td><td>5.0 </td></tr>\n",
       "\t<tr><td> 8  </td><td> 4.3</td><td>52.4</td><td>172 </td><td>30.0</td><td>8.0 </td></tr>\n",
       "\t<tr><td> 9  </td><td>19.3</td><td>56.9</td><td>167 </td><td>27.5</td><td>6.5 </td></tr>\n",
       "\t<tr><td>10  </td><td> 6.4</td><td>55.4</td><td>177 </td><td>27.5</td><td>6.5 </td></tr>\n",
       "\t<tr><td>11  </td><td>37.6</td><td>46.9</td><td>157 </td><td>27.5</td><td>6.5 </td></tr>\n",
       "\t<tr><td>12  </td><td>18.0</td><td>57.3</td><td>167 </td><td>32.5</td><td>6.5 </td></tr>\n",
       "\t<tr><td>13  </td><td>26.3</td><td>55.0</td><td>167 </td><td>22.5</td><td>6.5 </td></tr>\n",
       "\t<tr><td>14  </td><td> 9.9</td><td>58.9</td><td>167 </td><td>27.5</td><td>9.5 </td></tr>\n",
       "\t<tr><td>15  </td><td>25.0</td><td>50.3</td><td>167 </td><td>27.5</td><td>3.5 </td></tr>\n",
       "\t<tr><td>16  </td><td>14.1</td><td>61.1</td><td>177 </td><td>20.0</td><td>6.5 </td></tr>\n",
       "\t<tr><td>17  </td><td>15.2</td><td>62.9</td><td>177 </td><td>20.0</td><td>6.5 </td></tr>\n",
       "\t<tr><td>18  </td><td>15.9</td><td>60.0</td><td>160 </td><td>34.0</td><td>7.5 </td></tr>\n",
       "\t<tr><td>19  </td><td>19.6</td><td>60.6</td><td>160 </td><td>34.0</td><td>7.5 </td></tr>\n",
       "</tbody>\n",
       "</table>\n"
      ],
      "text/latex": [
       "\\begin{tabular}{r|llllll}\n",
       " X & y1 & y2 & x1 & x2 & x3\\\\\n",
       "\\hline\n",
       "\t  1   & 41.5 & 45.9 & 162  & 23.0 & 3.0 \\\\\n",
       "\t  2   & 33.8 & 53.3 & 162  & 23.0 & 8.0 \\\\\n",
       "\t  3   & 27.7 & 57.5 & 162  & 30.0 & 5.0 \\\\\n",
       "\t  4   & 21.7 & 58.8 & 162  & 30.0 & 8.0 \\\\\n",
       "\t  5   & 19.9 & 60.6 & 172  & 25.0 & 5.0 \\\\\n",
       "\t  6   & 15.0 & 58.0 & 172  & 25.0 & 8.0 \\\\\n",
       "\t  7   & 12.2 & 58.6 & 172  & 30.0 & 5.0 \\\\\n",
       "\t  8   &  4.3 & 52.4 & 172  & 30.0 & 8.0 \\\\\n",
       "\t  9   & 19.3 & 56.9 & 167  & 27.5 & 6.5 \\\\\n",
       "\t 10   &  6.4 & 55.4 & 177  & 27.5 & 6.5 \\\\\n",
       "\t 11   & 37.6 & 46.9 & 157  & 27.5 & 6.5 \\\\\n",
       "\t 12   & 18.0 & 57.3 & 167  & 32.5 & 6.5 \\\\\n",
       "\t 13   & 26.3 & 55.0 & 167  & 22.5 & 6.5 \\\\\n",
       "\t 14   &  9.9 & 58.9 & 167  & 27.5 & 9.5 \\\\\n",
       "\t 15   & 25.0 & 50.3 & 167  & 27.5 & 3.5 \\\\\n",
       "\t 16   & 14.1 & 61.1 & 177  & 20.0 & 6.5 \\\\\n",
       "\t 17   & 15.2 & 62.9 & 177  & 20.0 & 6.5 \\\\\n",
       "\t 18   & 15.9 & 60.0 & 160  & 34.0 & 7.5 \\\\\n",
       "\t 19   & 19.6 & 60.6 & 160  & 34.0 & 7.5 \\\\\n",
       "\\end{tabular}\n"
      ],
      "text/markdown": [
       "\n",
       "X | y1 | y2 | x1 | x2 | x3 | \n",
       "|---|---|---|---|---|---|---|---|---|---|---|---|---|---|---|---|---|---|---|\n",
       "|  1   | 41.5 | 45.9 | 162  | 23.0 | 3.0  | \n",
       "|  2   | 33.8 | 53.3 | 162  | 23.0 | 8.0  | \n",
       "|  3   | 27.7 | 57.5 | 162  | 30.0 | 5.0  | \n",
       "|  4   | 21.7 | 58.8 | 162  | 30.0 | 8.0  | \n",
       "|  5   | 19.9 | 60.6 | 172  | 25.0 | 5.0  | \n",
       "|  6   | 15.0 | 58.0 | 172  | 25.0 | 8.0  | \n",
       "|  7   | 12.2 | 58.6 | 172  | 30.0 | 5.0  | \n",
       "|  8   |  4.3 | 52.4 | 172  | 30.0 | 8.0  | \n",
       "|  9   | 19.3 | 56.9 | 167  | 27.5 | 6.5  | \n",
       "| 10   |  6.4 | 55.4 | 177  | 27.5 | 6.5  | \n",
       "| 11   | 37.6 | 46.9 | 157  | 27.5 | 6.5  | \n",
       "| 12   | 18.0 | 57.3 | 167  | 32.5 | 6.5  | \n",
       "| 13   | 26.3 | 55.0 | 167  | 22.5 | 6.5  | \n",
       "| 14   |  9.9 | 58.9 | 167  | 27.5 | 9.5  | \n",
       "| 15   | 25.0 | 50.3 | 167  | 27.5 | 3.5  | \n",
       "| 16   | 14.1 | 61.1 | 177  | 20.0 | 6.5  | \n",
       "| 17   | 15.2 | 62.9 | 177  | 20.0 | 6.5  | \n",
       "| 18   | 15.9 | 60.0 | 160  | 34.0 | 7.5  | \n",
       "| 19   | 19.6 | 60.6 | 160  | 34.0 | 7.5  | \n",
       "\n",
       "\n"
      ],
      "text/plain": [
       "   X  y1   y2   x1  x2   x3 \n",
       "1   1 41.5 45.9 162 23.0 3.0\n",
       "2   2 33.8 53.3 162 23.0 8.0\n",
       "3   3 27.7 57.5 162 30.0 5.0\n",
       "4   4 21.7 58.8 162 30.0 8.0\n",
       "5   5 19.9 60.6 172 25.0 5.0\n",
       "6   6 15.0 58.0 172 25.0 8.0\n",
       "7   7 12.2 58.6 172 30.0 5.0\n",
       "8   8  4.3 52.4 172 30.0 8.0\n",
       "9   9 19.3 56.9 167 27.5 6.5\n",
       "10 10  6.4 55.4 177 27.5 6.5\n",
       "11 11 37.6 46.9 157 27.5 6.5\n",
       "12 12 18.0 57.3 167 32.5 6.5\n",
       "13 13 26.3 55.0 167 22.5 6.5\n",
       "14 14  9.9 58.9 167 27.5 9.5\n",
       "15 15 25.0 50.3 167 27.5 3.5\n",
       "16 16 14.1 61.1 177 20.0 6.5\n",
       "17 17 15.2 62.9 177 20.0 6.5\n",
       "18 18 15.9 60.0 160 34.0 7.5\n",
       "19 19 19.6 60.6 160 34.0 7.5"
      ]
     },
     "metadata": {},
     "output_type": "display_data"
    }
   ],
   "source": [
    "write.table(ejemplo_csv, \"ejemplo_nuevo.txt\")\n",
    "ejemplo_txt  <- read.table(file = \"ejemplo_nuevo.txt\")\n",
    "ejemplo_txt"
   ]
  },
  {
   "cell_type": "markdown",
   "metadata": {},
   "source": [
    "El paquete \"foreign\" incluye funciones para compatibilizar el formato de otros paquetes estadísticos y bases de datos (e.g. S, SAS, SPSS, Stata,dBase) para importar y exportar datos desde R."
   ]
  }
 ],
 "metadata": {
  "kernelspec": {
   "display_name": "R",
   "language": "R",
   "name": "ir"
  },
  "language_info": {
   "codemirror_mode": "r",
   "file_extension": ".r",
   "mimetype": "text/x-r-source",
   "name": "R",
   "pygments_lexer": "r",
   "version": "3.2.3"
  }
 },
 "nbformat": 4,
 "nbformat_minor": 2
}
