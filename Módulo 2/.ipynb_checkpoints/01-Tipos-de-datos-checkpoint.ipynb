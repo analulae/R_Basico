{
 "cells": [
  {
   "cell_type": "markdown",
   "metadata": {},
   "source": [
    "# Tipos de Datos\n"
   ]
  },
  {
   "cell_type": "markdown",
   "metadata": {},
   "source": [
    "## Datos Numéricos "
   ]
  },
  {
   "cell_type": "markdown",
   "metadata": {},
   "source": [
    "Los valores numéricos enteros son valores \"integer\", mientras que los valores que contienen decimales son designados como \"numeric\". También encontramos los \"complex\", números complejos."
   ]
  },
  {
   "cell_type": "code",
   "execution_count": 11,
   "metadata": {
    "collapsed": true
   },
   "outputs": [],
   "source": [
    "# Hacer un vector con la función c() de 8 \"integer\"\n",
    "# Nota: guardar en un objeto"
   ]
  },
  {
   "cell_type": "code",
   "execution_count": null,
   "metadata": {
    "collapsed": true
   },
   "outputs": [],
   "source": [
    "# Hacer un vector con la función c() de 7 \"numeric\"\n",
    "# Nota: guardar en un objeto"
   ]
  },
  {
   "cell_type": "markdown",
   "metadata": {},
   "source": [
    "## Texto\n"
   ]
  },
  {
   "cell_type": "markdown",
   "metadata": {},
   "source": [
    "R reconoce dos tipos de datos de texto:\n",
    "- Character: etiquetas de texto plano (Tiene comillas)\n",
    "- Factor: texto plano con líneas adicionales para todas las opciones de la lista (No tiene comillas)\n",
    "- Logical: solo toman dos valores (TRUE o FALSE)"
   ]
  },
  {
   "cell_type": "code",
   "execution_count": null,
   "metadata": {
    "collapsed": true
   },
   "outputs": [],
   "source": [
    "# Hacer un vector con la función c() de 5 \"character\"\n",
    "# Nota: guardar en un objeto"
   ]
  },
  {
   "cell_type": "code",
   "execution_count": 9,
   "metadata": {
    "collapsed": true
   },
   "outputs": [],
   "source": [
    "# Hacer un vector con la función c() de 6 \"factor\"(TRUE & FALSE)\n",
    "# Nota: guardar en un objeto\n"
   ]
  },
  {
   "cell_type": "markdown",
   "metadata": {},
   "source": [
    "## Convertir números a texto y viceversa "
   ]
  },
  {
   "cell_type": "markdown",
   "metadata": {},
   "source": [
    "Tenemos las siguientes funciones:\n",
    "- as.character()\n",
    "- as.factor()\n",
    "- as.numeric()\n",
    "- as.integer()\n"
   ]
  },
  {
   "cell_type": "code",
   "execution_count": null,
   "metadata": {
    "collapsed": true
   },
   "outputs": [],
   "source": [
    "# Cambiar de los ejemplos anteriores:\n",
    "# numeric -> character\n",
    "# character -> numeric\n",
    "# numeric -> integer\n",
    "# integer -> numeric\n",
    "# factor -> character"
   ]
  },
  {
   "cell_type": "markdown",
   "metadata": {},
   "source": [
    "Si la valores originales de los factores eran números, se puede convertir un factor en un valor numérico."
   ]
  }
 ],
 "metadata": {
  "kernelspec": {
   "display_name": "R",
   "language": "R",
   "name": "ir"
  },
  "language_info": {
   "codemirror_mode": "r",
   "file_extension": ".r",
   "mimetype": "text/x-r-source",
   "name": "R",
   "pygments_lexer": "r",
   "version": "3.4.1"
  }
 },
 "nbformat": 4,
 "nbformat_minor": 2
}
