{
 "cells": [
  {
   "cell_type": "markdown",
   "metadata": {},
   "source": [
    "# Estructuras de datos"
   ]
  },
  {
   "cell_type": "markdown",
   "metadata": {},
   "source": [
    "## Vectores"
   ]
  },
  {
   "cell_type": "markdown",
   "metadata": {},
   "source": [
    "Anteriormente hemos creado vectores de longitud 1 cuando guardamos en un objeto un único número.\n",
    "También observamos que podemos crear vectores con las funciones `c()` y `scan()`.\n",
    "\n",
    "Pero también podemos crearlos con secuencias, repeticiones, y la función `paste()`   "
   ]
  },
  {
   "cell_type": "code",
   "execution_count": 7,
   "metadata": {},
   "outputs": [
    {
     "data": {
      "text/html": [
       "<ol class=list-inline>\n",
       "\t<li>1</li>\n",
       "\t<li>2</li>\n",
       "\t<li>3</li>\n",
       "\t<li>4</li>\n",
       "\t<li>5</li>\n",
       "\t<li>6</li>\n",
       "\t<li>7</li>\n",
       "\t<li>8</li>\n",
       "</ol>\n"
      ],
      "text/latex": [
       "\\begin{enumerate*}\n",
       "\\item 1\n",
       "\\item 2\n",
       "\\item 3\n",
       "\\item 4\n",
       "\\item 5\n",
       "\\item 6\n",
       "\\item 7\n",
       "\\item 8\n",
       "\\end{enumerate*}\n"
      ],
      "text/markdown": [
       "1. 1\n",
       "2. 2\n",
       "3. 3\n",
       "4. 4\n",
       "5. 5\n",
       "6. 6\n",
       "7. 7\n",
       "8. 8\n",
       "\n",
       "\n"
      ],
      "text/plain": [
       "[1] 1 2 3 4 5 6 7 8"
      ]
     },
     "metadata": {},
     "output_type": "display_data"
    },
    {
     "data": {
      "text/html": [
       "<ol class=list-inline>\n",
       "\t<li>1</li>\n",
       "\t<li>2</li>\n",
       "\t<li>3</li>\n",
       "\t<li>4</li>\n",
       "\t<li>5</li>\n",
       "\t<li>6</li>\n",
       "\t<li>7</li>\n",
       "\t<li>8</li>\n",
       "</ol>\n"
      ],
      "text/latex": [
       "\\begin{enumerate*}\n",
       "\\item 1\n",
       "\\item 2\n",
       "\\item 3\n",
       "\\item 4\n",
       "\\item 5\n",
       "\\item 6\n",
       "\\item 7\n",
       "\\item 8\n",
       "\\end{enumerate*}\n"
      ],
      "text/markdown": [
       "1. 1\n",
       "2. 2\n",
       "3. 3\n",
       "4. 4\n",
       "5. 5\n",
       "6. 6\n",
       "7. 7\n",
       "8. 8\n",
       "\n",
       "\n"
      ],
      "text/plain": [
       "[1] 1 2 3 4 5 6 7 8"
      ]
     },
     "metadata": {},
     "output_type": "display_data"
    },
    {
     "data": {
      "text/html": [
       "<ol class=list-inline>\n",
       "\t<li>1</li>\n",
       "\t<li>1.5</li>\n",
       "\t<li>2</li>\n",
       "\t<li>2.5</li>\n",
       "\t<li>3</li>\n",
       "\t<li>3.5</li>\n",
       "\t<li>4</li>\n",
       "\t<li>4.5</li>\n",
       "\t<li>5</li>\n",
       "\t<li>5.5</li>\n",
       "\t<li>6</li>\n",
       "\t<li>6.5</li>\n",
       "\t<li>7</li>\n",
       "\t<li>7.5</li>\n",
       "\t<li>8</li>\n",
       "</ol>\n"
      ],
      "text/latex": [
       "\\begin{enumerate*}\n",
       "\\item 1\n",
       "\\item 1.5\n",
       "\\item 2\n",
       "\\item 2.5\n",
       "\\item 3\n",
       "\\item 3.5\n",
       "\\item 4\n",
       "\\item 4.5\n",
       "\\item 5\n",
       "\\item 5.5\n",
       "\\item 6\n",
       "\\item 6.5\n",
       "\\item 7\n",
       "\\item 7.5\n",
       "\\item 8\n",
       "\\end{enumerate*}\n"
      ],
      "text/markdown": [
       "1. 1\n",
       "2. 1.5\n",
       "3. 2\n",
       "4. 2.5\n",
       "5. 3\n",
       "6. 3.5\n",
       "7. 4\n",
       "8. 4.5\n",
       "9. 5\n",
       "10. 5.5\n",
       "11. 6\n",
       "12. 6.5\n",
       "13. 7\n",
       "14. 7.5\n",
       "15. 8\n",
       "\n",
       "\n"
      ],
      "text/plain": [
       " [1] 1.0 1.5 2.0 2.5 3.0 3.5 4.0 4.5 5.0 5.5 6.0 6.5 7.0 7.5 8.0"
      ]
     },
     "metadata": {},
     "output_type": "display_data"
    },
    {
     "data": {
      "text/html": [
       "<ol class=list-inline>\n",
       "\t<li>1</li>\n",
       "\t<li>1.5</li>\n",
       "\t<li>2</li>\n",
       "\t<li>2.5</li>\n",
       "\t<li>3</li>\n",
       "\t<li>3.5</li>\n",
       "\t<li>4</li>\n",
       "\t<li>4.5</li>\n",
       "\t<li>5</li>\n",
       "\t<li>5.5</li>\n",
       "\t<li>6</li>\n",
       "\t<li>6.5</li>\n",
       "\t<li>7</li>\n",
       "\t<li>7.5</li>\n",
       "\t<li>8</li>\n",
       "</ol>\n"
      ],
      "text/latex": [
       "\\begin{enumerate*}\n",
       "\\item 1\n",
       "\\item 1.5\n",
       "\\item 2\n",
       "\\item 2.5\n",
       "\\item 3\n",
       "\\item 3.5\n",
       "\\item 4\n",
       "\\item 4.5\n",
       "\\item 5\n",
       "\\item 5.5\n",
       "\\item 6\n",
       "\\item 6.5\n",
       "\\item 7\n",
       "\\item 7.5\n",
       "\\item 8\n",
       "\\end{enumerate*}\n"
      ],
      "text/markdown": [
       "1. 1\n",
       "2. 1.5\n",
       "3. 2\n",
       "4. 2.5\n",
       "5. 3\n",
       "6. 3.5\n",
       "7. 4\n",
       "8. 4.5\n",
       "9. 5\n",
       "10. 5.5\n",
       "11. 6\n",
       "12. 6.5\n",
       "13. 7\n",
       "14. 7.5\n",
       "15. 8\n",
       "\n",
       "\n"
      ],
      "text/plain": [
       " [1] 1.0 1.5 2.0 2.5 3.0 3.5 4.0 4.5 5.0 5.5 6.0 6.5 7.0 7.5 8.0"
      ]
     },
     "metadata": {},
     "output_type": "display_data"
    },
    {
     "data": {
      "text/html": [
       "<ol class=list-inline>\n",
       "\t<li>7</li>\n",
       "\t<li>7</li>\n",
       "\t<li>7</li>\n",
       "\t<li>7</li>\n",
       "\t<li>7</li>\n",
       "</ol>\n"
      ],
      "text/latex": [
       "\\begin{enumerate*}\n",
       "\\item 7\n",
       "\\item 7\n",
       "\\item 7\n",
       "\\item 7\n",
       "\\item 7\n",
       "\\end{enumerate*}\n"
      ],
      "text/markdown": [
       "1. 7\n",
       "2. 7\n",
       "3. 7\n",
       "4. 7\n",
       "5. 7\n",
       "\n",
       "\n"
      ],
      "text/plain": [
       "[1] 7 7 7 7 7"
      ]
     },
     "metadata": {},
     "output_type": "display_data"
    },
    {
     "data": {
      "text/html": [
       "<ol class=list-inline>\n",
       "\t<li>1</li>\n",
       "\t<li>2</li>\n",
       "\t<li>3</li>\n",
       "\t<li>4</li>\n",
       "\t<li>5</li>\n",
       "\t<li>1</li>\n",
       "\t<li>2</li>\n",
       "\t<li>3</li>\n",
       "\t<li>4</li>\n",
       "\t<li>5</li>\n",
       "\t<li>1</li>\n",
       "\t<li>2</li>\n",
       "\t<li>3</li>\n",
       "\t<li>4</li>\n",
       "\t<li>5</li>\n",
       "</ol>\n"
      ],
      "text/latex": [
       "\\begin{enumerate*}\n",
       "\\item 1\n",
       "\\item 2\n",
       "\\item 3\n",
       "\\item 4\n",
       "\\item 5\n",
       "\\item 1\n",
       "\\item 2\n",
       "\\item 3\n",
       "\\item 4\n",
       "\\item 5\n",
       "\\item 1\n",
       "\\item 2\n",
       "\\item 3\n",
       "\\item 4\n",
       "\\item 5\n",
       "\\end{enumerate*}\n"
      ],
      "text/markdown": [
       "1. 1\n",
       "2. 2\n",
       "3. 3\n",
       "4. 4\n",
       "5. 5\n",
       "6. 1\n",
       "7. 2\n",
       "8. 3\n",
       "9. 4\n",
       "10. 5\n",
       "11. 1\n",
       "12. 2\n",
       "13. 3\n",
       "14. 4\n",
       "15. 5\n",
       "\n",
       "\n"
      ],
      "text/plain": [
       " [1] 1 2 3 4 5 1 2 3 4 5 1 2 3 4 5"
      ]
     },
     "metadata": {},
     "output_type": "display_data"
    },
    {
     "data": {
      "text/html": [
       "<ol class=list-inline>\n",
       "\t<li>'A'</li>\n",
       "\t<li>'B'</li>\n",
       "\t<li>'C'</li>\n",
       "\t<li>'A'</li>\n",
       "\t<li>'B'</li>\n",
       "\t<li>'C'</li>\n",
       "\t<li>'A'</li>\n",
       "\t<li>'B'</li>\n",
       "\t<li>'C'</li>\n",
       "</ol>\n"
      ],
      "text/latex": [
       "\\begin{enumerate*}\n",
       "\\item 'A'\n",
       "\\item 'B'\n",
       "\\item 'C'\n",
       "\\item 'A'\n",
       "\\item 'B'\n",
       "\\item 'C'\n",
       "\\item 'A'\n",
       "\\item 'B'\n",
       "\\item 'C'\n",
       "\\end{enumerate*}\n"
      ],
      "text/markdown": [
       "1. 'A'\n",
       "2. 'B'\n",
       "3. 'C'\n",
       "4. 'A'\n",
       "5. 'B'\n",
       "6. 'C'\n",
       "7. 'A'\n",
       "8. 'B'\n",
       "9. 'C'\n",
       "\n",
       "\n"
      ],
      "text/plain": [
       "[1] \"A\" \"B\" \"C\" \"A\" \"B\" \"C\" \"A\" \"B\" \"C\""
      ]
     },
     "metadata": {},
     "output_type": "display_data"
    },
    {
     "data": {
      "text/html": [
       "<ol class=list-inline>\n",
       "\t<li>'T 1'</li>\n",
       "\t<li>'T 2'</li>\n",
       "\t<li>'T 3'</li>\n",
       "\t<li>'T 4'</li>\n",
       "</ol>\n"
      ],
      "text/latex": [
       "\\begin{enumerate*}\n",
       "\\item 'T 1'\n",
       "\\item 'T 2'\n",
       "\\item 'T 3'\n",
       "\\item 'T 4'\n",
       "\\end{enumerate*}\n"
      ],
      "text/markdown": [
       "1. 'T 1'\n",
       "2. 'T 2'\n",
       "3. 'T 3'\n",
       "4. 'T 4'\n",
       "\n",
       "\n"
      ],
      "text/plain": [
       "[1] \"T 1\" \"T 2\" \"T 3\" \"T 4\""
      ]
     },
     "metadata": {},
     "output_type": "display_data"
    },
    {
     "data": {
      "text/html": [
       "<ol class=list-inline>\n",
       "\t<li>'T.1'</li>\n",
       "\t<li>'T.2'</li>\n",
       "\t<li>'T.3'</li>\n",
       "\t<li>'T.4'</li>\n",
       "</ol>\n"
      ],
      "text/latex": [
       "\\begin{enumerate*}\n",
       "\\item 'T.1'\n",
       "\\item 'T.2'\n",
       "\\item 'T.3'\n",
       "\\item 'T.4'\n",
       "\\end{enumerate*}\n"
      ],
      "text/markdown": [
       "1. 'T.1'\n",
       "2. 'T.2'\n",
       "3. 'T.3'\n",
       "4. 'T.4'\n",
       "\n",
       "\n"
      ],
      "text/plain": [
       "[1] \"T.1\" \"T.2\" \"T.3\" \"T.4\""
      ]
     },
     "metadata": {},
     "output_type": "display_data"
    }
   ],
   "source": [
    "#Generando secuencias de datos \n",
    "#Operador\n",
    "1:8\n",
    "#Función seq()\n",
    "seq (1,8)\n",
    "seq (1,8, by= .5) # Cambiando valores por defecto de los argumentos\n",
    "a <- seq (1,8, length=15)\n",
    "a\n",
    "#Función rep()\n",
    "rep (7,5)\n",
    "rep (1:5,3)\n",
    "b <- rep (c(\"A\", \"B\", \"C\"), 3)\n",
    "b\n",
    "#Función paste()\n",
    "paste(\"T\",1:4)\n",
    "c <- paste(\"T\",1:4,sep=\".\")\n",
    "c"
   ]
  },
  {
   "cell_type": "markdown",
   "metadata": {},
   "source": [
    "Una de las principales características más importantes de R es la posibilidad de usar un vector como argumento de las funciones y así utilizar todos los elementos del mismo."
   ]
  },
  {
   "cell_type": "code",
   "execution_count": 8,
   "metadata": {
    "collapsed": true
   },
   "outputs": [],
   "source": [
    "# Crear un vector x de 15 números\n",
    "# Aplicar función max()\n",
    "# Crear un vector d con los vectores a, b, c"
   ]
  },
  {
   "cell_type": "markdown",
   "metadata": {},
   "source": [
    "Existirán otras veces en las que necesitaremos acceder específicamente a un elemento del vector, como este tiene una sola dimensión, ubicaremos entre `[]` la posición del elemento a escoger. En R el índice comienza en 1."
   ]
  },
  {
   "cell_type": "code",
   "execution_count": 3,
   "metadata": {
    "collapsed": true
   },
   "outputs": [],
   "source": [
    "# Seleccionar el elemento 7 de x\n",
    "# Seleccitud 5ionar elementos del 9 al 12"
   ]
  },
  {
   "cell_type": "markdown",
   "metadata": {},
   "source": [
    "Podemos ordenar el vector en forma ascendente o decreciente con la función `sort()` y encontrar su longitud con `length()`."
   ]
  },
  {
   "cell_type": "code",
   "execution_count": null,
   "metadata": {
    "collapsed": true
   },
   "outputs": [],
   "source": [
    "# Ordenar x en orden ascendente\n",
    "# Averiguar la longitud de x"
   ]
  },
  {
   "cell_type": "markdown",
   "metadata": {},
   "source": [
    "### Operaciones con vectores"
   ]
  },
  {
   "cell_type": "raw",
   "metadata": {},
   "source": [
    "Suma, resta, división, exponenciación, se definen de elemento a elemento entre vectores"
   ]
  },
  {
   "cell_type": "code",
   "execution_count": 22,
   "metadata": {
    "collapsed": true
   },
   "outputs": [],
   "source": [
    "# Suma entre dos vectores de longitud 4\n",
    "# Resta de dos vectores de longitud 2\n",
    "# Multiplicación de dos vectores de longitud 3\n",
    "# Eleva a potencia \n",
    "    #(2, 3, 4)^(3:1)\n",
    "#Probemos los operadores lógicos >,<,="
   ]
  },
  {
   "cell_type": "code",
   "execution_count": null,
   "metadata": {
    "collapsed": true
   },
   "outputs": [],
   "source": []
  },
  {
   "cell_type": "markdown",
   "metadata": {},
   "source": [
    "## Data Frame\n"
   ]
  },
  {
   "cell_type": "markdown",
   "metadata": {},
   "source": [
    "Es un objeto bidimensional (filas x columnas).\n",
    "\n",
    "R trata las columnas (llamadas variables) como distintas variables (mismo tipo) y las filas(llamadas records) representan las observaciones (diferentes tipos).\n",
    "Los Data Frames son rectangulares y los espacios vacíos se llenan con NA, **sus elementos tienen la misma longitud**.\n",
    "\n",
    "Se pueden crear con la funcion `data.frame()` y puedes seleccionar una columna usando el operador `$`. \n",
    "\n"
   ]
  },
  {
   "cell_type": "code",
   "execution_count": 7,
   "metadata": {},
   "outputs": [
    {
     "data": {
      "text/html": [
       "<table>\n",
       "<thead><tr><th scope=col>l</th><th scope=col>m</th><th scope=col>n</th></tr></thead>\n",
       "<tbody>\n",
       "\t<tr><td>12</td><td>1 </td><td>34</td></tr>\n",
       "\t<tr><td>13</td><td>2 </td><td>35</td></tr>\n",
       "\t<tr><td>14</td><td>3 </td><td>36</td></tr>\n",
       "\t<tr><td>15</td><td>4 </td><td>37</td></tr>\n",
       "\t<tr><td>16</td><td>5 </td><td>38</td></tr>\n",
       "\t<tr><td>17</td><td>6 </td><td>39</td></tr>\n",
       "\t<tr><td>18</td><td>7 </td><td>40</td></tr>\n",
       "</tbody>\n",
       "</table>\n"
      ],
      "text/latex": [
       "\\begin{tabular}{r|lll}\n",
       " l & m & n\\\\\n",
       "\\hline\n",
       "\t 12 & 1  & 34\\\\\n",
       "\t 13 & 2  & 35\\\\\n",
       "\t 14 & 3  & 36\\\\\n",
       "\t 15 & 4  & 37\\\\\n",
       "\t 16 & 5  & 38\\\\\n",
       "\t 17 & 6  & 39\\\\\n",
       "\t 18 & 7  & 40\\\\\n",
       "\\end{tabular}\n"
      ],
      "text/markdown": [
       "\n",
       "l | m | n | \n",
       "|---|---|---|---|---|---|---|\n",
       "| 12 | 1  | 34 | \n",
       "| 13 | 2  | 35 | \n",
       "| 14 | 3  | 36 | \n",
       "| 15 | 4  | 37 | \n",
       "| 16 | 5  | 38 | \n",
       "| 17 | 6  | 39 | \n",
       "| 18 | 7  | 40 | \n",
       "\n",
       "\n"
      ],
      "text/plain": [
       "  l  m n \n",
       "1 12 1 34\n",
       "2 13 2 35\n",
       "3 14 3 36\n",
       "4 15 4 37\n",
       "5 16 5 38\n",
       "6 17 6 39\n",
       "7 18 7 40"
      ]
     },
     "metadata": {},
     "output_type": "display_data"
    },
    {
     "data": {
      "text/html": [
       "<ol class=list-inline>\n",
       "\t<li>1</li>\n",
       "\t<li>2</li>\n",
       "\t<li>3</li>\n",
       "\t<li>4</li>\n",
       "\t<li>5</li>\n",
       "\t<li>6</li>\n",
       "\t<li>7</li>\n",
       "</ol>\n"
      ],
      "text/latex": [
       "\\begin{enumerate*}\n",
       "\\item 1\n",
       "\\item 2\n",
       "\\item 3\n",
       "\\item 4\n",
       "\\item 5\n",
       "\\item 6\n",
       "\\item 7\n",
       "\\end{enumerate*}\n"
      ],
      "text/markdown": [
       "1. 1\n",
       "2. 2\n",
       "3. 3\n",
       "4. 4\n",
       "5. 5\n",
       "6. 6\n",
       "7. 7\n",
       "\n",
       "\n"
      ],
      "text/plain": [
       "[1] 1 2 3 4 5 6 7"
      ]
     },
     "metadata": {},
     "output_type": "display_data"
    }
   ],
   "source": [
    "# Creemos 3 vectores l, m, n de longitud 6\n",
    "l <- 12:18\n",
    "m <- 1:7\n",
    "n <- 34:40\n",
    "datos <- data.frame(l, m, n)\n",
    "datos\n",
    "datos$m"
   ]
  },
  {
   "cell_type": "markdown",
   "metadata": {
    "collapsed": true
   },
   "source": [
    "La mayoría de las veces nos vamos a encontrar con bases de datos gigantes, que no va a ser muy práctico desplegar en la consola, por lo que R presenta varias funciones que nos permiten extraer información y observar algunas características de los datos. Veamos algunas:\n",
    "\n",
    "Carguemos un conjunto de datos, utilizando la función `data()` (podemos encontrar más información sobre los conjuntos de datos en wikipedia, por ejemplo: https://es.wikipedia.org/wiki/Iris_flor_conjunto_de_datos )"
   ]
  },
  {
   "cell_type": "code",
   "execution_count": null,
   "metadata": {
    "collapsed": true
   },
   "outputs": [],
   "source": [
    "data()\n",
    "# Elegir un dataset y aplicar las siguientes funciones\n",
    "# head()\n",
    "# tail()\n",
    "# fix()\n",
    "# edit()\n",
    "# str()\n",
    "# summary()"
   ]
  },
  {
   "cell_type": "markdown",
   "metadata": {
    "collapsed": true
   },
   "source": [
    "Podemos conocer algunas características del data frame con las siguientes funciones:"
   ]
  },
  {
   "cell_type": "code",
   "execution_count": 20,
   "metadata": {},
   "outputs": [
    {
     "ename": "ERROR",
     "evalue": "Error in nrow(): el argumento \"x\" está ausente, sin valor por omisión\n",
     "output_type": "error",
     "traceback": [
      "Error in nrow(): el argumento \"x\" está ausente, sin valor por omisión\nTraceback:\n",
      "1. nrow()"
     ]
    }
   ],
   "source": [
    "nrow() #Introducir dentro del paréntesis el conjunto seleccionado\n",
    "ncol()\n",
    "dim ()"
   ]
  },
  {
   "cell_type": "markdown",
   "metadata": {},
   "source": [
    "### Agregar columnas y combinar Data Frames"
   ]
  },
  {
   "cell_type": "code",
   "execution_count": null,
   "metadata": {
    "collapsed": true
   },
   "outputs": [],
   "source": [
    "# Agregando una fila (record)\n",
    "# Creamos un data.frame() con los datos (mismo tamaño al data frame a agregar)\n",
    "# Utilizamos rbind(\"data frame a editar\", \"nuevo data frame\")\n"
   ]
  },
  {
   "cell_type": "code",
   "execution_count": null,
   "metadata": {
    "collapsed": true
   },
   "outputs": [],
   "source": [
    "# Agregando una columna (variable)\n",
    "# Creamos un vector con los datos correspondientes a cada inviduo(record),\n",
    "# este vector debe almacenarse en un objeto con el nombre de la variable\n",
    "# Utilizamos cbind(\"data frame a editar\", \"vector a agregar\")"
   ]
  },
  {
   "cell_type": "code",
   "execution_count": null,
   "metadata": {
    "collapsed": true
   },
   "outputs": [],
   "source": [
    "# Agregar columna con el operador $\n",
    "# (solo si se puede aplicar una regla a cada individuo)\n",
    "# mydata$age.mon <- mydata$age*12"
   ]
  },
  {
   "cell_type": "code",
   "execution_count": 21,
   "metadata": {
    "collapsed": true
   },
   "outputs": [],
   "source": [
    "# mydata$sex==\"M\"\n",
    "# mydata[mydata$sex==\"M\", -3] Quita la tercera columna\n",
    "# mydata[mydata$age>10|mydata$funny==\"High\",] Mayor a 10 años o capacidad de ser divertido\n",
    "# alta"
   ]
  },
  {
   "cell_type": "markdown",
   "metadata": {
    "collapsed": true
   },
   "source": [
    "## Matrices"
   ]
  },
  {
   "cell_type": "code",
   "execution_count": null,
   "metadata": {
    "collapsed": true
   },
   "outputs": [],
   "source": []
  },
  {
   "cell_type": "markdown",
   "metadata": {
    "collapsed": true
   },
   "source": [
    "Es un objeto bidimensonal, se puede reconocer como varios vectores guardados juntos. Su tamaño está definido por su número de columnas y de filas.\n",
    "\n",
    "Normalmente, describimos una matriz `A` como una matriz `m` x `n`, `A` teniendo exactamente `m` filas y `n` columnas, con un total de `mn`, done cada cada entrada tiene una posición única, con una clum"
   ]
  },
  {
   "cell_type": "code",
   "execution_count": null,
   "metadata": {
    "collapsed": true
   },
   "outputs": [],
   "source": []
  },
  {
   "cell_type": "code",
   "execution_count": null,
   "metadata": {
    "collapsed": true
   },
   "outputs": [],
   "source": []
  },
  {
   "cell_type": "code",
   "execution_count": null,
   "metadata": {
    "collapsed": true
   },
   "outputs": [],
   "source": []
  },
  {
   "cell_type": "code",
   "execution_count": null,
   "metadata": {
    "collapsed": true
   },
   "outputs": [],
   "source": []
  }
 ],
 "metadata": {
  "kernelspec": {
   "display_name": "R",
   "language": "R",
   "name": "ir"
  },
  "language_info": {
   "codemirror_mode": "r",
   "file_extension": ".r",
   "mimetype": "text/x-r-source",
   "name": "R",
   "pygments_lexer": "r",
   "version": "3.2.3"
  }
 },
 "nbformat": 4,
 "nbformat_minor": 2
}
