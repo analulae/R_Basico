{
 "cells": [
  {
   "cell_type": "markdown",
   "metadata": {},
   "source": [
    "# Tipos de Datos\n"
   ]
  },
  {
   "cell_type": "markdown",
   "metadata": {},
   "source": [
    "## Datos Numéricos "
   ]
  },
  {
   "cell_type": "markdown",
   "metadata": {},
   "source": [
    "Los valores numéricos enteros son valores \"integer\", mientras que los valores que contienen decimales son designados como \"numeric\". También encontramos los \"complex\", números complejos."
   ]
  },
  {
   "cell_type": "code",
   "execution_count": 11,
   "metadata": {
    "collapsed": true
   },
   "outputs": [],
   "source": [
    "# Hacer un vector con la función c() de 8 \"integer\" llamado w\n",
    "# Nota: guardar en un objeto"
   ]
  },
  {
   "cell_type": "code",
   "execution_count": null,
   "metadata": {
    "collapsed": true
   },
   "outputs": [],
   "source": [
    "# Hacer un vector con la función c() de 7 \"numeric\" llamado z\n",
    "# Nota: guardar en un objeto"
   ]
  },
  {
   "cell_type": "markdown",
   "metadata": {},
   "source": [
    "## Texto\n"
   ]
  },
  {
   "cell_type": "markdown",
   "metadata": {},
   "source": [
    "R reconoce dos tipos de datos de texto:\n",
    "- Character: etiquetas de texto plano (Tiene comillas)\n",
    "- Factor: texto plano con líneas adicionales para todas las opciones de la lista (No tiene comillas)\n",
    "- Logical: solo toman dos valores (TRUE o FALSE)"
   ]
  },
  {
   "cell_type": "code",
   "execution_count": 3,
   "metadata": {
    "collapsed": true
   },
   "outputs": [],
   "source": [
    "# Vamos a crear un vector de caracteres\n",
    "# Crear un vector nombre con los nombres de tus compañeros de clases\n",
    "# Crear un vector apellido con los nombres de tus compañeros de clases\n",
    "# Accedamos a la tercera entrada de apellido con []\n",
    "# Con la función paste() vamos a imprimir el nombre y apellido de la quinta entrada"
   ]
  },
  {
   "cell_type": "code",
   "execution_count": 14,
   "metadata": {},
   "outputs": [
    {
     "name": "stdout",
     "output_type": "stream",
     "text": [
      "[1] Mar Oct Jun Jul Mar Jun Ago Jul Jul\n",
      "Levels: Ago Jul Jun Mar Oct\n"
     ]
    },
    {
     "data": {
      "text/plain": [
       "f.m.nacimiento\n",
       "Ago Jul Jun Mar Oct \n",
       "  1   3   2   2   1 "
      ]
     },
     "metadata": {},
     "output_type": "display_data"
    }
   ],
   "source": [
    "# Creemos otro vector llamado m.nacim y llenémoslo con nuestros meses de nacimiento\n",
    "m.nacimiento <- c(\"Mar\", \"Oct\", \"Jun\", \"Jul\", \"Mar\", \"Jun\", \"Ago\", \"Jul\", \"Jul\")\n",
    "# Podemos ver que alguno se repite (Y si no lo hace, debes conocer a alguien que cumple años el mismo mes que tu)\n",
    "# Para valores fijos que se repiten (opciones de lista) utilizamos factores.\n",
    "# Veamos cómo funciona\n",
    "# Transformemos el vector m.nacimiento en factores\n",
    "f.m.nacimiento  <- as.factor(m.nacimiento)\n",
    "print(f.m.nacimiento)\n",
    "# Veamos la frecuencia de cada factor\n",
    "table(f.m.nacimiento)"
   ]
  },
  {
   "cell_type": "code",
   "execution_count": 16,
   "metadata": {},
   "outputs": [
    {
     "name": "stdout",
     "output_type": "stream",
     "text": [
      "[1] Mar Oct Jun Jul Mar Jun Ago Jul Jul\n",
      "Levels: Ene Feb Mar Abr May Jun Jul Ago Sep Oct Nov Dic\n"
     ]
    },
    {
     "data": {
      "text/plain": [
       "ff.m.nacimiento\n",
       "Ene Feb Mar Abr May Jun Jul Ago Sep Oct Nov Dic \n",
       "  0   0   2   0   0   2   3   1   0   1   0   0 "
      ]
     },
     "metadata": {},
     "output_type": "display_data"
    }
   ],
   "source": [
    "# Vamos a ordenarlo y a escribir todas las opciones posibles (un muestra mayor implicará resultados no registrados en mes.nacimiento)\n",
    "# Creemos un vector llamado meses\n",
    "meses  <- c(\"Ene\", \"Feb\", \"Mar\", \"Abr\", \"May\", \"Jun\", \"Jul\", \"Ago\", \"Sep\", \"Oct\", \"Nov\", \"Dic\" )\n",
    "# Hagámoslos factores (Hay mas meses que en el original)\n",
    "ff.m.nacimiento  <-  factor(m.nacimiento, levels = meses)\n",
    "print(ff.m.nacimiento)\n",
    "# Veamos la frecuencia de los factores\n",
    "table(ff.m.nacimiento)"
   ]
  },
  {
   "cell_type": "code",
   "execution_count": null,
   "metadata": {
    "collapsed": true
   },
   "outputs": [],
   "source": [
    "# Vamos a crear un vector de operaciones lógicas\n",
    "# Tomemos el vector w y probémoslo, recordemos las funciones lógicas\n",
    "# ==, >=, <= >, <, !="
   ]
  },
  {
   "cell_type": "code",
   "execution_count": 19,
   "metadata": {},
   "outputs": [
    {
     "ename": "ERROR",
     "evalue": "Error in parse(text = x, srcfile = src): se intenta usar un nombre de varible de longitud cero\n",
     "output_type": "error",
     "traceback": [
      "Error in parse(text = x, srcfile = src): se intenta usar un nombre de varible de longitud cero\nTraceback:\n"
     ]
    }
   ],
   "source": [
    "operadores <- data.frame(\"\" <- c(\"+\", \"-\", \"*\", \"/\", \"^\", \"%%\", \"%/%\"), \"Aritméticos\"  <- c(\"Adición\", \"Sustracción\", \"Multiplicación\", \"División\", \"Potencia\", \"Módulo\", \"División de Enteros\"), \"\" = c(\"<\", \">\", \"<=\", \">=\", \"==\", \"!=\"), \"Comparativos\" = c(\"Menor que\", \"Mayor que\", \"Menor o Igual que\", \"Mayor o Igual que\", \"Igual\", \"Diferente de\"), \"\" = c(\"!\", \"&\", \"&&\", \"|\", \"||\", \"xor(x,y)\", \"Lógicos\" = c(\"NO lógico\", \"Y lógico (longitud > 1)\", \"Y lógico (longitud = 1)\", \"O lógico (longitud > 1)\", \"O lógico (longitud = 1)\", \"O exclusivo\"))"
   ]
  },
  {
   "cell_type": "markdown",
   "metadata": {},
   "source": [
    "## Convertir números a texto y viceversa "
   ]
  },
  {
   "cell_type": "markdown",
   "metadata": {},
   "source": [
    "Tenemos las siguientes funciones:\n",
    "- as.character()\n",
    "- as.factor()\n",
    "- as.numeric()\n",
    "- as.integer()\n"
   ]
  },
  {
   "cell_type": "code",
   "execution_count": null,
   "metadata": {
    "collapsed": true
   },
   "outputs": [],
   "source": [
    "# Cambiar de los ejemplos anteriores:\n",
    "# numeric -> character\n",
    "# character -> numeric\n",
    "# numeric -> integer\n",
    "# integer -> numeric\n",
    "# factor -> character"
   ]
  },
  {
   "cell_type": "markdown",
   "metadata": {},
   "source": [
    "Si la valores originales de los factores eran números, se puede convertir un factor en un valor numérico."
   ]
  }
 ],
 "metadata": {
  "kernelspec": {
   "display_name": "R",
   "language": "R",
   "name": "ir"
  },
  "language_info": {
   "codemirror_mode": "r",
   "file_extension": ".r",
   "mimetype": "text/x-r-source",
   "name": "R",
   "pygments_lexer": "r",
   "version": "3.2.3"
  }
 },
 "nbformat": 4,
 "nbformat_minor": 2
}
