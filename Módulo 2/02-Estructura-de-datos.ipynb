{
 "cells": [
  {
   "cell_type": "markdown",
   "metadata": {},
   "source": [
    "# Estructuras de datos"
   ]
  },
  {
   "cell_type": "markdown",
   "metadata": {},
   "source": [
    "## Vectores"
   ]
  },
  {
   "cell_type": "markdown",
   "metadata": {},
   "source": [
    "Anteriormente hemos creado vectores de longitud 1 cuando guardamos en un objeto un único número.\n",
    "También observamos que podemos crear vectores con las funciones `c()` y `scan()`.\n",
    "\n",
    "Pero también podemos crearlos con secuencias, repeticiones, y la función `paste()`   "
   ]
  },
  {
   "cell_type": "code",
   "execution_count": 7,
   "metadata": {},
   "outputs": [
    {
     "data": {
      "text/html": [
       "<ol class=list-inline>\n",
       "\t<li>1</li>\n",
       "\t<li>2</li>\n",
       "\t<li>3</li>\n",
       "\t<li>4</li>\n",
       "\t<li>5</li>\n",
       "\t<li>6</li>\n",
       "\t<li>7</li>\n",
       "\t<li>8</li>\n",
       "</ol>\n"
      ],
      "text/latex": [
       "\\begin{enumerate*}\n",
       "\\item 1\n",
       "\\item 2\n",
       "\\item 3\n",
       "\\item 4\n",
       "\\item 5\n",
       "\\item 6\n",
       "\\item 7\n",
       "\\item 8\n",
       "\\end{enumerate*}\n"
      ],
      "text/markdown": [
       "1. 1\n",
       "2. 2\n",
       "3. 3\n",
       "4. 4\n",
       "5. 5\n",
       "6. 6\n",
       "7. 7\n",
       "8. 8\n",
       "\n",
       "\n"
      ],
      "text/plain": [
       "[1] 1 2 3 4 5 6 7 8"
      ]
     },
     "metadata": {},
     "output_type": "display_data"
    },
    {
     "data": {
      "text/html": [
       "<ol class=list-inline>\n",
       "\t<li>1</li>\n",
       "\t<li>2</li>\n",
       "\t<li>3</li>\n",
       "\t<li>4</li>\n",
       "\t<li>5</li>\n",
       "\t<li>6</li>\n",
       "\t<li>7</li>\n",
       "\t<li>8</li>\n",
       "</ol>\n"
      ],
      "text/latex": [
       "\\begin{enumerate*}\n",
       "\\item 1\n",
       "\\item 2\n",
       "\\item 3\n",
       "\\item 4\n",
       "\\item 5\n",
       "\\item 6\n",
       "\\item 7\n",
       "\\item 8\n",
       "\\end{enumerate*}\n"
      ],
      "text/markdown": [
       "1. 1\n",
       "2. 2\n",
       "3. 3\n",
       "4. 4\n",
       "5. 5\n",
       "6. 6\n",
       "7. 7\n",
       "8. 8\n",
       "\n",
       "\n"
      ],
      "text/plain": [
       "[1] 1 2 3 4 5 6 7 8"
      ]
     },
     "metadata": {},
     "output_type": "display_data"
    },
    {
     "data": {
      "text/html": [
       "<ol class=list-inline>\n",
       "\t<li>1</li>\n",
       "\t<li>1.5</li>\n",
       "\t<li>2</li>\n",
       "\t<li>2.5</li>\n",
       "\t<li>3</li>\n",
       "\t<li>3.5</li>\n",
       "\t<li>4</li>\n",
       "\t<li>4.5</li>\n",
       "\t<li>5</li>\n",
       "\t<li>5.5</li>\n",
       "\t<li>6</li>\n",
       "\t<li>6.5</li>\n",
       "\t<li>7</li>\n",
       "\t<li>7.5</li>\n",
       "\t<li>8</li>\n",
       "</ol>\n"
      ],
      "text/latex": [
       "\\begin{enumerate*}\n",
       "\\item 1\n",
       "\\item 1.5\n",
       "\\item 2\n",
       "\\item 2.5\n",
       "\\item 3\n",
       "\\item 3.5\n",
       "\\item 4\n",
       "\\item 4.5\n",
       "\\item 5\n",
       "\\item 5.5\n",
       "\\item 6\n",
       "\\item 6.5\n",
       "\\item 7\n",
       "\\item 7.5\n",
       "\\item 8\n",
       "\\end{enumerate*}\n"
      ],
      "text/markdown": [
       "1. 1\n",
       "2. 1.5\n",
       "3. 2\n",
       "4. 2.5\n",
       "5. 3\n",
       "6. 3.5\n",
       "7. 4\n",
       "8. 4.5\n",
       "9. 5\n",
       "10. 5.5\n",
       "11. 6\n",
       "12. 6.5\n",
       "13. 7\n",
       "14. 7.5\n",
       "15. 8\n",
       "\n",
       "\n"
      ],
      "text/plain": [
       " [1] 1.0 1.5 2.0 2.5 3.0 3.5 4.0 4.5 5.0 5.5 6.0 6.5 7.0 7.5 8.0"
      ]
     },
     "metadata": {},
     "output_type": "display_data"
    },
    {
     "data": {
      "text/html": [
       "<ol class=list-inline>\n",
       "\t<li>1</li>\n",
       "\t<li>1.5</li>\n",
       "\t<li>2</li>\n",
       "\t<li>2.5</li>\n",
       "\t<li>3</li>\n",
       "\t<li>3.5</li>\n",
       "\t<li>4</li>\n",
       "\t<li>4.5</li>\n",
       "\t<li>5</li>\n",
       "\t<li>5.5</li>\n",
       "\t<li>6</li>\n",
       "\t<li>6.5</li>\n",
       "\t<li>7</li>\n",
       "\t<li>7.5</li>\n",
       "\t<li>8</li>\n",
       "</ol>\n"
      ],
      "text/latex": [
       "\\begin{enumerate*}\n",
       "\\item 1\n",
       "\\item 1.5\n",
       "\\item 2\n",
       "\\item 2.5\n",
       "\\item 3\n",
       "\\item 3.5\n",
       "\\item 4\n",
       "\\item 4.5\n",
       "\\item 5\n",
       "\\item 5.5\n",
       "\\item 6\n",
       "\\item 6.5\n",
       "\\item 7\n",
       "\\item 7.5\n",
       "\\item 8\n",
       "\\end{enumerate*}\n"
      ],
      "text/markdown": [
       "1. 1\n",
       "2. 1.5\n",
       "3. 2\n",
       "4. 2.5\n",
       "5. 3\n",
       "6. 3.5\n",
       "7. 4\n",
       "8. 4.5\n",
       "9. 5\n",
       "10. 5.5\n",
       "11. 6\n",
       "12. 6.5\n",
       "13. 7\n",
       "14. 7.5\n",
       "15. 8\n",
       "\n",
       "\n"
      ],
      "text/plain": [
       " [1] 1.0 1.5 2.0 2.5 3.0 3.5 4.0 4.5 5.0 5.5 6.0 6.5 7.0 7.5 8.0"
      ]
     },
     "metadata": {},
     "output_type": "display_data"
    },
    {
     "data": {
      "text/html": [
       "<ol class=list-inline>\n",
       "\t<li>7</li>\n",
       "\t<li>7</li>\n",
       "\t<li>7</li>\n",
       "\t<li>7</li>\n",
       "\t<li>7</li>\n",
       "</ol>\n"
      ],
      "text/latex": [
       "\\begin{enumerate*}\n",
       "\\item 7\n",
       "\\item 7\n",
       "\\item 7\n",
       "\\item 7\n",
       "\\item 7\n",
       "\\end{enumerate*}\n"
      ],
      "text/markdown": [
       "1. 7\n",
       "2. 7\n",
       "3. 7\n",
       "4. 7\n",
       "5. 7\n",
       "\n",
       "\n"
      ],
      "text/plain": [
       "[1] 7 7 7 7 7"
      ]
     },
     "metadata": {},
     "output_type": "display_data"
    },
    {
     "data": {
      "text/html": [
       "<ol class=list-inline>\n",
       "\t<li>1</li>\n",
       "\t<li>2</li>\n",
       "\t<li>3</li>\n",
       "\t<li>4</li>\n",
       "\t<li>5</li>\n",
       "\t<li>1</li>\n",
       "\t<li>2</li>\n",
       "\t<li>3</li>\n",
       "\t<li>4</li>\n",
       "\t<li>5</li>\n",
       "\t<li>1</li>\n",
       "\t<li>2</li>\n",
       "\t<li>3</li>\n",
       "\t<li>4</li>\n",
       "\t<li>5</li>\n",
       "</ol>\n"
      ],
      "text/latex": [
       "\\begin{enumerate*}\n",
       "\\item 1\n",
       "\\item 2\n",
       "\\item 3\n",
       "\\item 4\n",
       "\\item 5\n",
       "\\item 1\n",
       "\\item 2\n",
       "\\item 3\n",
       "\\item 4\n",
       "\\item 5\n",
       "\\item 1\n",
       "\\item 2\n",
       "\\item 3\n",
       "\\item 4\n",
       "\\item 5\n",
       "\\end{enumerate*}\n"
      ],
      "text/markdown": [
       "1. 1\n",
       "2. 2\n",
       "3. 3\n",
       "4. 4\n",
       "5. 5\n",
       "6. 1\n",
       "7. 2\n",
       "8. 3\n",
       "9. 4\n",
       "10. 5\n",
       "11. 1\n",
       "12. 2\n",
       "13. 3\n",
       "14. 4\n",
       "15. 5\n",
       "\n",
       "\n"
      ],
      "text/plain": [
       " [1] 1 2 3 4 5 1 2 3 4 5 1 2 3 4 5"
      ]
     },
     "metadata": {},
     "output_type": "display_data"
    },
    {
     "data": {
      "text/html": [
       "<ol class=list-inline>\n",
       "\t<li>'A'</li>\n",
       "\t<li>'B'</li>\n",
       "\t<li>'C'</li>\n",
       "\t<li>'A'</li>\n",
       "\t<li>'B'</li>\n",
       "\t<li>'C'</li>\n",
       "\t<li>'A'</li>\n",
       "\t<li>'B'</li>\n",
       "\t<li>'C'</li>\n",
       "</ol>\n"
      ],
      "text/latex": [
       "\\begin{enumerate*}\n",
       "\\item 'A'\n",
       "\\item 'B'\n",
       "\\item 'C'\n",
       "\\item 'A'\n",
       "\\item 'B'\n",
       "\\item 'C'\n",
       "\\item 'A'\n",
       "\\item 'B'\n",
       "\\item 'C'\n",
       "\\end{enumerate*}\n"
      ],
      "text/markdown": [
       "1. 'A'\n",
       "2. 'B'\n",
       "3. 'C'\n",
       "4. 'A'\n",
       "5. 'B'\n",
       "6. 'C'\n",
       "7. 'A'\n",
       "8. 'B'\n",
       "9. 'C'\n",
       "\n",
       "\n"
      ],
      "text/plain": [
       "[1] \"A\" \"B\" \"C\" \"A\" \"B\" \"C\" \"A\" \"B\" \"C\""
      ]
     },
     "metadata": {},
     "output_type": "display_data"
    },
    {
     "data": {
      "text/html": [
       "<ol class=list-inline>\n",
       "\t<li>'T 1'</li>\n",
       "\t<li>'T 2'</li>\n",
       "\t<li>'T 3'</li>\n",
       "\t<li>'T 4'</li>\n",
       "</ol>\n"
      ],
      "text/latex": [
       "\\begin{enumerate*}\n",
       "\\item 'T 1'\n",
       "\\item 'T 2'\n",
       "\\item 'T 3'\n",
       "\\item 'T 4'\n",
       "\\end{enumerate*}\n"
      ],
      "text/markdown": [
       "1. 'T 1'\n",
       "2. 'T 2'\n",
       "3. 'T 3'\n",
       "4. 'T 4'\n",
       "\n",
       "\n"
      ],
      "text/plain": [
       "[1] \"T 1\" \"T 2\" \"T 3\" \"T 4\""
      ]
     },
     "metadata": {},
     "output_type": "display_data"
    },
    {
     "data": {
      "text/html": [
       "<ol class=list-inline>\n",
       "\t<li>'T.1'</li>\n",
       "\t<li>'T.2'</li>\n",
       "\t<li>'T.3'</li>\n",
       "\t<li>'T.4'</li>\n",
       "</ol>\n"
      ],
      "text/latex": [
       "\\begin{enumerate*}\n",
       "\\item 'T.1'\n",
       "\\item 'T.2'\n",
       "\\item 'T.3'\n",
       "\\item 'T.4'\n",
       "\\end{enumerate*}\n"
      ],
      "text/markdown": [
       "1. 'T.1'\n",
       "2. 'T.2'\n",
       "3. 'T.3'\n",
       "4. 'T.4'\n",
       "\n",
       "\n"
      ],
      "text/plain": [
       "[1] \"T.1\" \"T.2\" \"T.3\" \"T.4\""
      ]
     },
     "metadata": {},
     "output_type": "display_data"
    }
   ],
   "source": [
    "#Generando secuencias de datos \n",
    "#Operador\n",
    "1:8\n",
    "#Función seq()\n",
    "seq (1,8)\n",
    "seq (1,8, by= .5) # Cambiando valores por defecto de los argumentos\n",
    "a <- seq (1,8, length=15)\n",
    "a\n",
    "#Función rep()\n",
    "rep (7,5)\n",
    "rep (1:5,3)\n",
    "b <- rep (c(\"A\", \"B\", \"C\"), 3)\n",
    "b\n",
    "#Función paste()\n",
    "paste(\"T\",1:4)\n",
    "c <- paste(\"T\",1:4,sep=\".\")\n",
    "c"
   ]
  },
  {
   "cell_type": "markdown",
   "metadata": {},
   "source": [
    "Una de las principales características más importantes de R es la posibilidad de usar un vector como argumento de las funciones y así utilizar todos los elementos del mismo."
   ]
  },
  {
   "cell_type": "code",
   "execution_count": 8,
   "metadata": {
    "collapsed": true
   },
   "outputs": [],
   "source": [
    "# Crear un vector x de 15 números\n",
    "# Aplicar función max()\n",
    "# Crear un vector d con los vectores a, b, c"
   ]
  },
  {
   "cell_type": "markdown",
   "metadata": {},
   "source": [
    "Existirán otras veces en las que necesitaremos acceder específicamente a un elemento del vector, como este tiene una sola dimensión, ubicaremos entre `[]` la posición del elemento a escoger. En R el índice comienza en 1."
   ]
  },
  {
   "cell_type": "code",
   "execution_count": 3,
   "metadata": {
    "collapsed": true
   },
   "outputs": [],
   "source": [
    "# Seleccionar el elemento 7 de x\n",
    "# Seleccitud 5ionar elementos del 9 al 12"
   ]
  },
  {
   "cell_type": "markdown",
   "metadata": {},
   "source": [
    "Podemos ordenar el vector en forma ascendente o decreciente con la función `sort()` y encontrar su longitud con `length()`."
   ]
  },
  {
   "cell_type": "code",
   "execution_count": null,
   "metadata": {
    "collapsed": true
   },
   "outputs": [],
   "source": [
    "# Ordenar x en orden ascendente\n",
    "# Averiguar la longitud de x"
   ]
  },
  {
   "cell_type": "markdown",
   "metadata": {},
   "source": [
    "### Operaciones con vectores"
   ]
  },
  {
   "cell_type": "markdown",
   "metadata": {},
   "source": [
    "Suma, resta, división, exponenciación, se definen de elemento a elemento entre vectores"
   ]
  },
  {
   "cell_type": "code",
   "execution_count": 22,
   "metadata": {
    "collapsed": true
   },
   "outputs": [],
   "source": [
    "# Suma entre dos vectores de longitud 4\n",
    "# Resta de dos vectores de longitud 2\n",
    "# Multiplicación de dos vectores de longitud 3\n",
    "# Eleva a potencia \n",
    "    #(2, 3, 4)^(3:1)\n",
    "#Probemos los operadores lógicos >,<,="
   ]
  },
  {
   "cell_type": "markdown",
   "metadata": {},
   "source": [
    "## Data Frame\n"
   ]
  },
  {
   "cell_type": "markdown",
   "metadata": {},
   "source": [
    "Es un objeto bidimensional (filas x columnas).\n",
    "\n",
    "R trata las columnas (llamadas variables) como distintas variables (mismo tipo) y las filas(llamadas records) representan las observaciones (diferentes tipos).\n",
    "Los Data Frames son rectangulares y los espacios vacíos se llenan con NA, **sus elementos tienen la misma longitud**.\n",
    "\n",
    "Se pueden crear con la funcion `data.frame()` y puedes seleccionar una columna usando el operador `$`. \n",
    "\n"
   ]
  },
  {
   "cell_type": "code",
   "execution_count": 14,
   "metadata": {},
   "outputs": [
    {
     "data": {
      "text/html": [
       "<table>\n",
       "<thead><tr><th scope=col>name</th><th scope=col>gender</th><th scope=col>age</th></tr></thead>\n",
       "<tbody>\n",
       "\t<tr><td>Ana   </td><td>F     </td><td>23    </td></tr>\n",
       "\t<tr><td>Daniel</td><td>M     </td><td>27    </td></tr>\n",
       "\t<tr><td>Chris </td><td>M     </td><td>54    </td></tr>\n",
       "\t<tr><td>Mary  </td><td>F     </td><td>34    </td></tr>\n",
       "\t<tr><td>Albert</td><td>M     </td><td>46    </td></tr>\n",
       "\t<tr><td>Flor  </td><td>F     </td><td>22    </td></tr>\n",
       "\t<tr><td>Gendry</td><td>M     </td><td>45    </td></tr>\n",
       "</tbody>\n",
       "</table>\n"
      ],
      "text/latex": [
       "\\begin{tabular}{r|lll}\n",
       " name & gender & age\\\\\n",
       "\\hline\n",
       "\t Ana    & F      & 23    \\\\\n",
       "\t Daniel & M      & 27    \\\\\n",
       "\t Chris  & M      & 54    \\\\\n",
       "\t Mary   & F      & 34    \\\\\n",
       "\t Albert & M      & 46    \\\\\n",
       "\t Flor   & F      & 22    \\\\\n",
       "\t Gendry & M      & 45    \\\\\n",
       "\\end{tabular}\n"
      ],
      "text/markdown": [
       "\n",
       "name | gender | age | \n",
       "|---|---|---|---|---|---|---|\n",
       "| Ana    | F      | 23     | \n",
       "| Daniel | M      | 27     | \n",
       "| Chris  | M      | 54     | \n",
       "| Mary   | F      | 34     | \n",
       "| Albert | M      | 46     | \n",
       "| Flor   | F      | 22     | \n",
       "| Gendry | M      | 45     | \n",
       "\n",
       "\n"
      ],
      "text/plain": [
       "  name   gender age\n",
       "1 Ana    F      23 \n",
       "2 Daniel M      27 \n",
       "3 Chris  M      54 \n",
       "4 Mary   F      34 \n",
       "5 Albert M      46 \n",
       "6 Flor   F      22 \n",
       "7 Gendry M      45 "
      ]
     },
     "metadata": {},
     "output_type": "display_data"
    }
   ],
   "source": [
    "# Creemos 3 vectores l, m, n de longitud 6\n",
    "name <- c(\"Ana\", \"Daniel\", \"Chris\", \"Mary\", \"Albert\", \"Flor\", \"Gendry\")\n",
    "gender <- c(\"F\", \"M\", \"M\", \"F\", \"M\", \"F\", \"M\")\n",
    "age <- c(23, 27, 54, 34, 46, 22, 45)\n",
    "datos <- data.frame(name, gender, age)\n",
    "datos"
   ]
  },
  {
   "cell_type": "code",
   "execution_count": null,
   "metadata": {
    "collapsed": true
   },
   "outputs": [],
   "source": []
  },
  {
   "cell_type": "markdown",
   "metadata": {
    "collapsed": true
   },
   "source": [
    "La mayoría de las veces nos vamos a encontrar con bases de datos gigantes, que no va a ser muy práctico desplegar en la consola, por lo que R presenta varias funciones que nos permiten extraer información y observar algunas características de los datos. Veamos algunas:\n",
    "\n",
    "Carguemos un conjunto de datos, utilizando la función `data()` (podemos encontrar más información sobre los conjuntos de datos en wikipedia, por ejemplo: https://es.wikipedia.org/wiki/Iris_flor_conjunto_de_datos )"
   ]
  },
  {
   "cell_type": "code",
   "execution_count": null,
   "metadata": {
    "collapsed": true
   },
   "outputs": [],
   "source": [
    "data()\n",
    "# Elegir un dataset y aplicar las siguientes funciones\n",
    "# head()\n",
    "# tail()\n",
    "# fix()\n",
    "# edit()\n",
    "# str()\n",
    "# summary()"
   ]
  },
  {
   "cell_type": "markdown",
   "metadata": {
    "collapsed": true
   },
   "source": [
    "Podemos conocer algunas características del data frame con las siguientes funciones:"
   ]
  },
  {
   "cell_type": "code",
   "execution_count": 20,
   "metadata": {},
   "outputs": [
    {
     "ename": "ERROR",
     "evalue": "Error in nrow(): el argumento \"x\" está ausente, sin valor por omisión\n",
     "output_type": "error",
     "traceback": [
      "Error in nrow(): el argumento \"x\" está ausente, sin valor por omisión\nTraceback:\n",
      "1. nrow()"
     ]
    }
   ],
   "source": [
    "nrow() #Introducir dentro del paréntesis el conjunto seleccionado\n",
    "ncol()\n",
    "dim ()"
   ]
  },
  {
   "cell_type": "markdown",
   "metadata": {},
   "source": [
    "### Agregar columnas y combinar Data Frames"
   ]
  },
  {
   "cell_type": "code",
   "execution_count": null,
   "metadata": {
    "collapsed": true
   },
   "outputs": [],
   "source": [
    "# Agregando una fila (record)\n",
    "# Creamos un data.frame() con los datos (mismo tamaño al data frame a agregar)\n",
    "# Utilizamos rbind(\"data frame a editar\", \"nuevo data frame\")\n"
   ]
  },
  {
   "cell_type": "code",
   "execution_count": null,
   "metadata": {
    "collapsed": true
   },
   "outputs": [],
   "source": [
    "# Agregando una columna (variable)\n",
    "# Creamos un vector con los datos correspondientes a cada inviduo(record),\n",
    "# este vector debe almacenarse en un objeto con el nombre de la variable\n",
    "# Utilizamos cbind(\"data frame a editar\", \"vector a agregar\")"
   ]
  },
  {
   "cell_type": "code",
   "execution_count": null,
   "metadata": {
    "collapsed": true
   },
   "outputs": [],
   "source": []
  },
  {
   "cell_type": "code",
   "execution_count": 28,
   "metadata": {},
   "outputs": [
    {
     "data": {
      "text/html": [
       "<ol class=list-inline>\n",
       "\t<li>Ana</li>\n",
       "\t<li>Daniel</li>\n",
       "\t<li>Chris</li>\n",
       "\t<li>Mary</li>\n",
       "\t<li>Albert</li>\n",
       "\t<li>Flor</li>\n",
       "\t<li>Gendry</li>\n",
       "</ol>\n"
      ],
      "text/latex": [
       "\\begin{enumerate*}\n",
       "\\item Ana\n",
       "\\item Daniel\n",
       "\\item Chris\n",
       "\\item Mary\n",
       "\\item Albert\n",
       "\\item Flor\n",
       "\\item Gendry\n",
       "\\end{enumerate*}\n"
      ],
      "text/markdown": [
       "1. Ana\n",
       "2. Daniel\n",
       "3. Chris\n",
       "4. Mary\n",
       "5. Albert\n",
       "6. Flor\n",
       "7. Gendry\n",
       "\n",
       "\n"
      ],
      "text/plain": [
       "[1] Ana    Daniel Chris  Mary   Albert Flor   Gendry\n",
       "Levels: Albert Ana Chris Daniel Flor Gendry Mary"
      ]
     },
     "metadata": {},
     "output_type": "display_data"
    },
    {
     "data": {
      "text/html": [
       "<ol class=list-inline>\n",
       "\t<li>23</li>\n",
       "\t<li>27</li>\n",
       "\t<li>54</li>\n",
       "\t<li>34</li>\n",
       "\t<li>46</li>\n",
       "\t<li>22</li>\n",
       "\t<li>45</li>\n",
       "</ol>\n"
      ],
      "text/latex": [
       "\\begin{enumerate*}\n",
       "\\item 23\n",
       "\\item 27\n",
       "\\item 54\n",
       "\\item 34\n",
       "\\item 46\n",
       "\\item 22\n",
       "\\item 45\n",
       "\\end{enumerate*}\n"
      ],
      "text/markdown": [
       "1. 23\n",
       "2. 27\n",
       "3. 54\n",
       "4. 34\n",
       "5. 46\n",
       "6. 22\n",
       "7. 45\n",
       "\n",
       "\n"
      ],
      "text/plain": [
       "[1] 23 27 54 34 46 22 45"
      ]
     },
     "metadata": {},
     "output_type": "display_data"
    },
    {
     "data": {
      "text/html": [
       "<table>\n",
       "<thead><tr><th scope=col>name</th><th scope=col>gender</th><th scope=col>age</th><th scope=col>retiro</th><th scope=col>estado_civil</th></tr></thead>\n",
       "<tbody>\n",
       "\t<tr><td>Ana   </td><td>F     </td><td>23    </td><td>37    </td><td>S     </td></tr>\n",
       "\t<tr><td>Daniel</td><td>M     </td><td>27    </td><td>33    </td><td>S     </td></tr>\n",
       "\t<tr><td>Chris </td><td>M     </td><td>54    </td><td> 6    </td><td>V     </td></tr>\n",
       "\t<tr><td>Mary  </td><td>F     </td><td>34    </td><td>26    </td><td>C     </td></tr>\n",
       "\t<tr><td>Albert</td><td>M     </td><td>46    </td><td>14    </td><td>C     </td></tr>\n",
       "\t<tr><td>Flor  </td><td>F     </td><td>22    </td><td>38    </td><td>S     </td></tr>\n",
       "\t<tr><td>Gendry</td><td>M     </td><td>45    </td><td>15    </td><td>C     </td></tr>\n",
       "</tbody>\n",
       "</table>\n"
      ],
      "text/latex": [
       "\\begin{tabular}{r|lllll}\n",
       " name & gender & age & retiro & estado\\_civil\\\\\n",
       "\\hline\n",
       "\t Ana    & F      & 23     & 37     & S     \\\\\n",
       "\t Daniel & M      & 27     & 33     & S     \\\\\n",
       "\t Chris  & M      & 54     &  6     & V     \\\\\n",
       "\t Mary   & F      & 34     & 26     & C     \\\\\n",
       "\t Albert & M      & 46     & 14     & C     \\\\\n",
       "\t Flor   & F      & 22     & 38     & S     \\\\\n",
       "\t Gendry & M      & 45     & 15     & C     \\\\\n",
       "\\end{tabular}\n"
      ],
      "text/markdown": [
       "\n",
       "name | gender | age | retiro | estado_civil | \n",
       "|---|---|---|---|---|---|---|\n",
       "| Ana    | F      | 23     | 37     | S      | \n",
       "| Daniel | M      | 27     | 33     | S      | \n",
       "| Chris  | M      | 54     |  6     | V      | \n",
       "| Mary   | F      | 34     | 26     | C      | \n",
       "| Albert | M      | 46     | 14     | C      | \n",
       "| Flor   | F      | 22     | 38     | S      | \n",
       "| Gendry | M      | 45     | 15     | C      | \n",
       "\n",
       "\n"
      ],
      "text/plain": [
       "  name   gender age retiro estado_civil\n",
       "1 Ana    F      23  37     S           \n",
       "2 Daniel M      27  33     S           \n",
       "3 Chris  M      54   6     V           \n",
       "4 Mary   F      34  26     C           \n",
       "5 Albert M      46  14     C           \n",
       "6 Flor   F      22  38     S           \n",
       "7 Gendry M      45  15     C           "
      ]
     },
     "metadata": {},
     "output_type": "display_data"
    },
    {
     "data": {
      "text/html": [
       "<table>\n",
       "<thead><tr><th></th><th scope=col>name</th><th scope=col>gender</th><th scope=col>age</th><th scope=col>retiro</th><th scope=col>estado_civil</th></tr></thead>\n",
       "<tbody>\n",
       "\t<tr><th scope=row>2</th><td>Daniel</td><td>M     </td><td>27    </td><td>33    </td><td>S     </td></tr>\n",
       "\t<tr><th scope=row>3</th><td>Chris </td><td>M     </td><td>54    </td><td> 6    </td><td>V     </td></tr>\n",
       "\t<tr><th scope=row>5</th><td>Albert</td><td>M     </td><td>46    </td><td>14    </td><td>C     </td></tr>\n",
       "\t<tr><th scope=row>7</th><td>Gendry</td><td>M     </td><td>45    </td><td>15    </td><td>C     </td></tr>\n",
       "</tbody>\n",
       "</table>\n"
      ],
      "text/latex": [
       "\\begin{tabular}{r|lllll}\n",
       "  & name & gender & age & retiro & estado\\_civil\\\\\n",
       "\\hline\n",
       "\t2 & Daniel & M      & 27     & 33     & S     \\\\\n",
       "\t3 & Chris  & M      & 54     &  6     & V     \\\\\n",
       "\t5 & Albert & M      & 46     & 14     & C     \\\\\n",
       "\t7 & Gendry & M      & 45     & 15     & C     \\\\\n",
       "\\end{tabular}\n"
      ],
      "text/markdown": [
       "\n",
       "| <!--/--> | name | gender | age | retiro | estado_civil | \n",
       "|---|---|---|---|\n",
       "| 2 | Daniel | M      | 27     | 33     | S      | \n",
       "| 3 | Chris  | M      | 54     |  6     | V      | \n",
       "| 5 | Albert | M      | 46     | 14     | C      | \n",
       "| 7 | Gendry | M      | 45     | 15     | C      | \n",
       "\n",
       "\n"
      ],
      "text/plain": [
       "  name   gender age retiro estado_civil\n",
       "2 Daniel M      27  33     S           \n",
       "3 Chris  M      54   6     V           \n",
       "5 Albert M      46  14     C           \n",
       "7 Gendry M      45  15     C           "
      ]
     },
     "metadata": {},
     "output_type": "display_data"
    },
    {
     "data": {
      "text/html": [
       "<table>\n",
       "<thead><tr><th></th><th scope=col>gender</th><th scope=col>age</th></tr></thead>\n",
       "<tbody>\n",
       "\t<tr><th scope=row>2</th><td>M </td><td>27</td></tr>\n",
       "\t<tr><th scope=row>3</th><td>M </td><td>54</td></tr>\n",
       "\t<tr><th scope=row>5</th><td>M </td><td>46</td></tr>\n",
       "\t<tr><th scope=row>7</th><td>M </td><td>45</td></tr>\n",
       "</tbody>\n",
       "</table>\n"
      ],
      "text/latex": [
       "\\begin{tabular}{r|ll}\n",
       "  & gender & age\\\\\n",
       "\\hline\n",
       "\t2 & M  & 27\\\\\n",
       "\t3 & M  & 54\\\\\n",
       "\t5 & M  & 46\\\\\n",
       "\t7 & M  & 45\\\\\n",
       "\\end{tabular}\n"
      ],
      "text/markdown": [
       "\n",
       "| <!--/--> | gender | age | \n",
       "|---|---|---|---|\n",
       "| 2 | M  | 27 | \n",
       "| 3 | M  | 54 | \n",
       "| 5 | M  | 46 | \n",
       "| 7 | M  | 45 | \n",
       "\n",
       "\n"
      ],
      "text/plain": [
       "  gender age\n",
       "2 M      27 \n",
       "3 M      54 \n",
       "5 M      46 \n",
       "7 M      45 "
      ]
     },
     "metadata": {},
     "output_type": "display_data"
    },
    {
     "data": {
      "text/html": [
       "<table>\n",
       "<thead><tr><th scope=col>name</th><th scope=col>estado_civil</th></tr></thead>\n",
       "<tbody>\n",
       "\t<tr><td>Ana   </td><td>S     </td></tr>\n",
       "\t<tr><td>Daniel</td><td>S     </td></tr>\n",
       "\t<tr><td>Chris </td><td>V     </td></tr>\n",
       "\t<tr><td>Mary  </td><td>C     </td></tr>\n",
       "\t<tr><td>Albert</td><td>C     </td></tr>\n",
       "\t<tr><td>Flor  </td><td>S     </td></tr>\n",
       "\t<tr><td>Gendry</td><td>C     </td></tr>\n",
       "</tbody>\n",
       "</table>\n"
      ],
      "text/latex": [
       "\\begin{tabular}{r|ll}\n",
       " name & estado\\_civil\\\\\n",
       "\\hline\n",
       "\t Ana    & S     \\\\\n",
       "\t Daniel & S     \\\\\n",
       "\t Chris  & V     \\\\\n",
       "\t Mary   & C     \\\\\n",
       "\t Albert & C     \\\\\n",
       "\t Flor   & S     \\\\\n",
       "\t Gendry & C     \\\\\n",
       "\\end{tabular}\n"
      ],
      "text/markdown": [
       "\n",
       "name | estado_civil | \n",
       "|---|---|---|---|---|---|---|\n",
       "| Ana    | S      | \n",
       "| Daniel | S      | \n",
       "| Chris  | V      | \n",
       "| Mary   | C      | \n",
       "| Albert | C      | \n",
       "| Flor   | S      | \n",
       "| Gendry | C      | \n",
       "\n",
       "\n"
      ],
      "text/plain": [
       "  name   estado_civil\n",
       "1 Ana    S           \n",
       "2 Daniel S           \n",
       "3 Chris  V           \n",
       "4 Mary   C           \n",
       "5 Albert C           \n",
       "6 Flor   S           \n",
       "7 Gendry C           "
      ]
     },
     "metadata": {},
     "output_type": "display_data"
    }
   ],
   "source": [
    "# Vamos a manipular un poco el data frame con el operador $\n",
    "\n",
    "datos$name # Seleccionar una columna por nombre\n",
    "datos$retiro <- (60 - datos$age) # Calcular una nueva variable\n",
    "datos$estado_civil <- c(\"S\", \"S\", \"V\", \"C\", \"C\", \"S\", \"C\") # Nueva variable\n",
    "datos[,3] #Seleccionar la columna 3 \n",
    "datos\n",
    "onlymale <- datos[datos$gender == \"M\",]\n",
    "onlymale\n",
    "ageonlymale  <- onlymale[,c(\"gender\", \"age\")]\n",
    "ageonlymale\n",
    "e_civil<-  subset.data.frame(datos, select = c(name, estado_civil))\n",
    "e_civil"
   ]
  },
  {
   "cell_type": "markdown",
   "metadata": {
    "collapsed": true
   },
   "source": [
    "## Matrices"
   ]
  },
  {
   "cell_type": "markdown",
   "metadata": {
    "collapsed": true
   },
   "source": [
    "Es un objeto bidimensonal, se puede reconocer como varios vectores guardados juntos. Su tamaño está definido por su número de columnas y de filas.\n",
    "\n",
    "Normalmente, describimos  una matriz `A` como una matriz `m` x `n`, `A` teniendo exactamente `m` filas y `n` columnas, con un total de `mn`, done cada cada entrada tiene una posición única dada por una fila y una columna específicas.\n",
    "\n",
    "Para crear una matriz en R usamos el comando de `matrix` y proveemos las entradas de la matriz en forma de vector."
   ]
  },
  {
   "cell_type": "code",
   "execution_count": 13,
   "metadata": {
    "collapsed": true
   },
   "outputs": [],
   "source": [
    "# Creemos un vector o elijamos uno de los anteriores\n",
    "# Utilicemos el comando matrix\n",
    "# Por defecto lo ordena por columnas (verticalmente), para cambiar : byrow = TRUE\n",
    "# Debemos asegurarnos que la longitud del vector coincida con el número de filas y columnas deseadas.\n",
    "# Qué sucede si no introducimos ncol y/o nrow, R devuelve una matriz de una sola columna."
   ]
  },
  {
   "cell_type": "code",
   "execution_count": 19,
   "metadata": {},
   "outputs": [
    {
     "data": {
      "text/html": [
       "<table>\n",
       "<tbody>\n",
       "\t<tr><td>34</td><td>37</td></tr>\n",
       "\t<tr><td>35</td><td>38</td></tr>\n",
       "\t<tr><td>36</td><td>39</td></tr>\n",
       "</tbody>\n",
       "</table>\n"
      ],
      "text/latex": [
       "\\begin{tabular}{ll}\n",
       "\t 34 & 37\\\\\n",
       "\t 35 & 38\\\\\n",
       "\t 36 & 39\\\\\n",
       "\\end{tabular}\n"
      ],
      "text/markdown": [
       "\n",
       "| 34 | 37 | \n",
       "| 35 | 38 | \n",
       "| 36 | 39 | \n",
       "\n",
       "\n"
      ],
      "text/plain": [
       "     [,1] [,2]\n",
       "[1,] 34   37  \n",
       "[2,] 35   38  \n",
       "[3,] 36   39  "
      ]
     },
     "metadata": {},
     "output_type": "display_data"
    }
   ],
   "source": [
    "m  <- 34:39\n",
    "A  <- matrix(m, ncol = 2, nrow = 3)\n",
    "A"
   ]
  },
  {
   "cell_type": "code",
   "execution_count": null,
   "metadata": {
    "collapsed": true
   },
   "outputs": [],
   "source": [
    "#Construir matriz con rbind [filas], cbind [columnas]"
   ]
  },
  {
   "cell_type": "code",
   "execution_count": 3,
   "metadata": {
    "collapsed": true
   },
   "outputs": [],
   "source": [
    "# Elegir el conjunto de datos euro.cross\n",
    "# Buscar información sobre el conjunto de datos\n",
    "# Cuál es la dimensión de esa matriz A, cuántas filas y cuántas columnas\n",
    "# Acceder al elemento 8,9 n de la matriz anterior\n",
    "# Acceder a la 4 columna\n",
    "# Acceder a la 6 fila\n",
    "# Mostrar la diagonal"
   ]
  },
  {
   "cell_type": "markdown",
   "metadata": {
    "collapsed": true
   },
   "source": [
    "Si queremos omitir alguna de las filas o columnas simplemente los seleccionamos como se hace normalmente con [] y se pone un (-) delante la fila o columna a omitir"
   ]
  },
  {
   "cell_type": "code",
   "execution_count": null,
   "metadata": {},
   "outputs": [],
   "source": [
    "# Crear una matriz A de números consecutivos de 7 filas y 4 columnas\n",
    "# Omitir las filas 3 y 6, y las columnas 2 y 3"
   ]
  },
  {
   "cell_type": "code",
   "execution_count": null,
   "metadata": {
    "collapsed": true
   },
   "outputs": [],
   "source": [
    "# Ahora, si lo que queremos es reescribir\n",
    "# Ubicamos la fila o columna que queremos reescribir y le asignamos un valor\n",
    "# Utiliza la matriz anterior, A\n",
    "# Crea una nueva matriz B\n",
    "# Reemplaza la posición 3, 4\n",
    "# Reemplaza la primera columna por el número 29 (Usar rep())\n",
    "# Reemplaza la segunda columna por números consecutivos\n",
    "# Reemplaza las entradas 1, 3; 3, 3; 5,3 Pista: ¿Cuál es el patrón?\n",
    "# Reemplaza la diagonal por el número 1"
   ]
  },
  {
   "cell_type": "code",
   "execution_count": 5,
   "metadata": {},
   "outputs": [
    {
     "ename": "ERROR",
     "evalue": "Error in B[c(1, 3, 5), 3] <- rep(x = 33, times = 3): objeto 'B' no encontrado\n",
     "output_type": "error",
     "traceback": [
      "Error in B[c(1, 3, 5), 3] <- rep(x = 33, times = 3): objeto 'B' no encontrado\nTraceback:\n"
     ]
    }
   ],
   "source": [
    "B[c(1, 3, 5),3] <- rep(x = 33, times = 3)"
   ]
  },
  {
   "cell_type": "code",
   "execution_count": 30,
   "metadata": {
    "collapsed": true
   },
   "outputs": [],
   "source": [
    "# Cambiemos los nombres de las columnas y filas \n",
    "# rownames\n",
    "# colnames"
   ]
  },
  {
   "cell_type": "markdown",
   "metadata": {},
   "source": [
    "Podemos realizar las mismas operaciones con las matrices que con los vecctores, es decir, podemos sumar, restar y hasta multiplicar, pero esto solo será posible si las matrices tienen las mismas dimensiones, dichas operaciones se realizaran elemento a elemento.\n",
    "\n",
    "No hay que confundir la multiplicación matricial, que de hecho tiene un operador diferente"
   ]
  },
  {
   "cell_type": "code",
   "execution_count": 42,
   "metadata": {},
   "outputs": [
    {
     "data": {
      "text/html": [
       "<table>\n",
       "<tbody>\n",
       "\t<tr><td>10</td><td>20</td></tr>\n",
       "\t<tr><td>12</td><td>22</td></tr>\n",
       "\t<tr><td>14</td><td>24</td></tr>\n",
       "\t<tr><td>16</td><td>26</td></tr>\n",
       "\t<tr><td>18</td><td>28</td></tr>\n",
       "</tbody>\n",
       "</table>\n"
      ],
      "text/latex": [
       "\\begin{tabular}{ll}\n",
       "\t 10 & 20\\\\\n",
       "\t 12 & 22\\\\\n",
       "\t 14 & 24\\\\\n",
       "\t 16 & 26\\\\\n",
       "\t 18 & 28\\\\\n",
       "\\end{tabular}\n"
      ],
      "text/markdown": [
       "\n",
       "| 10 | 20 | \n",
       "| 12 | 22 | \n",
       "| 14 | 24 | \n",
       "| 16 | 26 | \n",
       "| 18 | 28 | \n",
       "\n",
       "\n"
      ],
      "text/plain": [
       "     [,1] [,2]\n",
       "[1,] 10   20  \n",
       "[2,] 12   22  \n",
       "[3,] 14   24  \n",
       "[4,] 16   26  \n",
       "[5,] 18   28  "
      ]
     },
     "metadata": {},
     "output_type": "display_data"
    },
    {
     "data": {
      "text/html": [
       "<table>\n",
       "<tbody>\n",
       "\t<tr><td> 0 </td><td> 75</td></tr>\n",
       "\t<tr><td>11 </td><td> 96</td></tr>\n",
       "\t<tr><td>24 </td><td>119</td></tr>\n",
       "\t<tr><td>39 </td><td>144</td></tr>\n",
       "\t<tr><td>56 </td><td>171</td></tr>\n",
       "</tbody>\n",
       "</table>\n"
      ],
      "text/latex": [
       "\\begin{tabular}{ll}\n",
       "\t  0  &  75\\\\\n",
       "\t 11  &  96\\\\\n",
       "\t 24  & 119\\\\\n",
       "\t 39  & 144\\\\\n",
       "\t 56  & 171\\\\\n",
       "\\end{tabular}\n"
      ],
      "text/markdown": [
       "\n",
       "|  0  |  75 | \n",
       "| 11  |  96 | \n",
       "| 24  | 119 | \n",
       "| 39  | 144 | \n",
       "| 56  | 171 | \n",
       "\n",
       "\n"
      ],
      "text/plain": [
       "     [,1] [,2]\n",
       "[1,]  0    75 \n",
       "[2,] 11    96 \n",
       "[3,] 24   119 \n",
       "[4,] 39   144 \n",
       "[5,] 56   171 "
      ]
     },
     "metadata": {},
     "output_type": "display_data"
    },
    {
     "data": {
      "text/html": [
       "<table>\n",
       "<tbody>\n",
       "\t<tr><td>140</td><td>190</td><td>240</td><td>290</td></tr>\n",
       "\t<tr><td>151</td><td>205</td><td>259</td><td>313</td></tr>\n",
       "\t<tr><td>162</td><td>220</td><td>278</td><td>336</td></tr>\n",
       "\t<tr><td>173</td><td>235</td><td>297</td><td>359</td></tr>\n",
       "\t<tr><td>184</td><td>250</td><td>316</td><td>382</td></tr>\n",
       "</tbody>\n",
       "</table>\n"
      ],
      "text/latex": [
       "\\begin{tabular}{llll}\n",
       "\t 140 & 190 & 240 & 290\\\\\n",
       "\t 151 & 205 & 259 & 313\\\\\n",
       "\t 162 & 220 & 278 & 336\\\\\n",
       "\t 173 & 235 & 297 & 359\\\\\n",
       "\t 184 & 250 & 316 & 382\\\\\n",
       "\\end{tabular}\n"
      ],
      "text/markdown": [
       "\n",
       "| 140 | 190 | 240 | 290 | \n",
       "| 151 | 205 | 259 | 313 | \n",
       "| 162 | 220 | 278 | 336 | \n",
       "| 173 | 235 | 297 | 359 | \n",
       "| 184 | 250 | 316 | 382 | \n",
       "\n",
       "\n"
      ],
      "text/plain": [
       "     [,1] [,2] [,3] [,4]\n",
       "[1,] 140  190  240  290 \n",
       "[2,] 151  205  259  313 \n",
       "[3,] 162  220  278  336 \n",
       "[4,] 173  235  297  359 \n",
       "[5,] 184  250  316  382 "
      ]
     },
     "metadata": {},
     "output_type": "display_data"
    }
   ],
   "source": [
    "M  <- matrix(c(10:19), nrow = 5, ncol = 2)\n",
    "G  <- matrix(c(0:9), nrow = 5 , ncol = 2)\n",
    "H  <- matrix(c(5:12), nrow = 2, ncol = 4)\n",
    "M + G\n",
    "# M + H       No tiene las mismas dimensiones\n",
    "M * G\n",
    "# M * H       No tiene las mismas dimensiones\n",
    "M%*%H\n",
    "# M%*%G       No cumple con las condiciones de la multiplicación de matrices"
   ]
  }
 ],
 "metadata": {
  "kernelspec": {
   "display_name": "R",
   "language": "R",
   "name": "ir"
  },
  "language_info": {
   "codemirror_mode": "r",
   "file_extension": ".r",
   "mimetype": "text/x-r-source",
   "name": "R",
   "pygments_lexer": "r",
   "version": "3.2.3"
  }
 },
 "nbformat": 4,
 "nbformat_minor": 2
}
