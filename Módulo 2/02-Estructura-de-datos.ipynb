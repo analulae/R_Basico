{
 "cells": [
  {
   "cell_type": "markdown",
   "metadata": {},
   "source": [
    "# Estructuras de datos"
   ]
  },
  {
   "cell_type": "markdown",
   "metadata": {},
   "source": [
    "Para R existen distintas estructuras de datos que pueden ser identificadas con los siguientes comandos"
   ]
  },
  {
   "cell_type": "code",
   "execution_count": 6,
   "metadata": {
    "collapsed": true
   },
   "outputs": [],
   "source": [
    "# str()\n",
    "# class()"
   ]
  },
  {
   "cell_type": "markdown",
   "metadata": {},
   "source": [
    "## Vectores"
   ]
  },
  {
   "cell_type": "markdown",
   "metadata": {},
   "source": [
    "Anteriormente hemos creado vectores de longitud 1 cuando guardamos en un objeto un único número.\n",
    "También observamos que podemos crear vectores con las funciones `c()` y `scan()`.\n",
    "\n",
    "Pero también podemos crearlos con secuencias, repeticiones, y la función `paste()`   "
   ]
  },
  {
   "cell_type": "markdown",
   "metadata": {},
   "source": []
  },
  {
   "cell_type": "code",
   "execution_count": 11,
   "metadata": {},
   "outputs": [
    {
     "data": {
      "text/html": [
       "<ol class=list-inline>\n",
       "\t<li>1</li>\n",
       "\t<li>2</li>\n",
       "\t<li>3</li>\n",
       "\t<li>4</li>\n",
       "\t<li>5</li>\n",
       "\t<li>6</li>\n",
       "\t<li>7</li>\n",
       "\t<li>8</li>\n",
       "</ol>\n"
      ],
      "text/latex": [
       "\\begin{enumerate*}\n",
       "\\item 1\n",
       "\\item 2\n",
       "\\item 3\n",
       "\\item 4\n",
       "\\item 5\n",
       "\\item 6\n",
       "\\item 7\n",
       "\\item 8\n",
       "\\end{enumerate*}\n"
      ],
      "text/markdown": [
       "1. 1\n",
       "2. 2\n",
       "3. 3\n",
       "4. 4\n",
       "5. 5\n",
       "6. 6\n",
       "7. 7\n",
       "8. 8\n",
       "\n",
       "\n"
      ],
      "text/plain": [
       "[1] 1 2 3 4 5 6 7 8"
      ]
     },
     "metadata": {},
     "output_type": "display_data"
    },
    {
     "data": {
      "text/html": [
       "<ol class=list-inline>\n",
       "\t<li>1</li>\n",
       "\t<li>2</li>\n",
       "\t<li>3</li>\n",
       "\t<li>4</li>\n",
       "\t<li>5</li>\n",
       "\t<li>6</li>\n",
       "\t<li>7</li>\n",
       "\t<li>8</li>\n",
       "</ol>\n"
      ],
      "text/latex": [
       "\\begin{enumerate*}\n",
       "\\item 1\n",
       "\\item 2\n",
       "\\item 3\n",
       "\\item 4\n",
       "\\item 5\n",
       "\\item 6\n",
       "\\item 7\n",
       "\\item 8\n",
       "\\end{enumerate*}\n"
      ],
      "text/markdown": [
       "1. 1\n",
       "2. 2\n",
       "3. 3\n",
       "4. 4\n",
       "5. 5\n",
       "6. 6\n",
       "7. 7\n",
       "8. 8\n",
       "\n",
       "\n"
      ],
      "text/plain": [
       "[1] 1 2 3 4 5 6 7 8"
      ]
     },
     "metadata": {},
     "output_type": "display_data"
    },
    {
     "data": {
      "text/html": [
       "<ol class=list-inline>\n",
       "\t<li>1</li>\n",
       "\t<li>1.5</li>\n",
       "\t<li>2</li>\n",
       "\t<li>2.5</li>\n",
       "\t<li>3</li>\n",
       "\t<li>3.5</li>\n",
       "\t<li>4</li>\n",
       "\t<li>4.5</li>\n",
       "\t<li>5</li>\n",
       "\t<li>5.5</li>\n",
       "\t<li>6</li>\n",
       "\t<li>6.5</li>\n",
       "\t<li>7</li>\n",
       "\t<li>7.5</li>\n",
       "\t<li>8</li>\n",
       "</ol>\n"
      ],
      "text/latex": [
       "\\begin{enumerate*}\n",
       "\\item 1\n",
       "\\item 1.5\n",
       "\\item 2\n",
       "\\item 2.5\n",
       "\\item 3\n",
       "\\item 3.5\n",
       "\\item 4\n",
       "\\item 4.5\n",
       "\\item 5\n",
       "\\item 5.5\n",
       "\\item 6\n",
       "\\item 6.5\n",
       "\\item 7\n",
       "\\item 7.5\n",
       "\\item 8\n",
       "\\end{enumerate*}\n"
      ],
      "text/markdown": [
       "1. 1\n",
       "2. 1.5\n",
       "3. 2\n",
       "4. 2.5\n",
       "5. 3\n",
       "6. 3.5\n",
       "7. 4\n",
       "8. 4.5\n",
       "9. 5\n",
       "10. 5.5\n",
       "11. 6\n",
       "12. 6.5\n",
       "13. 7\n",
       "14. 7.5\n",
       "15. 8\n",
       "\n",
       "\n"
      ],
      "text/plain": [
       " [1] 1.0 1.5 2.0 2.5 3.0 3.5 4.0 4.5 5.0 5.5 6.0 6.5 7.0 7.5 8.0"
      ]
     },
     "metadata": {},
     "output_type": "display_data"
    },
    {
     "data": {
      "text/html": [
       "<ol class=list-inline>\n",
       "\t<li>1</li>\n",
       "\t<li>1.5</li>\n",
       "\t<li>2</li>\n",
       "\t<li>2.5</li>\n",
       "\t<li>3</li>\n",
       "\t<li>3.5</li>\n",
       "\t<li>4</li>\n",
       "\t<li>4.5</li>\n",
       "\t<li>5</li>\n",
       "\t<li>5.5</li>\n",
       "\t<li>6</li>\n",
       "\t<li>6.5</li>\n",
       "\t<li>7</li>\n",
       "\t<li>7.5</li>\n",
       "\t<li>8</li>\n",
       "</ol>\n"
      ],
      "text/latex": [
       "\\begin{enumerate*}\n",
       "\\item 1\n",
       "\\item 1.5\n",
       "\\item 2\n",
       "\\item 2.5\n",
       "\\item 3\n",
       "\\item 3.5\n",
       "\\item 4\n",
       "\\item 4.5\n",
       "\\item 5\n",
       "\\item 5.5\n",
       "\\item 6\n",
       "\\item 6.5\n",
       "\\item 7\n",
       "\\item 7.5\n",
       "\\item 8\n",
       "\\end{enumerate*}\n"
      ],
      "text/markdown": [
       "1. 1\n",
       "2. 1.5\n",
       "3. 2\n",
       "4. 2.5\n",
       "5. 3\n",
       "6. 3.5\n",
       "7. 4\n",
       "8. 4.5\n",
       "9. 5\n",
       "10. 5.5\n",
       "11. 6\n",
       "12. 6.5\n",
       "13. 7\n",
       "14. 7.5\n",
       "15. 8\n",
       "\n",
       "\n"
      ],
      "text/plain": [
       " [1] 1.0 1.5 2.0 2.5 3.0 3.5 4.0 4.5 5.0 5.5 6.0 6.5 7.0 7.5 8.0"
      ]
     },
     "metadata": {},
     "output_type": "display_data"
    },
    {
     "data": {
      "text/html": [
       "<ol class=list-inline>\n",
       "\t<li>7</li>\n",
       "\t<li>7</li>\n",
       "\t<li>7</li>\n",
       "\t<li>7</li>\n",
       "\t<li>7</li>\n",
       "</ol>\n"
      ],
      "text/latex": [
       "\\begin{enumerate*}\n",
       "\\item 7\n",
       "\\item 7\n",
       "\\item 7\n",
       "\\item 7\n",
       "\\item 7\n",
       "\\end{enumerate*}\n"
      ],
      "text/markdown": [
       "1. 7\n",
       "2. 7\n",
       "3. 7\n",
       "4. 7\n",
       "5. 7\n",
       "\n",
       "\n"
      ],
      "text/plain": [
       "[1] 7 7 7 7 7"
      ]
     },
     "metadata": {},
     "output_type": "display_data"
    },
    {
     "data": {
      "text/html": [
       "<ol class=list-inline>\n",
       "\t<li>1</li>\n",
       "\t<li>2</li>\n",
       "\t<li>3</li>\n",
       "\t<li>4</li>\n",
       "\t<li>5</li>\n",
       "\t<li>1</li>\n",
       "\t<li>2</li>\n",
       "\t<li>3</li>\n",
       "\t<li>4</li>\n",
       "\t<li>5</li>\n",
       "\t<li>1</li>\n",
       "\t<li>2</li>\n",
       "\t<li>3</li>\n",
       "\t<li>4</li>\n",
       "\t<li>5</li>\n",
       "</ol>\n"
      ],
      "text/latex": [
       "\\begin{enumerate*}\n",
       "\\item 1\n",
       "\\item 2\n",
       "\\item 3\n",
       "\\item 4\n",
       "\\item 5\n",
       "\\item 1\n",
       "\\item 2\n",
       "\\item 3\n",
       "\\item 4\n",
       "\\item 5\n",
       "\\item 1\n",
       "\\item 2\n",
       "\\item 3\n",
       "\\item 4\n",
       "\\item 5\n",
       "\\end{enumerate*}\n"
      ],
      "text/markdown": [
       "1. 1\n",
       "2. 2\n",
       "3. 3\n",
       "4. 4\n",
       "5. 5\n",
       "6. 1\n",
       "7. 2\n",
       "8. 3\n",
       "9. 4\n",
       "10. 5\n",
       "11. 1\n",
       "12. 2\n",
       "13. 3\n",
       "14. 4\n",
       "15. 5\n",
       "\n",
       "\n"
      ],
      "text/plain": [
       " [1] 1 2 3 4 5 1 2 3 4 5 1 2 3 4 5"
      ]
     },
     "metadata": {},
     "output_type": "display_data"
    },
    {
     "data": {
      "text/html": [
       "<ol class=list-inline>\n",
       "\t<li>'A'</li>\n",
       "\t<li>'B'</li>\n",
       "\t<li>'C'</li>\n",
       "\t<li>'A'</li>\n",
       "\t<li>'B'</li>\n",
       "\t<li>'C'</li>\n",
       "\t<li>'A'</li>\n",
       "\t<li>'B'</li>\n",
       "\t<li>'C'</li>\n",
       "</ol>\n"
      ],
      "text/latex": [
       "\\begin{enumerate*}\n",
       "\\item 'A'\n",
       "\\item 'B'\n",
       "\\item 'C'\n",
       "\\item 'A'\n",
       "\\item 'B'\n",
       "\\item 'C'\n",
       "\\item 'A'\n",
       "\\item 'B'\n",
       "\\item 'C'\n",
       "\\end{enumerate*}\n"
      ],
      "text/markdown": [
       "1. 'A'\n",
       "2. 'B'\n",
       "3. 'C'\n",
       "4. 'A'\n",
       "5. 'B'\n",
       "6. 'C'\n",
       "7. 'A'\n",
       "8. 'B'\n",
       "9. 'C'\n",
       "\n",
       "\n"
      ],
      "text/plain": [
       "[1] \"A\" \"B\" \"C\" \"A\" \"B\" \"C\" \"A\" \"B\" \"C\""
      ]
     },
     "metadata": {},
     "output_type": "display_data"
    },
    {
     "data": {
      "text/html": [
       "<ol class=list-inline>\n",
       "\t<li>'T 1'</li>\n",
       "\t<li>'T 2'</li>\n",
       "\t<li>'T 3'</li>\n",
       "\t<li>'T 4'</li>\n",
       "</ol>\n"
      ],
      "text/latex": [
       "\\begin{enumerate*}\n",
       "\\item 'T 1'\n",
       "\\item 'T 2'\n",
       "\\item 'T 3'\n",
       "\\item 'T 4'\n",
       "\\end{enumerate*}\n"
      ],
      "text/markdown": [
       "1. 'T 1'\n",
       "2. 'T 2'\n",
       "3. 'T 3'\n",
       "4. 'T 4'\n",
       "\n",
       "\n"
      ],
      "text/plain": [
       "[1] \"T 1\" \"T 2\" \"T 3\" \"T 4\""
      ]
     },
     "metadata": {},
     "output_type": "display_data"
    },
    {
     "data": {
      "text/html": [
       "<ol class=list-inline>\n",
       "\t<li>'T.1'</li>\n",
       "\t<li>'T.2'</li>\n",
       "\t<li>'T.3'</li>\n",
       "\t<li>'T.4'</li>\n",
       "</ol>\n"
      ],
      "text/latex": [
       "\\begin{enumerate*}\n",
       "\\item 'T.1'\n",
       "\\item 'T.2'\n",
       "\\item 'T.3'\n",
       "\\item 'T.4'\n",
       "\\end{enumerate*}\n"
      ],
      "text/markdown": [
       "1. 'T.1'\n",
       "2. 'T.2'\n",
       "3. 'T.3'\n",
       "4. 'T.4'\n",
       "\n",
       "\n"
      ],
      "text/plain": [
       "[1] \"T.1\" \"T.2\" \"T.3\" \"T.4\""
      ]
     },
     "metadata": {},
     "output_type": "display_data"
    },
    {
     "data": {
      "text/html": [
       "<ol class=list-inline>\n",
       "\t<li>2</li>\n",
       "\t<li>4</li>\n",
       "\t<li>7</li>\n",
       "\t<li>13</li>\n",
       "\t<li>22</li>\n",
       "\t<li>30</li>\n",
       "\t<li>43</li>\n",
       "\t<li>51</li>\n",
       "\t<li>67</li>\n",
       "</ol>\n"
      ],
      "text/latex": [
       "\\begin{enumerate*}\n",
       "\\item 2\n",
       "\\item 4\n",
       "\\item 7\n",
       "\\item 13\n",
       "\\item 22\n",
       "\\item 30\n",
       "\\item 43\n",
       "\\item 51\n",
       "\\item 67\n",
       "\\end{enumerate*}\n"
      ],
      "text/markdown": [
       "1. 2\n",
       "2. 4\n",
       "3. 7\n",
       "4. 13\n",
       "5. 22\n",
       "6. 30\n",
       "7. 43\n",
       "8. 51\n",
       "9. 67\n",
       "\n",
       "\n"
      ],
      "text/plain": [
       "[1]  2  4  7 13 22 30 43 51 67"
      ]
     },
     "metadata": {},
     "output_type": "display_data"
    },
    {
     "data": {
      "text/html": [
       "<ol class=list-inline>\n",
       "\t<li>1</li>\n",
       "\t<li>2</li>\n",
       "\t<li>6</li>\n",
       "\t<li>5</li>\n",
       "\t<li>7</li>\n",
       "\t<li>8</li>\n",
       "\t<li>4</li>\n",
       "\t<li>9</li>\n",
       "\t<li>3</li>\n",
       "</ol>\n"
      ],
      "text/latex": [
       "\\begin{enumerate*}\n",
       "\\item 1\n",
       "\\item 2\n",
       "\\item 6\n",
       "\\item 5\n",
       "\\item 7\n",
       "\\item 8\n",
       "\\item 4\n",
       "\\item 9\n",
       "\\item 3\n",
       "\\end{enumerate*}\n"
      ],
      "text/markdown": [
       "1. 1\n",
       "2. 2\n",
       "3. 6\n",
       "4. 5\n",
       "5. 7\n",
       "6. 8\n",
       "7. 4\n",
       "8. 9\n",
       "9. 3\n",
       "\n",
       "\n"
      ],
      "text/plain": [
       "[1] 1 2 6 5 7 8 4 9 3"
      ]
     },
     "metadata": {},
     "output_type": "display_data"
    },
    {
     "data": {
      "text/html": [
       "<ol class=list-inline>\n",
       "\t<li>1</li>\n",
       "\t<li>2</li>\n",
       "\t<li>9</li>\n",
       "\t<li>7</li>\n",
       "\t<li>4</li>\n",
       "\t<li>3</li>\n",
       "\t<li>5</li>\n",
       "\t<li>6</li>\n",
       "\t<li>8</li>\n",
       "</ol>\n"
      ],
      "text/latex": [
       "\\begin{enumerate*}\n",
       "\\item 1\n",
       "\\item 2\n",
       "\\item 9\n",
       "\\item 7\n",
       "\\item 4\n",
       "\\item 3\n",
       "\\item 5\n",
       "\\item 6\n",
       "\\item 8\n",
       "\\end{enumerate*}\n"
      ],
      "text/markdown": [
       "1. 1\n",
       "2. 2\n",
       "3. 9\n",
       "4. 7\n",
       "5. 4\n",
       "6. 3\n",
       "7. 5\n",
       "8. 6\n",
       "9. 8\n",
       "\n",
       "\n"
      ],
      "text/plain": [
       "[1] 1 2 9 7 4 3 5 6 8"
      ]
     },
     "metadata": {},
     "output_type": "display_data"
    },
    {
     "data": {
      "text/html": [
       "<ol class=list-inline>\n",
       "\t<li>2</li>\n",
       "\t<li>4</li>\n",
       "\t<li>67</li>\n",
       "\t<li>43</li>\n",
       "\t<li>13</li>\n",
       "\t<li>7</li>\n",
       "\t<li>22</li>\n",
       "\t<li>30</li>\n",
       "\t<li>51</li>\n",
       "</ol>\n"
      ],
      "text/latex": [
       "\\begin{enumerate*}\n",
       "\\item 2\n",
       "\\item 4\n",
       "\\item 67\n",
       "\\item 43\n",
       "\\item 13\n",
       "\\item 7\n",
       "\\item 22\n",
       "\\item 30\n",
       "\\item 51\n",
       "\\end{enumerate*}\n"
      ],
      "text/markdown": [
       "1. 2\n",
       "2. 4\n",
       "3. 67\n",
       "4. 43\n",
       "5. 13\n",
       "6. 7\n",
       "7. 22\n",
       "8. 30\n",
       "9. 51\n",
       "\n",
       "\n"
      ],
      "text/plain": [
       "[1]  2  4 67 43 13  7 22 30 51"
      ]
     },
     "metadata": {},
     "output_type": "display_data"
    }
   ],
   "source": [
    "#Generando secuencias de datos \n",
    "#Operador\n",
    "1:8\n",
    "#Función seq()\n",
    "seq (1,8)\n",
    "seq (1,8, by= .5) # Cambiando valores por defecto de los argumentos\n",
    "a <- seq (1,8, length=15)\n",
    "a\n",
    "#Función rep()\n",
    "rep (7,5)\n",
    "rep (1:5,3)\n",
    "b <- rep (c(\"A\", \"B\", \"C\"), 3)\n",
    "b\n",
    "#Función paste()\n",
    "paste(\"T\",1:4)\n",
    "c <- paste(\"T\",1:4,sep=\".\")\n",
    "c\n",
    "new <- c(2, 4, 67, 43, 13, 7, 22, 30, 51)\n",
    "# Función sort()\n",
    "sort(new) # Devuelve los argumentos ordenados\n",
    "# Función order()\n",
    "order(new) # Devuelve la posición de los argumentos ordenados\n",
    "# Función rank()\n",
    "rank(new) # Devuelve el ranking de los elementos del vector en su posición original\n",
    "new"
   ]
  },
  {
   "cell_type": "markdown",
   "metadata": {},
   "source": [
    "Una de las principales características más importantes de R es la posibilidad de usar un vector como argumento de las funciones y así utilizar todos los elementos del mismo."
   ]
  },
  {
   "cell_type": "code",
   "execution_count": 8,
   "metadata": {
    "collapsed": true
   },
   "outputs": [],
   "source": [
    "# Crear un vector x de 15 números\n",
    "# Aplicar función max()\n",
    "# Crear un vector d con los vectores a, b, c"
   ]
  },
  {
   "cell_type": "markdown",
   "metadata": {},
   "source": [
    "Existirán otras veces en las que necesitaremos acceder específicamente a un elemento del vector, como este tiene una sola dimensión, ubicaremos entre `[]` la posición del elemento a escoger. En R el índice comienza en 1."
   ]
  },
  {
   "cell_type": "code",
   "execution_count": 3,
   "metadata": {
    "collapsed": true
   },
   "outputs": [],
   "source": [
    "# Seleccionar el elemento 7 de x\n",
    "# Seleccionar elementos del 9 al 12"
   ]
  },
  {
   "cell_type": "markdown",
   "metadata": {},
   "source": [
    "Podemos ordenar el vector en forma ascendente o decreciente con la función `sort()` y encontrar su longitud con `length()`."
   ]
  },
  {
   "cell_type": "code",
   "execution_count": null,
   "metadata": {
    "collapsed": true
   },
   "outputs": [],
   "source": [
    "# Ordenar x en orden ascendente\n",
    "# Averiguar la longitud de x"
   ]
  },
  {
   "cell_type": "markdown",
   "metadata": {},
   "source": [
    "### Operaciones con vectores"
   ]
  },
  {
   "cell_type": "markdown",
   "metadata": {},
   "source": [
    "Suma, resta, división, exponenciación, se definen de elemento a elemento entre vectores"
   ]
  },
  {
   "cell_type": "code",
   "execution_count": 22,
   "metadata": {
    "collapsed": true
   },
   "outputs": [],
   "source": [
    "# Suma entre dos vectores de longitud 4\n",
    "# Resta de dos vectores de longitud 2\n",
    "# Multiplicación de dos vectores de longitud 3\n",
    "# Eleva a potencia \n",
    "    #(2, 3, 4)^(3:1)\n",
    "#Probemos los operadores lógicos >,<,="
   ]
  },
  {
   "cell_type": "markdown",
   "metadata": {
    "collapsed": true
   },
   "source": [
    "## Matrices"
   ]
  },
  {
   "cell_type": "markdown",
   "metadata": {
    "collapsed": true
   },
   "source": [
    "Es un objeto bidimensonal, se puede reconocer como varios vectores guardados juntos; por esto, al igual que para los vectores, no es posible tener elementos de diferentes clases dentro de una misma matriz. Su tamaño está definido por su número de columnas y de filas.\n",
    "\n",
    "Normalmente, describimos  una matriz `A` como una matriz `m` x `n`, `A` teniendo exactamente `m` filas y `n` columnas, con un total de `mn`, donde cada entrada tiene una posición única dada por una fila y una columna específicas.\n",
    "\n",
    "Para crear una matriz en R usamos el comando de `matrix` y proveemos las entradas de la matriz en forma de vector."
   ]
  },
  {
   "cell_type": "code",
   "execution_count": 13,
   "metadata": {
    "collapsed": true
   },
   "outputs": [],
   "source": [
    "# Creemos un vector o elijamos uno de los anteriores\n",
    "# Utilicemos el comando matrix\n",
    "# Por defecto lo ordena por columnas (verticalmente), para cambiar : byrow = TRUE\n",
    "# Debemos asegurarnos que la longitud del vector coincida con el número de filas y columnas deseadas.\n",
    "# Qué sucede si no introducimos ncol y/o nrow, R devuelve una matriz de una sola columna."
   ]
  },
  {
   "cell_type": "code",
   "execution_count": 4,
   "metadata": {},
   "outputs": [
    {
     "data": {
      "text/html": [
       "<table>\n",
       "<tbody>\n",
       "\t<tr><td>34</td><td>37</td></tr>\n",
       "\t<tr><td>35</td><td>38</td></tr>\n",
       "\t<tr><td>36</td><td>39</td></tr>\n",
       "</tbody>\n",
       "</table>\n"
      ],
      "text/latex": [
       "\\begin{tabular}{ll}\n",
       "\t 34 & 37\\\\\n",
       "\t 35 & 38\\\\\n",
       "\t 36 & 39\\\\\n",
       "\\end{tabular}\n"
      ],
      "text/markdown": [
       "\n",
       "| 34 | 37 | \n",
       "| 35 | 38 | \n",
       "| 36 | 39 | \n",
       "\n",
       "\n"
      ],
      "text/plain": [
       "     [,1] [,2]\n",
       "[1,] 34   37  \n",
       "[2,] 35   38  \n",
       "[3,] 36   39  "
      ]
     },
     "metadata": {},
     "output_type": "display_data"
    },
    {
     "data": {
      "text/html": [
       "<table>\n",
       "<tbody>\n",
       "\t<tr><td>34</td></tr>\n",
       "\t<tr><td>35</td></tr>\n",
       "\t<tr><td>36</td></tr>\n",
       "\t<tr><td>37</td></tr>\n",
       "\t<tr><td>38</td></tr>\n",
       "\t<tr><td>39</td></tr>\n",
       "</tbody>\n",
       "</table>\n"
      ],
      "text/latex": [
       "\\begin{tabular}{l}\n",
       "\t 34\\\\\n",
       "\t 35\\\\\n",
       "\t 36\\\\\n",
       "\t 37\\\\\n",
       "\t 38\\\\\n",
       "\t 39\\\\\n",
       "\\end{tabular}\n"
      ],
      "text/markdown": [
       "\n",
       "| 34 | \n",
       "| 35 | \n",
       "| 36 | \n",
       "| 37 | \n",
       "| 38 | \n",
       "| 39 | \n",
       "\n",
       "\n"
      ],
      "text/plain": [
       "     [,1]\n",
       "[1,] 34  \n",
       "[2,] 35  \n",
       "[3,] 36  \n",
       "[4,] 37  \n",
       "[5,] 38  \n",
       "[6,] 39  "
      ]
     },
     "metadata": {},
     "output_type": "display_data"
    }
   ],
   "source": [
    "m  <- 34:39\n",
    "A  <- matrix(m, ncol = 2, nrow = 3)\n",
    "AA  <- matrix(m)\n",
    "A\n",
    "AA"
   ]
  },
  {
   "cell_type": "code",
   "execution_count": null,
   "metadata": {
    "collapsed": true
   },
   "outputs": [],
   "source": [
    "#Construir matriz con rbind [filas], cbind [columnas]"
   ]
  },
  {
   "cell_type": "code",
   "execution_count": 3,
   "metadata": {
    "collapsed": true
   },
   "outputs": [],
   "source": [
    "# Elegir el conjunto de datos euro.cross\n",
    "# Buscar información sobre el conjunto de datos\n",
    "# Cuál es la dimensión de esa matriz A, cuántas filas y cuántas columnas\n",
    "# Acceder al elemento 8,9 n de la matriz anterior\n",
    "# Acceder a la 4 columna\n",
    "# Acceder a la 6 fila\n",
    "# Mostrar la diagonal diag()"
   ]
  },
  {
   "cell_type": "markdown",
   "metadata": {
    "collapsed": true
   },
   "source": [
    "Si queremos omitir alguna de las filas o columnas simplemente los seleccionamos como se hace normalmente con [] y se pone un (-) delante la fila o columna a omitir"
   ]
  },
  {
   "cell_type": "code",
   "execution_count": null,
   "metadata": {
    "collapsed": true
   },
   "outputs": [],
   "source": [
    "# Crear una matriz A de números consecutivos de 7 filas y 4 columnas\n",
    "# Omitir las filas 3 y 6, y las columnas 2 y 3"
   ]
  },
  {
   "cell_type": "code",
   "execution_count": null,
   "metadata": {
    "collapsed": true
   },
   "outputs": [],
   "source": [
    "# Ahora, si lo queremos reescribir\n",
    "# Ubicamos la fila o columna que queremos reescribir y le asignamos un valor\n",
    "# Utiliza la matriz anterior, A\n",
    "# Crea una nueva matriz B\n",
    "# Reemplaza la posición 3, 4\n",
    "# Reemplaza la primera columna por el número 29 (Usar rep())\n",
    "# Reemplaza la segunda columna por números consecutivos\n",
    "# Reemplaza las entradas 1, 3; 3, 3; 5,3 Pista: ¿Cuál es el patrón?\n",
    "# Reemplaza la diagonal por el número 1"
   ]
  },
  {
   "cell_type": "code",
   "execution_count": 5,
   "metadata": {},
   "outputs": [
    {
     "ename": "ERROR",
     "evalue": "Error in B[c(1, 3, 5), 3] <- rep(x = 33, times = 3): objeto 'B' no encontrado\n",
     "output_type": "error",
     "traceback": [
      "Error in B[c(1, 3, 5), 3] <- rep(x = 33, times = 3): objeto 'B' no encontrado\nTraceback:\n"
     ]
    }
   ],
   "source": [
    "B[c(1, 3, 5),3] <- rep(x = 33, times = 3)"
   ]
  },
  {
   "cell_type": "code",
   "execution_count": 30,
   "metadata": {
    "collapsed": true
   },
   "outputs": [],
   "source": [
    "# Cambiemos los nombres de las columnas y filas \n",
    "# rownames\n",
    "# colnames"
   ]
  },
  {
   "cell_type": "markdown",
   "metadata": {},
   "source": [
    "Podemos realizar las mismas operaciones con las matrices que con los vectores, es decir, podemos sumar, restar y hasta multiplicar, pero esto solo será posible si las matrices tienen las mismas dimensiones, dichas operaciones se realizarán elemento a elemento.\n",
    "\n",
    "No hay que confundir la multiplicación matricial, que de hecho tiene un operador diferente:"
   ]
  },
  {
   "cell_type": "code",
   "execution_count": 22,
   "metadata": {},
   "outputs": [
    {
     "data": {
      "text/html": [
       "<table>\n",
       "<tbody>\n",
       "\t<tr><td>10</td><td>20</td></tr>\n",
       "\t<tr><td>12</td><td>22</td></tr>\n",
       "\t<tr><td>14</td><td>24</td></tr>\n",
       "\t<tr><td>16</td><td>26</td></tr>\n",
       "\t<tr><td>18</td><td>28</td></tr>\n",
       "</tbody>\n",
       "</table>\n"
      ],
      "text/latex": [
       "\\begin{tabular}{ll}\n",
       "\t 10 & 20\\\\\n",
       "\t 12 & 22\\\\\n",
       "\t 14 & 24\\\\\n",
       "\t 16 & 26\\\\\n",
       "\t 18 & 28\\\\\n",
       "\\end{tabular}\n"
      ],
      "text/markdown": [
       "\n",
       "| 10 | 20 | \n",
       "| 12 | 22 | \n",
       "| 14 | 24 | \n",
       "| 16 | 26 | \n",
       "| 18 | 28 | \n",
       "\n",
       "\n"
      ],
      "text/plain": [
       "     [,1] [,2]\n",
       "[1,] 10   20  \n",
       "[2,] 12   22  \n",
       "[3,] 14   24  \n",
       "[4,] 16   26  \n",
       "[5,] 18   28  "
      ]
     },
     "metadata": {},
     "output_type": "display_data"
    },
    {
     "data": {
      "text/html": [
       "<table>\n",
       "<tbody>\n",
       "\t<tr><td> 0 </td><td> 75</td></tr>\n",
       "\t<tr><td>11 </td><td> 96</td></tr>\n",
       "\t<tr><td>24 </td><td>119</td></tr>\n",
       "\t<tr><td>39 </td><td>144</td></tr>\n",
       "\t<tr><td>56 </td><td>171</td></tr>\n",
       "</tbody>\n",
       "</table>\n"
      ],
      "text/latex": [
       "\\begin{tabular}{ll}\n",
       "\t  0  &  75\\\\\n",
       "\t 11  &  96\\\\\n",
       "\t 24  & 119\\\\\n",
       "\t 39  & 144\\\\\n",
       "\t 56  & 171\\\\\n",
       "\\end{tabular}\n"
      ],
      "text/markdown": [
       "\n",
       "|  0  |  75 | \n",
       "| 11  |  96 | \n",
       "| 24  | 119 | \n",
       "| 39  | 144 | \n",
       "| 56  | 171 | \n",
       "\n",
       "\n"
      ],
      "text/plain": [
       "     [,1] [,2]\n",
       "[1,]  0    75 \n",
       "[2,] 11    96 \n",
       "[3,] 24   119 \n",
       "[4,] 39   144 \n",
       "[5,] 56   171 "
      ]
     },
     "metadata": {},
     "output_type": "display_data"
    },
    {
     "data": {
      "text/html": [
       "<table>\n",
       "<tbody>\n",
       "\t<tr><td>140</td><td>190</td><td>240</td><td>290</td></tr>\n",
       "\t<tr><td>151</td><td>205</td><td>259</td><td>313</td></tr>\n",
       "\t<tr><td>162</td><td>220</td><td>278</td><td>336</td></tr>\n",
       "\t<tr><td>173</td><td>235</td><td>297</td><td>359</td></tr>\n",
       "\t<tr><td>184</td><td>250</td><td>316</td><td>382</td></tr>\n",
       "</tbody>\n",
       "</table>\n"
      ],
      "text/latex": [
       "\\begin{tabular}{llll}\n",
       "\t 140 & 190 & 240 & 290\\\\\n",
       "\t 151 & 205 & 259 & 313\\\\\n",
       "\t 162 & 220 & 278 & 336\\\\\n",
       "\t 173 & 235 & 297 & 359\\\\\n",
       "\t 184 & 250 & 316 & 382\\\\\n",
       "\\end{tabular}\n"
      ],
      "text/markdown": [
       "\n",
       "| 140 | 190 | 240 | 290 | \n",
       "| 151 | 205 | 259 | 313 | \n",
       "| 162 | 220 | 278 | 336 | \n",
       "| 173 | 235 | 297 | 359 | \n",
       "| 184 | 250 | 316 | 382 | \n",
       "\n",
       "\n"
      ],
      "text/plain": [
       "     [,1] [,2] [,3] [,4]\n",
       "[1,] 140  190  240  290 \n",
       "[2,] 151  205  259  313 \n",
       "[3,] 162  220  278  336 \n",
       "[4,] 173  235  297  359 \n",
       "[5,] 184  250  316  382 "
      ]
     },
     "metadata": {},
     "output_type": "display_data"
    }
   ],
   "source": [
    "M  <- matrix(c(10:19), nrow = 5, ncol = 2)\n",
    "G  <- matrix(c(0:9), nrow = 5 , ncol = 2)\n",
    "H  <- matrix(c(5:12), nrow = 2, ncol = 4)\n",
    "M + G\n",
    "# M + H       No tiene las mismas dimensiones\n",
    "M * G\n",
    "# M * H       No tiene las mismas dimensiones\n",
    "M%*%H\n",
    "# M%*%G       No cumple con las condiciones de la multiplicación de matrices"
   ]
  },
  {
   "cell_type": "markdown",
   "metadata": {},
   "source": [
    "Otras operaciones importantes son, la transpuesta, la inversa y el determinante de una matriz."
   ]
  },
  {
   "cell_type": "code",
   "execution_count": null,
   "metadata": {
    "collapsed": true
   },
   "outputs": [],
   "source": [
    "# t() transpuesta\n",
    "# solve () inversa\n",
    "# det() determinante"
   ]
  },
  {
   "cell_type": "markdown",
   "metadata": {},
   "source": [
    "## Arreglos"
   ]
  },
  {
   "cell_type": "markdown",
   "metadata": {},
   "source": [
    "Así como las matrices son la extensión de vectores, los arreglos son la extensión de matrices y por lo tanto también de los vectores.\n",
    "Un arreglo puede ser considerada una colección de matrices igualmente dimensionadas. Todavía tenemos un número fijo de filas y columnas y una nueva dimensión \"layer\" o capa."
   ]
  },
  {
   "cell_type": "markdown",
   "metadata": {},
   "source": [
    "![Arreglos](../Images/022-arrays.png)"
   ]
  },
  {
   "cell_type": "markdown",
   "metadata": {},
   "source": [
    "Un arreglo de 3 x 4 x 2. [fila, columna, capa]"
   ]
  },
  {
   "cell_type": "code",
   "execution_count": 3,
   "metadata": {
    "scrolled": true
   },
   "outputs": [
    {
     "name": "stdout",
     "output_type": "stream",
     "text": [
      ", , 1\n",
      "\n",
      "     [,1] [,2] [,3] [,4]\n",
      "[1,]    1    4    7   10\n",
      "[2,]    2    5    8   11\n",
      "[3,]    3    6    9   12\n",
      "\n",
      ", , 2\n",
      "\n",
      "     [,1] [,2] [,3] [,4]\n",
      "[1,]   13   16   19   22\n",
      "[2,]   14   17   20   23\n",
      "[3,]   15   18   21   24\n",
      "\n"
     ]
    }
   ],
   "source": [
    "# Un ejemplo sencillo sería:\n",
    "AR <- array(data=1:24,dim=c(3,4,2))\n",
    "print(AR)"
   ]
  },
  {
   "cell_type": "markdown",
   "metadata": {
    "collapsed": true
   },
   "source": [
    "Para crear subconjuntos, hacer extracciones y reemplazos se utiliza la misma lógica de las otras estructuras de datos, utilizando `[]` y las posiciones respectivas."
   ]
  },
  {
   "cell_type": "code",
   "execution_count": 17,
   "metadata": {},
   "outputs": [],
   "source": [
    "# Seleccionar la segunda fila de la primera capa\n",
    "# Seleccionar de la primera fila, las columnas 3 y 4 de la segunda capa\n",
    "# Seleccionar la fila 1 y 2 de las dos capas\n",
    "# Usar print() para ver los resultad\n",
    "# Reemplaza la tercera fila de la segunda capa por una repetición del número 4"
   ]
  },
  {
   "cell_type": "markdown",
   "metadata": {},
   "source": [
    "## Data Frame\n"
   ]
  },
  {
   "cell_type": "markdown",
   "metadata": {},
   "source": [
    "Es un objeto bidimensional (filas x columnas).\n",
    "\n",
    "R trata las columnas (llamadas variables) como distintas variables (mismo tipo) y las filas(llamadas records) representan las observaciones (diferentes tipos).\n",
    "Los Data Frames son rectangulares y los espacios vacíos se llenan con NA, **sus elementos tienen la misma longitud**.\n",
    "\n",
    "Se pueden crear con la funcion `data.frame()` y puedes seleccionar una columna usando el operador `$`. \n",
    "\n"
   ]
  },
  {
   "cell_type": "code",
   "execution_count": 20,
   "metadata": {},
   "outputs": [
    {
     "data": {
      "text/html": [
       "<table>\n",
       "<thead><tr><th scope=col>name</th><th scope=col>gender</th><th scope=col>age</th></tr></thead>\n",
       "<tbody>\n",
       "\t<tr><td>Ana   </td><td>F     </td><td>23    </td></tr>\n",
       "\t<tr><td>Daniel</td><td>M     </td><td>27    </td></tr>\n",
       "\t<tr><td>Chris </td><td>M     </td><td>54    </td></tr>\n",
       "\t<tr><td>Mary  </td><td>F     </td><td>34    </td></tr>\n",
       "\t<tr><td>Albert</td><td>M     </td><td>46    </td></tr>\n",
       "\t<tr><td>Flor  </td><td>F     </td><td>22    </td></tr>\n",
       "\t<tr><td>Gendry</td><td>M     </td><td>45    </td></tr>\n",
       "</tbody>\n",
       "</table>\n"
      ],
      "text/latex": [
       "\\begin{tabular}{r|lll}\n",
       " name & gender & age\\\\\n",
       "\\hline\n",
       "\t Ana    & F      & 23    \\\\\n",
       "\t Daniel & M      & 27    \\\\\n",
       "\t Chris  & M      & 54    \\\\\n",
       "\t Mary   & F      & 34    \\\\\n",
       "\t Albert & M      & 46    \\\\\n",
       "\t Flor   & F      & 22    \\\\\n",
       "\t Gendry & M      & 45    \\\\\n",
       "\\end{tabular}\n"
      ],
      "text/markdown": [
       "\n",
       "name | gender | age | \n",
       "|---|---|---|---|---|---|---|\n",
       "| Ana    | F      | 23     | \n",
       "| Daniel | M      | 27     | \n",
       "| Chris  | M      | 54     | \n",
       "| Mary   | F      | 34     | \n",
       "| Albert | M      | 46     | \n",
       "| Flor   | F      | 22     | \n",
       "| Gendry | M      | 45     | \n",
       "\n",
       "\n"
      ],
      "text/plain": [
       "  name   gender age\n",
       "1 Ana    F      23 \n",
       "2 Daniel M      27 \n",
       "3 Chris  M      54 \n",
       "4 Mary   F      34 \n",
       "5 Albert M      46 \n",
       "6 Flor   F      22 \n",
       "7 Gendry M      45 "
      ]
     },
     "metadata": {},
     "output_type": "display_data"
    }
   ],
   "source": [
    "# Creemos 3 vectores l, m, n de longitud 6\n",
    "name <- c(\"Ana\", \"Daniel\", \"Chris\", \"Mary\", \"Albert\", \"Flor\", \"Gendry\")\n",
    "gender <- c(\"F\", \"M\", \"M\", \"F\", \"M\", \"F\", \"M\")\n",
    "age <- c(23, 27, 54, 34, 46, 22, 45)\n",
    "datos <- data.frame(name, gender, age)\n",
    "datos"
   ]
  },
  {
   "cell_type": "markdown",
   "metadata": {
    "collapsed": true
   },
   "source": [
    "La mayoría de las veces nos vamos a encontrar con bases de datos gigantes, que no va a ser muy práctico desplegar en la consola, por lo que R presenta varias funciones que nos permiten extraer información y observar algunas características de los datos. Veamos algunas:\n",
    "\n",
    "Carguemos un conjunto de datos, utilizando la función `data()` (podemos encontrar más información sobre los conjuntos de datos en wikipedia, por ejemplo: https://es.wikipedia.org/wiki/Iris_flor_conjunto_de_datos )"
   ]
  },
  {
   "cell_type": "code",
   "execution_count": null,
   "metadata": {
    "collapsed": true
   },
   "outputs": [],
   "source": [
    "data()\n",
    "# Elegir un dataset y aplicar las siguientes funciones\n",
    "# head()\n",
    "# tail()\n",
    "# fix()\n",
    "# edit()\n",
    "# str()\n",
    "# summary()"
   ]
  },
  {
   "cell_type": "markdown",
   "metadata": {
    "collapsed": true
   },
   "source": [
    "Podemos conocer algunas características del data frame con las siguientes funciones:"
   ]
  },
  {
   "cell_type": "code",
   "execution_count": 20,
   "metadata": {},
   "outputs": [
    {
     "ename": "ERROR",
     "evalue": "Error in nrow(): el argumento \"x\" está ausente, sin valor por omisión\n",
     "output_type": "error",
     "traceback": [
      "Error in nrow(): el argumento \"x\" está ausente, sin valor por omisión\nTraceback:\n",
      "1. nrow()"
     ]
    }
   ],
   "source": [
    "nrow() #Introducir dentro del paréntesis el conjunto seleccionado\n",
    "ncol()\n",
    "dim ()"
   ]
  },
  {
   "cell_type": "markdown",
   "metadata": {},
   "source": [
    "### Agregar columnas y combinar Data Frames"
   ]
  },
  {
   "cell_type": "code",
   "execution_count": 1,
   "metadata": {
    "collapsed": true
   },
   "outputs": [],
   "source": [
    "# Agregando una fila (record)\n",
    "# Creamos un data.frame() con los datos (mismo tamaño al data frame a agregar)\n",
    "# Utilizamos rbind(\"data frame a editar\", \"nuevo data frame\")"
   ]
  },
  {
   "cell_type": "code",
   "execution_count": null,
   "metadata": {
    "collapsed": true
   },
   "outputs": [],
   "source": [
    "# Agregando una columna (variable)\n",
    "# Creamos un vector con los datos correspondientes a cada inviduo(record),\n",
    "# este vector debe almacenarse en un objeto con el nombre de la variable\n",
    "# Utilizamos cbind(\"data frame a editar\", \"vector a agregar\")"
   ]
  },
  {
   "cell_type": "code",
   "execution_count": 21,
   "metadata": {},
   "outputs": [
    {
     "data": {
      "text/html": [
       "<ol class=list-inline>\n",
       "\t<li>Ana</li>\n",
       "\t<li>Daniel</li>\n",
       "\t<li>Chris</li>\n",
       "\t<li>Mary</li>\n",
       "\t<li>Albert</li>\n",
       "\t<li>Flor</li>\n",
       "\t<li>Gendry</li>\n",
       "</ol>\n"
      ],
      "text/latex": [
       "\\begin{enumerate*}\n",
       "\\item Ana\n",
       "\\item Daniel\n",
       "\\item Chris\n",
       "\\item Mary\n",
       "\\item Albert\n",
       "\\item Flor\n",
       "\\item Gendry\n",
       "\\end{enumerate*}\n"
      ],
      "text/markdown": [
       "1. Ana\n",
       "2. Daniel\n",
       "3. Chris\n",
       "4. Mary\n",
       "5. Albert\n",
       "6. Flor\n",
       "7. Gendry\n",
       "\n",
       "\n"
      ],
      "text/plain": [
       "[1] Ana    Daniel Chris  Mary   Albert Flor   Gendry\n",
       "Levels: Albert Ana Chris Daniel Flor Gendry Mary"
      ]
     },
     "metadata": {},
     "output_type": "display_data"
    },
    {
     "data": {
      "text/html": [
       "<ol class=list-inline>\n",
       "\t<li>23</li>\n",
       "\t<li>27</li>\n",
       "\t<li>54</li>\n",
       "\t<li>34</li>\n",
       "\t<li>46</li>\n",
       "\t<li>22</li>\n",
       "\t<li>45</li>\n",
       "</ol>\n"
      ],
      "text/latex": [
       "\\begin{enumerate*}\n",
       "\\item 23\n",
       "\\item 27\n",
       "\\item 54\n",
       "\\item 34\n",
       "\\item 46\n",
       "\\item 22\n",
       "\\item 45\n",
       "\\end{enumerate*}\n"
      ],
      "text/markdown": [
       "1. 23\n",
       "2. 27\n",
       "3. 54\n",
       "4. 34\n",
       "5. 46\n",
       "6. 22\n",
       "7. 45\n",
       "\n",
       "\n"
      ],
      "text/plain": [
       "[1] 23 27 54 34 46 22 45"
      ]
     },
     "metadata": {},
     "output_type": "display_data"
    },
    {
     "data": {
      "text/html": [
       "<table>\n",
       "<thead><tr><th scope=col>name</th><th scope=col>gender</th><th scope=col>age</th><th scope=col>retiro</th><th scope=col>estado_civil</th></tr></thead>\n",
       "<tbody>\n",
       "\t<tr><td>Ana   </td><td>F     </td><td>23    </td><td>37    </td><td>S     </td></tr>\n",
       "\t<tr><td>Daniel</td><td>M     </td><td>27    </td><td>33    </td><td>S     </td></tr>\n",
       "\t<tr><td>Chris </td><td>M     </td><td>54    </td><td> 6    </td><td>V     </td></tr>\n",
       "\t<tr><td>Mary  </td><td>F     </td><td>34    </td><td>26    </td><td>C     </td></tr>\n",
       "\t<tr><td>Albert</td><td>M     </td><td>46    </td><td>14    </td><td>C     </td></tr>\n",
       "\t<tr><td>Flor  </td><td>F     </td><td>22    </td><td>38    </td><td>S     </td></tr>\n",
       "\t<tr><td>Gendry</td><td>M     </td><td>45    </td><td>15    </td><td>C     </td></tr>\n",
       "</tbody>\n",
       "</table>\n"
      ],
      "text/latex": [
       "\\begin{tabular}{r|lllll}\n",
       " name & gender & age & retiro & estado\\_civil\\\\\n",
       "\\hline\n",
       "\t Ana    & F      & 23     & 37     & S     \\\\\n",
       "\t Daniel & M      & 27     & 33     & S     \\\\\n",
       "\t Chris  & M      & 54     &  6     & V     \\\\\n",
       "\t Mary   & F      & 34     & 26     & C     \\\\\n",
       "\t Albert & M      & 46     & 14     & C     \\\\\n",
       "\t Flor   & F      & 22     & 38     & S     \\\\\n",
       "\t Gendry & M      & 45     & 15     & C     \\\\\n",
       "\\end{tabular}\n"
      ],
      "text/markdown": [
       "\n",
       "name | gender | age | retiro | estado_civil | \n",
       "|---|---|---|---|---|---|---|\n",
       "| Ana    | F      | 23     | 37     | S      | \n",
       "| Daniel | M      | 27     | 33     | S      | \n",
       "| Chris  | M      | 54     |  6     | V      | \n",
       "| Mary   | F      | 34     | 26     | C      | \n",
       "| Albert | M      | 46     | 14     | C      | \n",
       "| Flor   | F      | 22     | 38     | S      | \n",
       "| Gendry | M      | 45     | 15     | C      | \n",
       "\n",
       "\n"
      ],
      "text/plain": [
       "  name   gender age retiro estado_civil\n",
       "1 Ana    F      23  37     S           \n",
       "2 Daniel M      27  33     S           \n",
       "3 Chris  M      54   6     V           \n",
       "4 Mary   F      34  26     C           \n",
       "5 Albert M      46  14     C           \n",
       "6 Flor   F      22  38     S           \n",
       "7 Gendry M      45  15     C           "
      ]
     },
     "metadata": {},
     "output_type": "display_data"
    },
    {
     "data": {
      "text/html": [
       "<table>\n",
       "<thead><tr><th></th><th scope=col>name</th><th scope=col>gender</th><th scope=col>age</th><th scope=col>retiro</th><th scope=col>estado_civil</th></tr></thead>\n",
       "<tbody>\n",
       "\t<tr><th scope=row>2</th><td>Daniel</td><td>M     </td><td>27    </td><td>33    </td><td>S     </td></tr>\n",
       "\t<tr><th scope=row>3</th><td>Chris </td><td>M     </td><td>54    </td><td> 6    </td><td>V     </td></tr>\n",
       "\t<tr><th scope=row>5</th><td>Albert</td><td>M     </td><td>46    </td><td>14    </td><td>C     </td></tr>\n",
       "\t<tr><th scope=row>7</th><td>Gendry</td><td>M     </td><td>45    </td><td>15    </td><td>C     </td></tr>\n",
       "</tbody>\n",
       "</table>\n"
      ],
      "text/latex": [
       "\\begin{tabular}{r|lllll}\n",
       "  & name & gender & age & retiro & estado\\_civil\\\\\n",
       "\\hline\n",
       "\t2 & Daniel & M      & 27     & 33     & S     \\\\\n",
       "\t3 & Chris  & M      & 54     &  6     & V     \\\\\n",
       "\t5 & Albert & M      & 46     & 14     & C     \\\\\n",
       "\t7 & Gendry & M      & 45     & 15     & C     \\\\\n",
       "\\end{tabular}\n"
      ],
      "text/markdown": [
       "\n",
       "| <!--/--> | name | gender | age | retiro | estado_civil | \n",
       "|---|---|---|---|\n",
       "| 2 | Daniel | M      | 27     | 33     | S      | \n",
       "| 3 | Chris  | M      | 54     |  6     | V      | \n",
       "| 5 | Albert | M      | 46     | 14     | C      | \n",
       "| 7 | Gendry | M      | 45     | 15     | C      | \n",
       "\n",
       "\n"
      ],
      "text/plain": [
       "  name   gender age retiro estado_civil\n",
       "2 Daniel M      27  33     S           \n",
       "3 Chris  M      54   6     V           \n",
       "5 Albert M      46  14     C           \n",
       "7 Gendry M      45  15     C           "
      ]
     },
     "metadata": {},
     "output_type": "display_data"
    },
    {
     "data": {
      "text/html": [
       "<table>\n",
       "<thead><tr><th></th><th scope=col>gender</th><th scope=col>age</th></tr></thead>\n",
       "<tbody>\n",
       "\t<tr><th scope=row>2</th><td>M </td><td>27</td></tr>\n",
       "\t<tr><th scope=row>3</th><td>M </td><td>54</td></tr>\n",
       "\t<tr><th scope=row>5</th><td>M </td><td>46</td></tr>\n",
       "\t<tr><th scope=row>7</th><td>M </td><td>45</td></tr>\n",
       "</tbody>\n",
       "</table>\n"
      ],
      "text/latex": [
       "\\begin{tabular}{r|ll}\n",
       "  & gender & age\\\\\n",
       "\\hline\n",
       "\t2 & M  & 27\\\\\n",
       "\t3 & M  & 54\\\\\n",
       "\t5 & M  & 46\\\\\n",
       "\t7 & M  & 45\\\\\n",
       "\\end{tabular}\n"
      ],
      "text/markdown": [
       "\n",
       "| <!--/--> | gender | age | \n",
       "|---|---|---|---|\n",
       "| 2 | M  | 27 | \n",
       "| 3 | M  | 54 | \n",
       "| 5 | M  | 46 | \n",
       "| 7 | M  | 45 | \n",
       "\n",
       "\n"
      ],
      "text/plain": [
       "  gender age\n",
       "2 M      27 \n",
       "3 M      54 \n",
       "5 M      46 \n",
       "7 M      45 "
      ]
     },
     "metadata": {},
     "output_type": "display_data"
    },
    {
     "data": {
      "text/html": [
       "<table>\n",
       "<thead><tr><th scope=col>name</th><th scope=col>estado_civil</th></tr></thead>\n",
       "<tbody>\n",
       "\t<tr><td>Ana   </td><td>S     </td></tr>\n",
       "\t<tr><td>Daniel</td><td>S     </td></tr>\n",
       "\t<tr><td>Chris </td><td>V     </td></tr>\n",
       "\t<tr><td>Mary  </td><td>C     </td></tr>\n",
       "\t<tr><td>Albert</td><td>C     </td></tr>\n",
       "\t<tr><td>Flor  </td><td>S     </td></tr>\n",
       "\t<tr><td>Gendry</td><td>C     </td></tr>\n",
       "</tbody>\n",
       "</table>\n"
      ],
      "text/latex": [
       "\\begin{tabular}{r|ll}\n",
       " name & estado\\_civil\\\\\n",
       "\\hline\n",
       "\t Ana    & S     \\\\\n",
       "\t Daniel & S     \\\\\n",
       "\t Chris  & V     \\\\\n",
       "\t Mary   & C     \\\\\n",
       "\t Albert & C     \\\\\n",
       "\t Flor   & S     \\\\\n",
       "\t Gendry & C     \\\\\n",
       "\\end{tabular}\n"
      ],
      "text/markdown": [
       "\n",
       "name | estado_civil | \n",
       "|---|---|---|---|---|---|---|\n",
       "| Ana    | S      | \n",
       "| Daniel | S      | \n",
       "| Chris  | V      | \n",
       "| Mary   | C      | \n",
       "| Albert | C      | \n",
       "| Flor   | S      | \n",
       "| Gendry | C      | \n",
       "\n",
       "\n"
      ],
      "text/plain": [
       "  name   estado_civil\n",
       "1 Ana    S           \n",
       "2 Daniel S           \n",
       "3 Chris  V           \n",
       "4 Mary   C           \n",
       "5 Albert C           \n",
       "6 Flor   S           \n",
       "7 Gendry C           "
      ]
     },
     "metadata": {},
     "output_type": "display_data"
    }
   ],
   "source": [
    "# Vamos a manipular un poco el data frame con el operador $\n",
    "\n",
    "datos$name # Seleccionar una columna por nombre\n",
    "datos$retiro <- (60 - datos$age) # Calcular una nueva variable\n",
    "datos$estado_civil <- c(\"S\", \"S\", \"V\", \"C\", \"C\", \"S\", \"C\") # Nueva variable\n",
    "datos[,3] #Seleccionar la columna 3 \n",
    "datos\n",
    "onlymale <- datos[datos$gender == \"M\",]\n",
    "onlymale\n",
    "ageonlymale  <- onlymale[,c(\"gender\", \"age\")]\n",
    "ageonlymale\n",
    "e_civil<-  subset.data.frame(datos, select = c(name, estado_civil))\n",
    "e_civil"
   ]
  },
  {
   "cell_type": "markdown",
   "metadata": {},
   "source": [
    "## Listas"
   ]
  },
  {
   "cell_type": "markdown",
   "metadata": {},
   "source": [
    "Es una clase de datos quede  puede contener 0 o más elementos, cada uno de los cuales puede ser de un tipo distinto. Es especialmente útil porque una sola lista puede contener una matriz numérica, una cadena de caracteres, factores, e incluso otra lista."
   ]
  },
  {
   "cell_type": "code",
   "execution_count": 54,
   "metadata": {},
   "outputs": [
    {
     "data": {
      "text/html": [
       "<ol>\n",
       "\t<li><ol class=list-inline>\n",
       "\t<li>9</li>\n",
       "\t<li>8</li>\n",
       "\t<li>7</li>\n",
       "\t<li>6</li>\n",
       "\t<li>5</li>\n",
       "\t<li>4</li>\n",
       "\t<li>3</li>\n",
       "\t<li>2</li>\n",
       "\t<li>1</li>\n",
       "</ol>\n",
       "</li>\n",
       "\t<li><ol class=list-inline>\n",
       "\t<li>'Ana'</li>\n",
       "\t<li>'María'</li>\n",
       "\t<li>'Robert'</li>\n",
       "\t<li>'Luis'</li>\n",
       "</ol>\n",
       "</li>\n",
       "\t<li><table>\n",
       "<tbody>\n",
       "\t<tr><td>10</td><td>15</td></tr>\n",
       "\t<tr><td>11</td><td>16</td></tr>\n",
       "\t<tr><td>12</td><td>17</td></tr>\n",
       "\t<tr><td>13</td><td>18</td></tr>\n",
       "\t<tr><td>14</td><td>19</td></tr>\n",
       "</tbody>\n",
       "</table>\n",
       "</li>\n",
       "\t<li><table>\n",
       "<thead><tr><th scope=col>name</th><th scope=col>gender</th><th scope=col>age</th><th scope=col>retiro</th><th scope=col>estado_civil</th></tr></thead>\n",
       "<tbody>\n",
       "\t<tr><td>Ana   </td><td>F     </td><td>23    </td><td>37    </td><td>S     </td></tr>\n",
       "\t<tr><td>Daniel</td><td>M     </td><td>27    </td><td>33    </td><td>S     </td></tr>\n",
       "\t<tr><td>Chris </td><td>M     </td><td>54    </td><td> 6    </td><td>V     </td></tr>\n",
       "\t<tr><td>Mary  </td><td>F     </td><td>34    </td><td>26    </td><td>C     </td></tr>\n",
       "\t<tr><td>Albert</td><td>M     </td><td>46    </td><td>14    </td><td>C     </td></tr>\n",
       "\t<tr><td>Flor  </td><td>F     </td><td>22    </td><td>38    </td><td>S     </td></tr>\n",
       "\t<tr><td>Gendry</td><td>M     </td><td>45    </td><td>15    </td><td>C     </td></tr>\n",
       "</tbody>\n",
       "</table>\n",
       "</li>\n",
       "</ol>\n"
      ],
      "text/latex": [
       "\\begin{enumerate}\n",
       "\\item \\begin{enumerate*}\n",
       "\\item 9\n",
       "\\item 8\n",
       "\\item 7\n",
       "\\item 6\n",
       "\\item 5\n",
       "\\item 4\n",
       "\\item 3\n",
       "\\item 2\n",
       "\\item 1\n",
       "\\end{enumerate*}\n",
       "\n",
       "\\item \\begin{enumerate*}\n",
       "\\item 'Ana'\n",
       "\\item 'María'\n",
       "\\item 'Robert'\n",
       "\\item 'Luis'\n",
       "\\end{enumerate*}\n",
       "\n",
       "\\item \\begin{tabular}{ll}\n",
       "\t 10 & 15\\\\\n",
       "\t 11 & 16\\\\\n",
       "\t 12 & 17\\\\\n",
       "\t 13 & 18\\\\\n",
       "\t 14 & 19\\\\\n",
       "\\end{tabular}\n",
       "\n",
       "\\item \\begin{tabular}{r|lllll}\n",
       " name & gender & age & retiro & estado\\_civil\\\\\n",
       "\\hline\n",
       "\t Ana    & F      & 23     & 37     & S     \\\\\n",
       "\t Daniel & M      & 27     & 33     & S     \\\\\n",
       "\t Chris  & M      & 54     &  6     & V     \\\\\n",
       "\t Mary   & F      & 34     & 26     & C     \\\\\n",
       "\t Albert & M      & 46     & 14     & C     \\\\\n",
       "\t Flor   & F      & 22     & 38     & S     \\\\\n",
       "\t Gendry & M      & 45     & 15     & C     \\\\\n",
       "\\end{tabular}\n",
       "\n",
       "\\end{enumerate}\n"
      ],
      "text/markdown": [
       "1. 1. 9\n",
       "2. 8\n",
       "3. 7\n",
       "4. 6\n",
       "5. 5\n",
       "6. 4\n",
       "7. 3\n",
       "8. 2\n",
       "9. 1\n",
       "\n",
       "\n",
       "\n",
       "2. 1. 'Ana'\n",
       "2. 'María'\n",
       "3. 'Robert'\n",
       "4. 'Luis'\n",
       "\n",
       "\n",
       "\n",
       "3. \n",
       "| 10 | 15 | \n",
       "| 11 | 16 | \n",
       "| 12 | 17 | \n",
       "| 13 | 18 | \n",
       "| 14 | 19 | \n",
       "\n",
       "\n",
       "\n",
       "4. \n",
       "name | gender | age | retiro | estado_civil | \n",
       "|---|---|---|---|---|---|---|\n",
       "| Ana    | F      | 23     | 37     | S      | \n",
       "| Daniel | M      | 27     | 33     | S      | \n",
       "| Chris  | M      | 54     |  6     | V      | \n",
       "| Mary   | F      | 34     | 26     | C      | \n",
       "| Albert | M      | 46     | 14     | C      | \n",
       "| Flor   | F      | 22     | 38     | S      | \n",
       "| Gendry | M      | 45     | 15     | C      | \n",
       "\n",
       "\n",
       "\n",
       "\n",
       "\n"
      ],
      "text/plain": [
       "[[1]]\n",
       "[1] 9 8 7 6 5 4 3 2 1\n",
       "\n",
       "[[2]]\n",
       "[1] \"Ana\"    \"María\"  \"Robert\" \"Luis\"  \n",
       "\n",
       "[[3]]\n",
       "     [,1] [,2]\n",
       "[1,]   10   15\n",
       "[2,]   11   16\n",
       "[3,]   12   17\n",
       "[4,]   13   18\n",
       "[5,]   14   19\n",
       "\n",
       "[[4]]\n",
       "    name gender age retiro estado_civil\n",
       "1    Ana      F  23     37            S\n",
       "2 Daniel      M  27     33            S\n",
       "3  Chris      M  54      6            V\n",
       "4   Mary      F  34     26            C\n",
       "5 Albert      M  46     14            C\n",
       "6   Flor      F  22     38            S\n",
       "7 Gendry      M  45     15            C\n"
      ]
     },
     "metadata": {},
     "output_type": "display_data"
    }
   ],
   "source": [
    "# Creemos un vector de números, uno de caracteres, una matriz, y un data frame \n",
    "e1  <- c(9:1)\n",
    "e2 <- c(\"Ana\", \"María\", \"Robert\", \"Luis\")\n",
    "e3  <- M\n",
    "e4  <- datos\n",
    "mylist  <- list(e1, e2, e3, e4)\n",
    "mylist"
   ]
  },
  {
   "cell_type": "code",
   "execution_count": 55,
   "metadata": {},
   "outputs": [
    {
     "data": {
      "text/html": [
       "<dl>\n",
       "\t<dt>$Vector1</dt>\n",
       "\t\t<dd><ol class=list-inline>\n",
       "\t<li>9</li>\n",
       "\t<li>8</li>\n",
       "\t<li>7</li>\n",
       "\t<li>6</li>\n",
       "\t<li>5</li>\n",
       "\t<li>4</li>\n",
       "\t<li>3</li>\n",
       "\t<li>2</li>\n",
       "\t<li>1</li>\n",
       "</ol>\n",
       "</dd>\n",
       "\t<dt>$Vector2</dt>\n",
       "\t\t<dd><ol class=list-inline>\n",
       "\t<li>'Ana'</li>\n",
       "\t<li>'María'</li>\n",
       "\t<li>'Robert'</li>\n",
       "\t<li>'Luis'</li>\n",
       "</ol>\n",
       "</dd>\n",
       "\t<dt>$Matriz</dt>\n",
       "\t\t<dd><table>\n",
       "<tbody>\n",
       "\t<tr><td>10</td><td>15</td></tr>\n",
       "\t<tr><td>11</td><td>16</td></tr>\n",
       "\t<tr><td>12</td><td>17</td></tr>\n",
       "\t<tr><td>13</td><td>18</td></tr>\n",
       "\t<tr><td>14</td><td>19</td></tr>\n",
       "</tbody>\n",
       "</table>\n",
       "</dd>\n",
       "\t<dt>$DataFrame</dt>\n",
       "\t\t<dd><table>\n",
       "<thead><tr><th scope=col>name</th><th scope=col>gender</th><th scope=col>age</th><th scope=col>retiro</th><th scope=col>estado_civil</th></tr></thead>\n",
       "<tbody>\n",
       "\t<tr><td>Ana   </td><td>F     </td><td>23    </td><td>37    </td><td>S     </td></tr>\n",
       "\t<tr><td>Daniel</td><td>M     </td><td>27    </td><td>33    </td><td>S     </td></tr>\n",
       "\t<tr><td>Chris </td><td>M     </td><td>54    </td><td> 6    </td><td>V     </td></tr>\n",
       "\t<tr><td>Mary  </td><td>F     </td><td>34    </td><td>26    </td><td>C     </td></tr>\n",
       "\t<tr><td>Albert</td><td>M     </td><td>46    </td><td>14    </td><td>C     </td></tr>\n",
       "\t<tr><td>Flor  </td><td>F     </td><td>22    </td><td>38    </td><td>S     </td></tr>\n",
       "\t<tr><td>Gendry</td><td>M     </td><td>45    </td><td>15    </td><td>C     </td></tr>\n",
       "</tbody>\n",
       "</table>\n",
       "</dd>\n",
       "</dl>\n"
      ],
      "text/latex": [
       "\\begin{description}\n",
       "\\item[\\$Vector1] \\begin{enumerate*}\n",
       "\\item 9\n",
       "\\item 8\n",
       "\\item 7\n",
       "\\item 6\n",
       "\\item 5\n",
       "\\item 4\n",
       "\\item 3\n",
       "\\item 2\n",
       "\\item 1\n",
       "\\end{enumerate*}\n",
       "\n",
       "\\item[\\$Vector2] \\begin{enumerate*}\n",
       "\\item 'Ana'\n",
       "\\item 'María'\n",
       "\\item 'Robert'\n",
       "\\item 'Luis'\n",
       "\\end{enumerate*}\n",
       "\n",
       "\\item[\\$Matriz] \\begin{tabular}{ll}\n",
       "\t 10 & 15\\\\\n",
       "\t 11 & 16\\\\\n",
       "\t 12 & 17\\\\\n",
       "\t 13 & 18\\\\\n",
       "\t 14 & 19\\\\\n",
       "\\end{tabular}\n",
       "\n",
       "\\item[\\$DataFrame] \\begin{tabular}{r|lllll}\n",
       " name & gender & age & retiro & estado\\_civil\\\\\n",
       "\\hline\n",
       "\t Ana    & F      & 23     & 37     & S     \\\\\n",
       "\t Daniel & M      & 27     & 33     & S     \\\\\n",
       "\t Chris  & M      & 54     &  6     & V     \\\\\n",
       "\t Mary   & F      & 34     & 26     & C     \\\\\n",
       "\t Albert & M      & 46     & 14     & C     \\\\\n",
       "\t Flor   & F      & 22     & 38     & S     \\\\\n",
       "\t Gendry & M      & 45     & 15     & C     \\\\\n",
       "\\end{tabular}\n",
       "\n",
       "\\end{description}\n"
      ],
      "text/markdown": [
       "$Vector1\n",
       ":   1. 9\n",
       "2. 8\n",
       "3. 7\n",
       "4. 6\n",
       "5. 5\n",
       "6. 4\n",
       "7. 3\n",
       "8. 2\n",
       "9. 1\n",
       "\n",
       "\n",
       "\n",
       "$Vector2\n",
       ":   1. 'Ana'\n",
       "2. 'María'\n",
       "3. 'Robert'\n",
       "4. 'Luis'\n",
       "\n",
       "\n",
       "\n",
       "$Matriz\n",
       ":   \n",
       "| 10 | 15 | \n",
       "| 11 | 16 | \n",
       "| 12 | 17 | \n",
       "| 13 | 18 | \n",
       "| 14 | 19 | \n",
       "\n",
       "\n",
       "\n",
       "$DataFrame\n",
       ":   \n",
       "name | gender | age | retiro | estado_civil | \n",
       "|---|---|---|---|---|---|---|\n",
       "| Ana    | F      | 23     | 37     | S      | \n",
       "| Daniel | M      | 27     | 33     | S      | \n",
       "| Chris  | M      | 54     |  6     | V      | \n",
       "| Mary   | F      | 34     | 26     | C      | \n",
       "| Albert | M      | 46     | 14     | C      | \n",
       "| Flor   | F      | 22     | 38     | S      | \n",
       "| Gendry | M      | 45     | 15     | C      | \n",
       "\n",
       "\n",
       "\n",
       "\n",
       "\n"
      ],
      "text/plain": [
       "$Vector1\n",
       "[1] 9 8 7 6 5 4 3 2 1\n",
       "\n",
       "$Vector2\n",
       "[1] \"Ana\"    \"María\"  \"Robert\" \"Luis\"  \n",
       "\n",
       "$Matriz\n",
       "     [,1] [,2]\n",
       "[1,]   10   15\n",
       "[2,]   11   16\n",
       "[3,]   12   17\n",
       "[4,]   13   18\n",
       "[5,]   14   19\n",
       "\n",
       "$DataFrame\n",
       "    name gender age retiro estado_civil\n",
       "1    Ana      F  23     37            S\n",
       "2 Daniel      M  27     33            S\n",
       "3  Chris      M  54      6            V\n",
       "4   Mary      F  34     26            C\n",
       "5 Albert      M  46     14            C\n",
       "6   Flor      F  22     38            S\n",
       "7 Gendry      M  45     15            C\n"
      ]
     },
     "metadata": {},
     "output_type": "display_data"
    }
   ],
   "source": [
    "# Nombremos cada uno de los elementos dentro de la lista\n",
    "names(mylist) <- c(\"Vector1\", \"Vector2\", \"Matriz\", \"DataFrame\")\n",
    "mylist"
   ]
  },
  {
   "cell_type": "code",
   "execution_count": 57,
   "metadata": {},
   "outputs": [
    {
     "data": {
      "text/html": [
       "<ol class=list-inline>\n",
       "\t<li>'vector11'</li>\n",
       "\t<li>'vector22'</li>\n",
       "\t<li>'matriz11'</li>\n",
       "\t<li>'dataframe11'</li>\n",
       "</ol>\n"
      ],
      "text/latex": [
       "\\begin{enumerate*}\n",
       "\\item 'vector11'\n",
       "\\item 'vector22'\n",
       "\\item 'matriz11'\n",
       "\\item 'dataframe11'\n",
       "\\end{enumerate*}\n"
      ],
      "text/markdown": [
       "1. 'vector11'\n",
       "2. 'vector22'\n",
       "3. 'matriz11'\n",
       "4. 'dataframe11'\n",
       "\n",
       "\n"
      ],
      "text/plain": [
       "[1] \"vector11\"    \"vector22\"    \"matriz11\"    \"dataframe11\""
      ]
     },
     "metadata": {},
     "output_type": "display_data"
    },
    {
     "data": {
      "text/html": [
       "4"
      ],
      "text/latex": [
       "4"
      ],
      "text/markdown": [
       "4"
      ],
      "text/plain": [
       "[1] 4"
      ]
     },
     "metadata": {},
     "output_type": "display_data"
    }
   ],
   "source": [
    "# También podemos nombrar los elementos de la siguiente manera\n",
    "mylist <- list(vector11 = e1, vector22 = e2, matriz11 = e3, dataframe11 = e4)\n",
    "# Otra opción menos elegantes es escribir cada elemento dentro de los argumentos\n",
    "names(mylist)\n",
    "length(mylist)"
   ]
  },
  {
   "cell_type": "code",
   "execution_count": 34,
   "metadata": {},
   "outputs": [
    {
     "data": {
      "text/html": [
       "<table>\n",
       "<tbody>\n",
       "\t<tr><td>10</td><td>15</td></tr>\n",
       "\t<tr><td>11</td><td>16</td></tr>\n",
       "\t<tr><td>12</td><td>17</td></tr>\n",
       "\t<tr><td>13</td><td>18</td></tr>\n",
       "\t<tr><td>14</td><td>19</td></tr>\n",
       "</tbody>\n",
       "</table>\n"
      ],
      "text/latex": [
       "\\begin{tabular}{ll}\n",
       "\t 10 & 15\\\\\n",
       "\t 11 & 16\\\\\n",
       "\t 12 & 17\\\\\n",
       "\t 13 & 18\\\\\n",
       "\t 14 & 19\\\\\n",
       "\\end{tabular}\n"
      ],
      "text/markdown": [
       "\n",
       "| 10 | 15 | \n",
       "| 11 | 16 | \n",
       "| 12 | 17 | \n",
       "| 13 | 18 | \n",
       "| 14 | 19 | \n",
       "\n",
       "\n"
      ],
      "text/plain": [
       "     [,1] [,2]\n",
       "[1,] 10   15  \n",
       "[2,] 11   16  \n",
       "[3,] 12   17  \n",
       "[4,] 13   18  \n",
       "[5,] 14   19  "
      ]
     },
     "metadata": {},
     "output_type": "display_data"
    }
   ],
   "source": [
    "#Para acceder a uno de los elementos utilizamos [[]]\n",
    "mylist[[3]]"
   ]
  },
  {
   "cell_type": "code",
   "execution_count": 38,
   "metadata": {},
   "outputs": [
    {
     "data": {
      "text/html": [
       "17"
      ],
      "text/latex": [
       "17"
      ],
      "text/markdown": [
       "17"
      ],
      "text/plain": [
       "[1] 17"
      ]
     },
     "metadata": {},
     "output_type": "display_data"
    },
    {
     "data": {
      "text/html": [
       "<ol class=list-inline>\n",
       "\t<li>12</li>\n",
       "\t<li>11</li>\n",
       "\t<li>10</li>\n",
       "\t<li>9</li>\n",
       "\t<li>8</li>\n",
       "\t<li>7</li>\n",
       "\t<li>6</li>\n",
       "\t<li>5</li>\n",
       "\t<li>4</li>\n",
       "</ol>\n"
      ],
      "text/latex": [
       "\\begin{enumerate*}\n",
       "\\item 12\n",
       "\\item 11\n",
       "\\item 10\n",
       "\\item 9\n",
       "\\item 8\n",
       "\\item 7\n",
       "\\item 6\n",
       "\\item 5\n",
       "\\item 4\n",
       "\\end{enumerate*}\n"
      ],
      "text/markdown": [
       "1. 12\n",
       "2. 11\n",
       "3. 10\n",
       "4. 9\n",
       "5. 8\n",
       "6. 7\n",
       "7. 6\n",
       "8. 5\n",
       "9. 4\n",
       "\n",
       "\n"
      ],
      "text/plain": [
       "[1] 12 11 10  9  8  7  6  5  4"
      ]
     },
     "metadata": {},
     "output_type": "display_data"
    }
   ],
   "source": [
    "#También podemos acceder a alguna entrada, fila o columna específicos de cada elemento\n",
    "mylist[[3]][3,2]\n",
    "# Además de hacer operaciones con ese elemento particular (dependiento del tipo)\n",
    "nuevo <- mylist[[1]] + 3\n",
    "nuevo"
   ]
  },
  {
   "cell_type": "code",
   "execution_count": 45,
   "metadata": {},
   "outputs": [
    {
     "data": {
      "text/html": [
       "<ol class=list-inline>\n",
       "\t<li>'Ana'</li>\n",
       "\t<li>'María'</li>\n",
       "\t<li>'Robert'</li>\n",
       "\t<li>'Luis'</li>\n",
       "</ol>\n"
      ],
      "text/latex": [
       "\\begin{enumerate*}\n",
       "\\item 'Ana'\n",
       "\\item 'María'\n",
       "\\item 'Robert'\n",
       "\\item 'Luis'\n",
       "\\end{enumerate*}\n"
      ],
      "text/markdown": [
       "1. 'Ana'\n",
       "2. 'María'\n",
       "3. 'Robert'\n",
       "4. 'Luis'\n",
       "\n",
       "\n"
      ],
      "text/plain": [
       "[1] \"Ana\"    \"María\"  \"Robert\" \"Luis\"  "
      ]
     },
     "metadata": {},
     "output_type": "display_data"
    }
   ],
   "source": [
    "# Ahora podemos acceder a ellos por sus nombres\n",
    "mylist$vector22"
   ]
  },
  {
   "cell_type": "code",
   "execution_count": 58,
   "metadata": {},
   "outputs": [
    {
     "data": {
      "text/html": [
       "<ol class=list-inline>\n",
       "\t<li>'Ana'</li>\n",
       "\t<li>'María'</li>\n",
       "\t<li>'Robert'</li>\n",
       "\t<li>'Luis'</li>\n",
       "\t<li>'Luisa'</li>\n",
       "\t<li>'Rosa'</li>\n",
       "</ol>\n"
      ],
      "text/latex": [
       "\\begin{enumerate*}\n",
       "\\item 'Ana'\n",
       "\\item 'María'\n",
       "\\item 'Robert'\n",
       "\\item 'Luis'\n",
       "\\item 'Luisa'\n",
       "\\item 'Rosa'\n",
       "\\end{enumerate*}\n"
      ],
      "text/markdown": [
       "1. 'Ana'\n",
       "2. 'María'\n",
       "3. 'Robert'\n",
       "4. 'Luis'\n",
       "5. 'Luisa'\n",
       "6. 'Rosa'\n",
       "\n",
       "\n"
      ],
      "text/plain": [
       "[1] \"Ana\"    \"María\"  \"Robert\" \"Luis\"   \"Luisa\"  \"Rosa\"  "
      ]
     },
     "metadata": {},
     "output_type": "display_data"
    },
    {
     "data": {
      "text/html": [
       "<ol class=list-inline>\n",
       "\t<li>'9'</li>\n",
       "\t<li>'8'</li>\n",
       "\t<li>'7'</li>\n",
       "\t<li>'6'</li>\n",
       "\t<li>'5'</li>\n",
       "\t<li>'4'</li>\n",
       "\t<li>'3'</li>\n",
       "\t<li>'2'</li>\n",
       "\t<li>'1'</li>\n",
       "\t<li>'4'</li>\n",
       "\t<li>'5'</li>\n",
       "</ol>\n"
      ],
      "text/latex": [
       "\\begin{enumerate*}\n",
       "\\item '9'\n",
       "\\item '8'\n",
       "\\item '7'\n",
       "\\item '6'\n",
       "\\item '5'\n",
       "\\item '4'\n",
       "\\item '3'\n",
       "\\item '2'\n",
       "\\item '1'\n",
       "\\item '4'\n",
       "\\item '5'\n",
       "\\end{enumerate*}\n"
      ],
      "text/markdown": [
       "1. '9'\n",
       "2. '8'\n",
       "3. '7'\n",
       "4. '6'\n",
       "5. '5'\n",
       "6. '4'\n",
       "7. '3'\n",
       "8. '2'\n",
       "9. '1'\n",
       "10. '4'\n",
       "11. '5'\n",
       "\n",
       "\n"
      ],
      "text/plain": [
       " [1] \"9\" \"8\" \"7\" \"6\" \"5\" \"4\" \"3\" \"2\" \"1\" \"4\" \"5\""
      ]
     },
     "metadata": {},
     "output_type": "display_data"
    }
   ],
   "source": [
    "mylist[[2]] <- paste(c(mylist$vector22, \"Luisa\", \"Rosa\"))\n",
    "mylist$vector22\n",
    "mylist[[1]]  <- paste(c(mylist[[1]], 4, 5))\n",
    "mylist$vector11"
   ]
  },
  {
   "cell_type": "markdown",
   "metadata": {},
   "source": [
    "### Listas dentro de listas"
   ]
  },
  {
   "cell_type": "code",
   "execution_count": 61,
   "metadata": {},
   "outputs": [
    {
     "data": {
      "text/html": [
       "<dl>\n",
       "\t<dt>$logical</dt>\n",
       "\t\t<dd><ol class=list-inline>\n",
       "\t<li>TRUE</li>\n",
       "\t<li>TRUE</li>\n",
       "\t<li>FALSE</li>\n",
       "\t<li>FALSE</li>\n",
       "\t<li>FALSE</li>\n",
       "\t<li>TRUE</li>\n",
       "\t<li>FALSE</li>\n",
       "\t<li>FALSE</li>\n",
       "\t<li>TRUE</li>\n",
       "\t<li>TRUE</li>\n",
       "</ol>\n",
       "</dd>\n",
       "\t<dt>$string</dt>\n",
       "\t\t<dd>'hello friend'</dd>\n",
       "\t<dt>$matriz2</dt>\n",
       "\t\t<dd><table>\n",
       "<tbody>\n",
       "\t<tr><td>30</td><td>45</td></tr>\n",
       "\t<tr><td>33</td><td>48</td></tr>\n",
       "\t<tr><td>36</td><td>51</td></tr>\n",
       "\t<tr><td>39</td><td>54</td></tr>\n",
       "\t<tr><td>42</td><td>57</td></tr>\n",
       "</tbody>\n",
       "</table>\n",
       "</dd>\n",
       "</dl>\n"
      ],
      "text/latex": [
       "\\begin{description}\n",
       "\\item[\\$logical] \\begin{enumerate*}\n",
       "\\item TRUE\n",
       "\\item TRUE\n",
       "\\item FALSE\n",
       "\\item FALSE\n",
       "\\item FALSE\n",
       "\\item TRUE\n",
       "\\item FALSE\n",
       "\\item FALSE\n",
       "\\item TRUE\n",
       "\\item TRUE\n",
       "\\end{enumerate*}\n",
       "\n",
       "\\item[\\$string] 'hello friend'\n",
       "\\item[\\$matriz2] \\begin{tabular}{ll}\n",
       "\t 30 & 45\\\\\n",
       "\t 33 & 48\\\\\n",
       "\t 36 & 51\\\\\n",
       "\t 39 & 54\\\\\n",
       "\t 42 & 57\\\\\n",
       "\\end{tabular}\n",
       "\n",
       "\\end{description}\n"
      ],
      "text/markdown": [
       "$logical\n",
       ":   1. TRUE\n",
       "2. TRUE\n",
       "3. FALSE\n",
       "4. FALSE\n",
       "5. FALSE\n",
       "6. TRUE\n",
       "7. FALSE\n",
       "8. FALSE\n",
       "9. TRUE\n",
       "10. TRUE\n",
       "\n",
       "\n",
       "\n",
       "$string\n",
       ":   'hello friend'\n",
       "$matriz2\n",
       ":   \n",
       "| 30 | 45 | \n",
       "| 33 | 48 | \n",
       "| 36 | 51 | \n",
       "| 39 | 54 | \n",
       "| 42 | 57 | \n",
       "\n",
       "\n",
       "\n",
       "\n",
       "\n"
      ],
      "text/plain": [
       "$logical\n",
       " [1]  TRUE  TRUE FALSE FALSE FALSE  TRUE FALSE FALSE  TRUE  TRUE\n",
       "\n",
       "$string\n",
       "[1] \"hello friend\"\n",
       "\n",
       "$matriz2\n",
       "     [,1] [,2]\n",
       "[1,]   30   45\n",
       "[2,]   33   48\n",
       "[3,]   36   51\n",
       "[4,]   39   54\n",
       "[5,]   42   57\n"
      ]
     },
     "metadata": {},
     "output_type": "display_data"
    },
    {
     "data": {
      "text/html": [
       "<dl>\n",
       "\t<dt>$logical</dt>\n",
       "\t\t<dd><ol class=list-inline>\n",
       "\t<li>TRUE</li>\n",
       "\t<li>TRUE</li>\n",
       "\t<li>FALSE</li>\n",
       "\t<li>FALSE</li>\n",
       "\t<li>FALSE</li>\n",
       "\t<li>TRUE</li>\n",
       "\t<li>FALSE</li>\n",
       "\t<li>FALSE</li>\n",
       "\t<li>TRUE</li>\n",
       "\t<li>TRUE</li>\n",
       "</ol>\n",
       "</dd>\n",
       "\t<dt>$string</dt>\n",
       "\t\t<dd>'hello friend'</dd>\n",
       "\t<dt>$matriz2</dt>\n",
       "\t\t<dd><table>\n",
       "<tbody>\n",
       "\t<tr><td>30</td><td>45</td></tr>\n",
       "\t<tr><td>33</td><td>48</td></tr>\n",
       "\t<tr><td>36</td><td>51</td></tr>\n",
       "\t<tr><td>39</td><td>54</td></tr>\n",
       "\t<tr><td>42</td><td>57</td></tr>\n",
       "</tbody>\n",
       "</table>\n",
       "</dd>\n",
       "\t<dt>$lista</dt>\n",
       "\t\t<dd><dl>\n",
       "\t<dt>$vector11</dt>\n",
       "\t\t<dd><ol class=list-inline>\n",
       "\t<li>'9'</li>\n",
       "\t<li>'8'</li>\n",
       "\t<li>'7'</li>\n",
       "\t<li>'6'</li>\n",
       "\t<li>'5'</li>\n",
       "\t<li>'4'</li>\n",
       "\t<li>'3'</li>\n",
       "\t<li>'2'</li>\n",
       "\t<li>'1'</li>\n",
       "\t<li>'4'</li>\n",
       "\t<li>'5'</li>\n",
       "</ol>\n",
       "</dd>\n",
       "\t<dt>$vector22</dt>\n",
       "\t\t<dd><ol class=list-inline>\n",
       "\t<li>'Ana'</li>\n",
       "\t<li>'María'</li>\n",
       "\t<li>'Robert'</li>\n",
       "\t<li>'Luis'</li>\n",
       "\t<li>'Luisa'</li>\n",
       "\t<li>'Rosa'</li>\n",
       "</ol>\n",
       "</dd>\n",
       "\t<dt>$matriz11</dt>\n",
       "\t\t<dd><table>\n",
       "<tbody>\n",
       "\t<tr><td>10</td><td>15</td></tr>\n",
       "\t<tr><td>11</td><td>16</td></tr>\n",
       "\t<tr><td>12</td><td>17</td></tr>\n",
       "\t<tr><td>13</td><td>18</td></tr>\n",
       "\t<tr><td>14</td><td>19</td></tr>\n",
       "</tbody>\n",
       "</table>\n",
       "</dd>\n",
       "\t<dt>$dataframe11</dt>\n",
       "\t\t<dd><table>\n",
       "<thead><tr><th scope=col>name</th><th scope=col>gender</th><th scope=col>age</th><th scope=col>retiro</th><th scope=col>estado_civil</th></tr></thead>\n",
       "<tbody>\n",
       "\t<tr><td>Ana   </td><td>F     </td><td>23    </td><td>37    </td><td>S     </td></tr>\n",
       "\t<tr><td>Daniel</td><td>M     </td><td>27    </td><td>33    </td><td>S     </td></tr>\n",
       "\t<tr><td>Chris </td><td>M     </td><td>54    </td><td> 6    </td><td>V     </td></tr>\n",
       "\t<tr><td>Mary  </td><td>F     </td><td>34    </td><td>26    </td><td>C     </td></tr>\n",
       "\t<tr><td>Albert</td><td>M     </td><td>46    </td><td>14    </td><td>C     </td></tr>\n",
       "\t<tr><td>Flor  </td><td>F     </td><td>22    </td><td>38    </td><td>S     </td></tr>\n",
       "\t<tr><td>Gendry</td><td>M     </td><td>45    </td><td>15    </td><td>C     </td></tr>\n",
       "</tbody>\n",
       "</table>\n",
       "</dd>\n",
       "</dl>\n",
       "</dd>\n",
       "</dl>\n"
      ],
      "text/latex": [
       "\\begin{description}\n",
       "\\item[\\$logical] \\begin{enumerate*}\n",
       "\\item TRUE\n",
       "\\item TRUE\n",
       "\\item FALSE\n",
       "\\item FALSE\n",
       "\\item FALSE\n",
       "\\item TRUE\n",
       "\\item FALSE\n",
       "\\item FALSE\n",
       "\\item TRUE\n",
       "\\item TRUE\n",
       "\\end{enumerate*}\n",
       "\n",
       "\\item[\\$string] 'hello friend'\n",
       "\\item[\\$matriz2] \\begin{tabular}{ll}\n",
       "\t 30 & 45\\\\\n",
       "\t 33 & 48\\\\\n",
       "\t 36 & 51\\\\\n",
       "\t 39 & 54\\\\\n",
       "\t 42 & 57\\\\\n",
       "\\end{tabular}\n",
       "\n",
       "\\item[\\$lista] \\begin{description}\n",
       "\\item[\\$vector11] \\begin{enumerate*}\n",
       "\\item '9'\n",
       "\\item '8'\n",
       "\\item '7'\n",
       "\\item '6'\n",
       "\\item '5'\n",
       "\\item '4'\n",
       "\\item '3'\n",
       "\\item '2'\n",
       "\\item '1'\n",
       "\\item '4'\n",
       "\\item '5'\n",
       "\\end{enumerate*}\n",
       "\n",
       "\\item[\\$vector22] \\begin{enumerate*}\n",
       "\\item 'Ana'\n",
       "\\item 'María'\n",
       "\\item 'Robert'\n",
       "\\item 'Luis'\n",
       "\\item 'Luisa'\n",
       "\\item 'Rosa'\n",
       "\\end{enumerate*}\n",
       "\n",
       "\\item[\\$matriz11] \\begin{tabular}{ll}\n",
       "\t 10 & 15\\\\\n",
       "\t 11 & 16\\\\\n",
       "\t 12 & 17\\\\\n",
       "\t 13 & 18\\\\\n",
       "\t 14 & 19\\\\\n",
       "\\end{tabular}\n",
       "\n",
       "\\item[\\$dataframe11] \\begin{tabular}{r|lllll}\n",
       " name & gender & age & retiro & estado\\_civil\\\\\n",
       "\\hline\n",
       "\t Ana    & F      & 23     & 37     & S     \\\\\n",
       "\t Daniel & M      & 27     & 33     & S     \\\\\n",
       "\t Chris  & M      & 54     &  6     & V     \\\\\n",
       "\t Mary   & F      & 34     & 26     & C     \\\\\n",
       "\t Albert & M      & 46     & 14     & C     \\\\\n",
       "\t Flor   & F      & 22     & 38     & S     \\\\\n",
       "\t Gendry & M      & 45     & 15     & C     \\\\\n",
       "\\end{tabular}\n",
       "\n",
       "\\end{description}\n",
       "\n",
       "\\end{description}\n"
      ],
      "text/markdown": [
       "$logical\n",
       ":   1. TRUE\n",
       "2. TRUE\n",
       "3. FALSE\n",
       "4. FALSE\n",
       "5. FALSE\n",
       "6. TRUE\n",
       "7. FALSE\n",
       "8. FALSE\n",
       "9. TRUE\n",
       "10. TRUE\n",
       "\n",
       "\n",
       "\n",
       "$string\n",
       ":   'hello friend'\n",
       "$matriz2\n",
       ":   \n",
       "| 30 | 45 | \n",
       "| 33 | 48 | \n",
       "| 36 | 51 | \n",
       "| 39 | 54 | \n",
       "| 42 | 57 | \n",
       "\n",
       "\n",
       "\n",
       "$lista\n",
       ":   $vector11\n",
       ":   1. '9'\n",
       "2. '8'\n",
       "3. '7'\n",
       "4. '6'\n",
       "5. '5'\n",
       "6. '4'\n",
       "7. '3'\n",
       "8. '2'\n",
       "9. '1'\n",
       "10. '4'\n",
       "11. '5'\n",
       "\n",
       "\n",
       "\n",
       "$vector22\n",
       ":   1. 'Ana'\n",
       "2. 'María'\n",
       "3. 'Robert'\n",
       "4. 'Luis'\n",
       "5. 'Luisa'\n",
       "6. 'Rosa'\n",
       "\n",
       "\n",
       "\n",
       "$matriz11\n",
       ":   \n",
       "| 10 | 15 | \n",
       "| 11 | 16 | \n",
       "| 12 | 17 | \n",
       "| 13 | 18 | \n",
       "| 14 | 19 | \n",
       "\n",
       "\n",
       "\n",
       "$dataframe11\n",
       ":   \n",
       "name | gender | age | retiro | estado_civil | \n",
       "|---|---|---|---|---|---|---|\n",
       "| Ana    | F      | 23     | 37     | S      | \n",
       "| Daniel | M      | 27     | 33     | S      | \n",
       "| Chris  | M      | 54     |  6     | V      | \n",
       "| Mary   | F      | 34     | 26     | C      | \n",
       "| Albert | M      | 46     | 14     | C      | \n",
       "| Flor   | F      | 22     | 38     | S      | \n",
       "| Gendry | M      | 45     | 15     | C      | \n",
       "\n",
       "\n",
       "\n",
       "\n",
       "\n",
       "\n",
       "\n",
       "\n"
      ],
      "text/plain": [
       "$logical\n",
       " [1]  TRUE  TRUE FALSE FALSE FALSE  TRUE FALSE FALSE  TRUE  TRUE\n",
       "\n",
       "$string\n",
       "[1] \"hello friend\"\n",
       "\n",
       "$matriz2\n",
       "     [,1] [,2]\n",
       "[1,]   30   45\n",
       "[2,]   33   48\n",
       "[3,]   36   51\n",
       "[4,]   39   54\n",
       "[5,]   42   57\n",
       "\n",
       "$lista\n",
       "$lista$vector11\n",
       " [1] \"9\" \"8\" \"7\" \"6\" \"5\" \"4\" \"3\" \"2\" \"1\" \"4\" \"5\"\n",
       "\n",
       "$lista$vector22\n",
       "[1] \"Ana\"    \"María\"  \"Robert\" \"Luis\"   \"Luisa\"  \"Rosa\"  \n",
       "\n",
       "$lista$matriz11\n",
       "     [,1] [,2]\n",
       "[1,]   10   15\n",
       "[2,]   11   16\n",
       "[3,]   12   17\n",
       "[4,]   13   18\n",
       "[5,]   14   19\n",
       "\n",
       "$lista$dataframe11\n",
       "    name gender age retiro estado_civil\n",
       "1    Ana      F  23     37            S\n",
       "2 Daniel      M  27     33            S\n",
       "3  Chris      M  54      6            V\n",
       "4   Mary      F  34     26            C\n",
       "5 Albert      M  46     14            C\n",
       "6   Flor      F  22     38            S\n",
       "7 Gendry      M  45     15            C\n",
       "\n"
      ]
     },
     "metadata": {},
     "output_type": "display_data"
    }
   ],
   "source": [
    "mynewlist  <- list(logical=c(T,T,F,F,F,T,F,F,T,T), string = \"hello friend\", matriz2 = mylist$matriz*3)\n",
    "mynewlist\n",
    "mynewlist$lista <- mylist\n",
    "mynewlist"
   ]
  },
  {
   "cell_type": "code",
   "execution_count": 63,
   "metadata": {},
   "outputs": [
    {
     "data": {
      "text/html": [
       "<ol class=list-inline>\n",
       "\t<li>'6'</li>\n",
       "\t<li>'5'</li>\n",
       "\t<li>'4'</li>\n",
       "\t<li>'3'</li>\n",
       "</ol>\n"
      ],
      "text/latex": [
       "\\begin{enumerate*}\n",
       "\\item '6'\n",
       "\\item '5'\n",
       "\\item '4'\n",
       "\\item '3'\n",
       "\\end{enumerate*}\n"
      ],
      "text/markdown": [
       "1. '6'\n",
       "2. '5'\n",
       "3. '4'\n",
       "4. '3'\n",
       "\n",
       "\n"
      ],
      "text/plain": [
       "[1] \"6\" \"5\" \"4\" \"3\""
      ]
     },
     "metadata": {},
     "output_type": "display_data"
    },
    {
     "data": {
      "text/html": [
       "<ol class=list-inline>\n",
       "\t<li>'6'</li>\n",
       "\t<li>'5'</li>\n",
       "\t<li>'4'</li>\n",
       "\t<li>'3'</li>\n",
       "</ol>\n"
      ],
      "text/latex": [
       "\\begin{enumerate*}\n",
       "\\item '6'\n",
       "\\item '5'\n",
       "\\item '4'\n",
       "\\item '3'\n",
       "\\end{enumerate*}\n"
      ],
      "text/markdown": [
       "1. '6'\n",
       "2. '5'\n",
       "3. '4'\n",
       "4. '3'\n",
       "\n",
       "\n"
      ],
      "text/plain": [
       "[1] \"6\" \"5\" \"4\" \"3\""
      ]
     },
     "metadata": {},
     "output_type": "display_data"
    },
    {
     "data": {
      "text/html": [
       "<ol class=list-inline>\n",
       "\t<li>'6'</li>\n",
       "\t<li>'5'</li>\n",
       "\t<li>'4'</li>\n",
       "\t<li>'3'</li>\n",
       "</ol>\n"
      ],
      "text/latex": [
       "\\begin{enumerate*}\n",
       "\\item '6'\n",
       "\\item '5'\n",
       "\\item '4'\n",
       "\\item '3'\n",
       "\\end{enumerate*}\n"
      ],
      "text/markdown": [
       "1. '6'\n",
       "2. '5'\n",
       "3. '4'\n",
       "4. '3'\n",
       "\n",
       "\n"
      ],
      "text/plain": [
       "[1] \"6\" \"5\" \"4\" \"3\""
      ]
     },
     "metadata": {},
     "output_type": "display_data"
    },
    {
     "data": {
      "text/html": [
       "<ol class=list-inline>\n",
       "\t<li>'6'</li>\n",
       "\t<li>'5'</li>\n",
       "\t<li>'4'</li>\n",
       "\t<li>'3'</li>\n",
       "</ol>\n"
      ],
      "text/latex": [
       "\\begin{enumerate*}\n",
       "\\item '6'\n",
       "\\item '5'\n",
       "\\item '4'\n",
       "\\item '3'\n",
       "\\end{enumerate*}\n"
      ],
      "text/markdown": [
       "1. '6'\n",
       "2. '5'\n",
       "3. '4'\n",
       "4. '3'\n",
       "\n",
       "\n"
      ],
      "text/plain": [
       "[1] \"6\" \"5\" \"4\" \"3\""
      ]
     },
     "metadata": {},
     "output_type": "display_data"
    }
   ],
   "source": [
    "# Para acceder a un elemento de la lista anidada, se puede hacer de diferentes formas\n",
    "mynewlist$lista$vector11[4:7]\n",
    "mynewlist[[4]][[1]][4:7]\n",
    "mynewlist[[4]]$vector11[4:7]\n",
    "mynewlist$lista[[1]][4:7]"
   ]
  },
  {
   "cell_type": "markdown",
   "metadata": {},
   "source": [
    "## Convirtiendo de un objeto a otro"
   ]
  },
  {
   "cell_type": "markdown",
   "metadata": {},
   "source": [
    "### De Matriz a Data Frame"
   ]
  },
  {
   "cell_type": "markdown",
   "metadata": {},
   "source": [
    "Ambos objetos son similares, son rectangulares y bidimensionales. La conversión se hace con el comando `as.data.frame()`"
   ]
  },
  {
   "cell_type": "code",
   "execution_count": 80,
   "metadata": {
    "scrolled": true
   },
   "outputs": [
    {
     "name": "stdout",
     "output_type": "stream",
     "text": [
      "     1-14 15-19\n",
      "[1,]   10    15\n",
      "[2,]   11    16\n",
      "[3,]   12    17\n",
      "[4,]   13    18\n",
      "[5,]   14    19\n"
     ]
    },
    {
     "data": {
      "text/html": [
       "'matrix'"
      ],
      "text/latex": [
       "'matrix'"
      ],
      "text/markdown": [
       "'matrix'"
      ],
      "text/plain": [
       "[1] \"matrix\""
      ]
     },
     "metadata": {},
     "output_type": "display_data"
    },
    {
     "name": "stdout",
     "output_type": "stream",
     "text": [
      "  1-14 15-19\n",
      "1   10    15\n",
      "2   11    16\n",
      "3   12    17\n",
      "4   13    18\n",
      "5   14    19\n"
     ]
    },
    {
     "data": {
      "text/html": [
       "'data.frame'"
      ],
      "text/latex": [
       "'data.frame'"
      ],
      "text/markdown": [
       "'data.frame'"
      ],
      "text/plain": [
       "[1] \"data.frame\""
      ]
     },
     "metadata": {},
     "output_type": "display_data"
    }
   ],
   "source": [
    "colnames (e3) <- c(\"1-14\", \"15-19\")\n",
    "print(e3)\n",
    "class(e3)\n",
    "e3df <- as.data.frame(e3)\n",
    "print(e3df)\n",
    "class(e3df)"
   ]
  },
  {
   "cell_type": "markdown",
   "metadata": {},
   "source": [
    "### Convertir un Data Frame en una Matriz"
   ]
  },
  {
   "cell_type": "markdown",
   "metadata": {},
   "source": [
    "De la misma forma se puede convertir un data frame en una matriz con el comando `as.matrix()`. Cuando el data frame tiene variables mezcladas entre números y caracteres, el resultado es una matriz de caracteres, mientras que si el data frame es todo numérico, la matriz también lo será."
   ]
  },
  {
   "cell_type": "code",
   "execution_count": 79,
   "metadata": {},
   "outputs": [
    {
     "data": {
      "text/html": [
       "'data.frame'"
      ],
      "text/latex": [
       "'data.frame'"
      ],
      "text/markdown": [
       "'data.frame'"
      ],
      "text/plain": [
       "[1] \"data.frame\""
      ]
     },
     "metadata": {},
     "output_type": "display_data"
    },
    {
     "name": "stdout",
     "output_type": "stream",
     "text": [
      "     1-14 15-19\n",
      "[1,]   10    15\n",
      "[2,]   11    16\n",
      "[3,]   12    17\n",
      "[4,]   13    18\n",
      "[5,]   14    19\n"
     ]
    },
    {
     "data": {
      "text/html": [
       "'matrix'"
      ],
      "text/latex": [
       "'matrix'"
      ],
      "text/markdown": [
       "'matrix'"
      ],
      "text/plain": [
       "[1] \"matrix\""
      ]
     },
     "metadata": {},
     "output_type": "display_data"
    }
   ],
   "source": [
    "class(e3df)\n",
    "e3m  <- as.matrix(e3df)\n",
    "print(e3m)\n",
    "class(e3m)"
   ]
  },
  {
   "cell_type": "code",
   "execution_count": 78,
   "metadata": {},
   "outputs": [
    {
     "data": {
      "text/html": [
       "'data.frame'"
      ],
      "text/latex": [
       "'data.frame'"
      ],
      "text/markdown": [
       "'data.frame'"
      ],
      "text/plain": [
       "[1] \"data.frame\""
      ]
     },
     "metadata": {},
     "output_type": "display_data"
    },
    {
     "data": {
      "text/html": [
       "'matrix'"
      ],
      "text/latex": [
       "'matrix'"
      ],
      "text/markdown": [
       "'matrix'"
      ],
      "text/plain": [
       "[1] \"matrix\""
      ]
     },
     "metadata": {},
     "output_type": "display_data"
    },
    {
     "name": "stdout",
     "output_type": "stream",
     "text": [
      "     name     gender age  retiro estado_civil\n",
      "[1,] \"Ana\"    \"F\"    \"23\" \"37\"   \"S\"         \n",
      "[2,] \"Daniel\" \"M\"    \"27\" \"33\"   \"S\"         \n",
      "[3,] \"Chris\"  \"M\"    \"54\" \" 6\"   \"V\"         \n",
      "[4,] \"Mary\"   \"F\"    \"34\" \"26\"   \"C\"         \n",
      "[5,] \"Albert\" \"M\"    \"46\" \"14\"   \"C\"         \n",
      "[6,] \"Flor\"   \"F\"    \"22\" \"38\"   \"S\"         \n",
      "[7,] \"Gendry\" \"M\"    \"45\" \"15\"   \"C\"         \n"
     ]
    }
   ],
   "source": [
    "# Siendo mixta\n",
    "class(datos)\n",
    "matrizdatos <- as.matrix(datos)\n",
    "class(matrizdatos)\n",
    "print(matrizdatos)"
   ]
  },
  {
   "cell_type": "markdown",
   "metadata": {},
   "source": [
    "### Convertir un Data Frame en una Lista"
   ]
  },
  {
   "cell_type": "code",
   "execution_count": 91,
   "metadata": {},
   "outputs": [
    {
     "data": {
      "text/html": [
       "'data.frame'"
      ],
      "text/latex": [
       "'data.frame'"
      ],
      "text/markdown": [
       "'data.frame'"
      ],
      "text/plain": [
       "[1] \"data.frame\""
      ]
     },
     "metadata": {},
     "output_type": "display_data"
    },
    {
     "data": {
      "text/html": [
       "'list'"
      ],
      "text/latex": [
       "'list'"
      ],
      "text/markdown": [
       "'list'"
      ],
      "text/plain": [
       "[1] \"list\""
      ]
     },
     "metadata": {},
     "output_type": "display_data"
    },
    {
     "data": {
      "text/html": [
       "<dl>\n",
       "\t<dt>$name</dt>\n",
       "\t\t<dd><ol class=list-inline>\n",
       "\t<li>Ana</li>\n",
       "\t<li>Daniel</li>\n",
       "\t<li>Chris</li>\n",
       "\t<li>Mary</li>\n",
       "\t<li>Albert</li>\n",
       "\t<li>Flor</li>\n",
       "\t<li>Gendry</li>\n",
       "</ol>\n",
       "</dd>\n",
       "\t<dt>$gender</dt>\n",
       "\t\t<dd><ol class=list-inline>\n",
       "\t<li>F</li>\n",
       "\t<li>M</li>\n",
       "\t<li>M</li>\n",
       "\t<li>F</li>\n",
       "\t<li>M</li>\n",
       "\t<li>F</li>\n",
       "\t<li>M</li>\n",
       "</ol>\n",
       "</dd>\n",
       "\t<dt>$age</dt>\n",
       "\t\t<dd><ol class=list-inline>\n",
       "\t<li>23</li>\n",
       "\t<li>27</li>\n",
       "\t<li>54</li>\n",
       "\t<li>34</li>\n",
       "\t<li>46</li>\n",
       "\t<li>22</li>\n",
       "\t<li>45</li>\n",
       "</ol>\n",
       "</dd>\n",
       "\t<dt>$retiro</dt>\n",
       "\t\t<dd><ol class=list-inline>\n",
       "\t<li>37</li>\n",
       "\t<li>33</li>\n",
       "\t<li>6</li>\n",
       "\t<li>26</li>\n",
       "\t<li>14</li>\n",
       "\t<li>38</li>\n",
       "\t<li>15</li>\n",
       "</ol>\n",
       "</dd>\n",
       "\t<dt>$estado_civil</dt>\n",
       "\t\t<dd><ol class=list-inline>\n",
       "\t<li>'S'</li>\n",
       "\t<li>'S'</li>\n",
       "\t<li>'V'</li>\n",
       "\t<li>'C'</li>\n",
       "\t<li>'C'</li>\n",
       "\t<li>'S'</li>\n",
       "\t<li>'C'</li>\n",
       "</ol>\n",
       "</dd>\n",
       "</dl>\n"
      ],
      "text/latex": [
       "\\begin{description}\n",
       "\\item[\\$name] \\begin{enumerate*}\n",
       "\\item Ana\n",
       "\\item Daniel\n",
       "\\item Chris\n",
       "\\item Mary\n",
       "\\item Albert\n",
       "\\item Flor\n",
       "\\item Gendry\n",
       "\\end{enumerate*}\n",
       "\n",
       "\\item[\\$gender] \\begin{enumerate*}\n",
       "\\item F\n",
       "\\item M\n",
       "\\item M\n",
       "\\item F\n",
       "\\item M\n",
       "\\item F\n",
       "\\item M\n",
       "\\end{enumerate*}\n",
       "\n",
       "\\item[\\$age] \\begin{enumerate*}\n",
       "\\item 23\n",
       "\\item 27\n",
       "\\item 54\n",
       "\\item 34\n",
       "\\item 46\n",
       "\\item 22\n",
       "\\item 45\n",
       "\\end{enumerate*}\n",
       "\n",
       "\\item[\\$retiro] \\begin{enumerate*}\n",
       "\\item 37\n",
       "\\item 33\n",
       "\\item 6\n",
       "\\item 26\n",
       "\\item 14\n",
       "\\item 38\n",
       "\\item 15\n",
       "\\end{enumerate*}\n",
       "\n",
       "\\item[\\$estado\\_civil] \\begin{enumerate*}\n",
       "\\item 'S'\n",
       "\\item 'S'\n",
       "\\item 'V'\n",
       "\\item 'C'\n",
       "\\item 'C'\n",
       "\\item 'S'\n",
       "\\item 'C'\n",
       "\\end{enumerate*}\n",
       "\n",
       "\\end{description}\n"
      ],
      "text/markdown": [
       "$name\n",
       ":   1. Ana\n",
       "2. Daniel\n",
       "3. Chris\n",
       "4. Mary\n",
       "5. Albert\n",
       "6. Flor\n",
       "7. Gendry\n",
       "\n",
       "\n",
       "\n",
       "$gender\n",
       ":   1. F\n",
       "2. M\n",
       "3. M\n",
       "4. F\n",
       "5. M\n",
       "6. F\n",
       "7. M\n",
       "\n",
       "\n",
       "\n",
       "$age\n",
       ":   1. 23\n",
       "2. 27\n",
       "3. 54\n",
       "4. 34\n",
       "5. 46\n",
       "6. 22\n",
       "7. 45\n",
       "\n",
       "\n",
       "\n",
       "$retiro\n",
       ":   1. 37\n",
       "2. 33\n",
       "3. 6\n",
       "4. 26\n",
       "5. 14\n",
       "6. 38\n",
       "7. 15\n",
       "\n",
       "\n",
       "\n",
       "$estado_civil\n",
       ":   1. 'S'\n",
       "2. 'S'\n",
       "3. 'V'\n",
       "4. 'C'\n",
       "5. 'C'\n",
       "6. 'S'\n",
       "7. 'C'\n",
       "\n",
       "\n",
       "\n",
       "\n",
       "\n"
      ],
      "text/plain": [
       "$name\n",
       "[1] Ana    Daniel Chris  Mary   Albert Flor   Gendry\n",
       "Levels: Albert Ana Chris Daniel Flor Gendry Mary\n",
       "\n",
       "$gender\n",
       "[1] F M M F M F M\n",
       "Levels: F M\n",
       "\n",
       "$age\n",
       "[1] 23 27 54 34 46 22 45\n",
       "\n",
       "$retiro\n",
       "[1] 37 33  6 26 14 38 15\n",
       "\n",
       "$estado_civil\n",
       "[1] \"S\" \"S\" \"V\" \"C\" \"C\" \"S\" \"C\"\n"
      ]
     },
     "metadata": {},
     "output_type": "display_data"
    }
   ],
   "source": [
    "class(datos)\n",
    "list.datos  <- as.list(datos)\n",
    "class(list.datos)\n",
    "list.datos"
   ]
  },
  {
   "cell_type": "markdown",
   "metadata": {},
   "source": [
    "### Convertir matriz en lista"
   ]
  },
  {
   "cell_type": "code",
   "execution_count": 90,
   "metadata": {},
   "outputs": [
    {
     "data": {
      "text/html": [
       "'matrix'"
      ],
      "text/latex": [
       "'matrix'"
      ],
      "text/markdown": [
       "'matrix'"
      ],
      "text/plain": [
       "[1] \"matrix\""
      ]
     },
     "metadata": {},
     "output_type": "display_data"
    },
    {
     "data": {
      "text/html": [
       "'list'"
      ],
      "text/latex": [
       "'list'"
      ],
      "text/markdown": [
       "'list'"
      ],
      "text/plain": [
       "[1] \"list\""
      ]
     },
     "metadata": {},
     "output_type": "display_data"
    },
    {
     "data": {
      "text/html": [
       "<dl>\n",
       "\t<dt>$`1-14`</dt>\n",
       "\t\t<dd><ol class=list-inline>\n",
       "\t<li>10</li>\n",
       "\t<li>11</li>\n",
       "\t<li>12</li>\n",
       "\t<li>13</li>\n",
       "\t<li>14</li>\n",
       "</ol>\n",
       "</dd>\n",
       "\t<dt>$`15-19`</dt>\n",
       "\t\t<dd><ol class=list-inline>\n",
       "\t<li>15</li>\n",
       "\t<li>16</li>\n",
       "\t<li>17</li>\n",
       "\t<li>18</li>\n",
       "\t<li>19</li>\n",
       "</ol>\n",
       "</dd>\n",
       "</dl>\n"
      ],
      "text/latex": [
       "\\begin{description}\n",
       "\\item[\\$`1-14`] \\begin{enumerate*}\n",
       "\\item 10\n",
       "\\item 11\n",
       "\\item 12\n",
       "\\item 13\n",
       "\\item 14\n",
       "\\end{enumerate*}\n",
       "\n",
       "\\item[\\$`15-19`] \\begin{enumerate*}\n",
       "\\item 15\n",
       "\\item 16\n",
       "\\item 17\n",
       "\\item 18\n",
       "\\item 19\n",
       "\\end{enumerate*}\n",
       "\n",
       "\\end{description}\n"
      ],
      "text/markdown": [
       "$`1-14`\n",
       ":   1. 10\n",
       "2. 11\n",
       "3. 12\n",
       "4. 13\n",
       "5. 14\n",
       "\n",
       "\n",
       "\n",
       "$`15-19`\n",
       ":   1. 15\n",
       "2. 16\n",
       "3. 17\n",
       "4. 18\n",
       "5. 19\n",
       "\n",
       "\n",
       "\n",
       "\n",
       "\n"
      ],
      "text/plain": [
       "$`1-14`\n",
       "[1] 10 11 12 13 14\n",
       "\n",
       "$`15-19`\n",
       "[1] 15 16 17 18 19\n"
      ]
     },
     "metadata": {},
     "output_type": "display_data"
    }
   ],
   "source": [
    "class(e3)\n",
    "list.e3  <- as.list(as.data.frame(e3))\n",
    "class(list.e3)\n",
    "list.e3"
   ]
  },
  {
   "cell_type": "markdown",
   "metadata": {},
   "source": [
    "### Cuando todos los elementos de la lista tiene la misma longitud:"
   ]
  },
  {
   "cell_type": "markdown",
   "metadata": {},
   "source": [
    "#### Convertir una Lista en Data Frame "
   ]
  },
  {
   "cell_type": "code",
   "execution_count": 92,
   "metadata": {},
   "outputs": [
    {
     "data": {
      "text/html": [
       "'list'"
      ],
      "text/latex": [
       "'list'"
      ],
      "text/markdown": [
       "'list'"
      ],
      "text/plain": [
       "[1] \"list\""
      ]
     },
     "metadata": {},
     "output_type": "display_data"
    },
    {
     "name": "stdout",
     "output_type": "stream",
     "text": [
      "    name gender age retiro estado_civil\n",
      "1    Ana      F  23     37            S\n",
      "2 Daniel      M  27     33            S\n",
      "3  Chris      M  54      6            V\n",
      "4   Mary      F  34     26            C\n",
      "5 Albert      M  46     14            C\n",
      "6   Flor      F  22     38            S\n",
      "7 Gendry      M  45     15            C\n"
     ]
    },
    {
     "data": {
      "text/html": [
       "'data.frame'"
      ],
      "text/latex": [
       "'data.frame'"
      ],
      "text/markdown": [
       "'data.frame'"
      ],
      "text/plain": [
       "[1] \"data.frame\""
      ]
     },
     "metadata": {},
     "output_type": "display_data"
    }
   ],
   "source": [
    "class(list.datos)\n",
    "frame.datos  <- data.frame(list.datos)\n",
    "print(frame.datos)\n",
    "class(frame.datos)"
   ]
  },
  {
   "cell_type": "markdown",
   "metadata": {},
   "source": [
    "#### Convertir una Lista en una Matriz"
   ]
  },
  {
   "cell_type": "code",
   "execution_count": 93,
   "metadata": {},
   "outputs": [
    {
     "data": {
      "text/html": [
       "'list'"
      ],
      "text/latex": [
       "'list'"
      ],
      "text/markdown": [
       "'list'"
      ],
      "text/plain": [
       "[1] \"list\""
      ]
     },
     "metadata": {},
     "output_type": "display_data"
    },
    {
     "name": "stdout",
     "output_type": "stream",
     "text": [
      "     name     gender age  retiro estado_civil\n",
      "[1,] \"Ana\"    \"F\"    \"23\" \"37\"   \"S\"         \n",
      "[2,] \"Daniel\" \"M\"    \"27\" \"33\"   \"S\"         \n",
      "[3,] \"Chris\"  \"M\"    \"54\" \" 6\"   \"V\"         \n",
      "[4,] \"Mary\"   \"F\"    \"34\" \"26\"   \"C\"         \n",
      "[5,] \"Albert\" \"M\"    \"46\" \"14\"   \"C\"         \n",
      "[6,] \"Flor\"   \"F\"    \"22\" \"38\"   \"S\"         \n",
      "[7,] \"Gendry\" \"M\"    \"45\" \"15\"   \"C\"         \n"
     ]
    },
    {
     "data": {
      "text/html": [
       "'matrix'"
      ],
      "text/latex": [
       "'matrix'"
      ],
      "text/markdown": [
       "'matrix'"
      ],
      "text/plain": [
       "[1] \"matrix\""
      ]
     },
     "metadata": {},
     "output_type": "display_data"
    }
   ],
   "source": [
    "class(list.datos)\n",
    "matriz.datos  <-  as.matrix(data.frame(list.datos))\n",
    "print(matriz.datos)\n",
    "class(matriz.datos)"
   ]
  },
  {
   "cell_type": "markdown",
   "metadata": {},
   "source": [
    "Cuando la lista de objetos contiene elementos de diferentes longitudes, la forma mas simple para convertir las listas es extrayendo los componentes de la lista en vectores separados, rellenarlos con elementos `NA` para igualar las longitudes, y luego reensamblar los vectores en un data frame "
   ]
  },
  {
   "cell_type": "code",
   "execution_count": 102,
   "metadata": {},
   "outputs": [
    {
     "data": {
      "text/html": [
       "<dl>\n",
       "\t<dt>$logical</dt>\n",
       "\t\t<dd><ol class=list-inline>\n",
       "\t<li>TRUE</li>\n",
       "\t<li>TRUE</li>\n",
       "\t<li>FALSE</li>\n",
       "\t<li>FALSE</li>\n",
       "\t<li>FALSE</li>\n",
       "\t<li>TRUE</li>\n",
       "\t<li>TRUE</li>\n",
       "\t<li>TRUE</li>\n",
       "</ol>\n",
       "</dd>\n",
       "\t<dt>$string</dt>\n",
       "\t\t<dd><ol class=list-inline>\n",
       "\t<li>'hello'</li>\n",
       "\t<li>'friend'</li>\n",
       "\t<li>','</li>\n",
       "\t<li>'how'</li>\n",
       "\t<li>'are'</li>\n",
       "\t<li>'you'</li>\n",
       "\t<li>'?'</li>\n",
       "</ol>\n",
       "</dd>\n",
       "\t<dt>$matriz2</dt>\n",
       "\t\t<dd><table>\n",
       "<tbody>\n",
       "\t<tr><td>30</td><td>45</td></tr>\n",
       "\t<tr><td>33</td><td>48</td></tr>\n",
       "\t<tr><td>36</td><td>51</td></tr>\n",
       "\t<tr><td>39</td><td>54</td></tr>\n",
       "\t<tr><td>42</td><td>57</td></tr>\n",
       "</tbody>\n",
       "</table>\n",
       "</dd>\n",
       "</dl>\n"
      ],
      "text/latex": [
       "\\begin{description}\n",
       "\\item[\\$logical] \\begin{enumerate*}\n",
       "\\item TRUE\n",
       "\\item TRUE\n",
       "\\item FALSE\n",
       "\\item FALSE\n",
       "\\item FALSE\n",
       "\\item TRUE\n",
       "\\item TRUE\n",
       "\\item TRUE\n",
       "\\end{enumerate*}\n",
       "\n",
       "\\item[\\$string] \\begin{enumerate*}\n",
       "\\item 'hello'\n",
       "\\item 'friend'\n",
       "\\item ','\n",
       "\\item 'how'\n",
       "\\item 'are'\n",
       "\\item 'you'\n",
       "\\item '?'\n",
       "\\end{enumerate*}\n",
       "\n",
       "\\item[\\$matriz2] \\begin{tabular}{ll}\n",
       "\t 30 & 45\\\\\n",
       "\t 33 & 48\\\\\n",
       "\t 36 & 51\\\\\n",
       "\t 39 & 54\\\\\n",
       "\t 42 & 57\\\\\n",
       "\\end{tabular}\n",
       "\n",
       "\\end{description}\n"
      ],
      "text/markdown": [
       "$logical\n",
       ":   1. TRUE\n",
       "2. TRUE\n",
       "3. FALSE\n",
       "4. FALSE\n",
       "5. FALSE\n",
       "6. TRUE\n",
       "7. TRUE\n",
       "8. TRUE\n",
       "\n",
       "\n",
       "\n",
       "$string\n",
       ":   1. 'hello'\n",
       "2. 'friend'\n",
       "3. ','\n",
       "4. 'how'\n",
       "5. 'are'\n",
       "6. 'you'\n",
       "7. '?'\n",
       "\n",
       "\n",
       "\n",
       "$matriz2\n",
       ":   \n",
       "| 30 | 45 | \n",
       "| 33 | 48 | \n",
       "| 36 | 51 | \n",
       "| 39 | 54 | \n",
       "| 42 | 57 | \n",
       "\n",
       "\n",
       "\n",
       "\n",
       "\n"
      ],
      "text/plain": [
       "$logical\n",
       "[1]  TRUE  TRUE FALSE FALSE FALSE  TRUE  TRUE  TRUE\n",
       "\n",
       "$string\n",
       "[1] \"hello\"  \"friend\" \",\"      \"how\"    \"are\"    \"you\"    \"?\"     \n",
       "\n",
       "$matriz2\n",
       "     [,1] [,2]\n",
       "[1,]   30   45\n",
       "[2,]   33   48\n",
       "[3,]   36   51\n",
       "[4,]   39   54\n",
       "[5,]   42   57\n"
      ]
     },
     "metadata": {},
     "output_type": "display_data"
    },
    {
     "data": {
      "text/html": [
       "8"
      ],
      "text/latex": [
       "8"
      ],
      "text/markdown": [
       "8"
      ],
      "text/plain": [
       "[1] 8"
      ]
     },
     "metadata": {},
     "output_type": "display_data"
    },
    {
     "data": {
      "text/html": [
       "7"
      ],
      "text/latex": [
       "7"
      ],
      "text/markdown": [
       "7"
      ],
      "text/plain": [
       "[1] 7"
      ]
     },
     "metadata": {},
     "output_type": "display_data"
    },
    {
     "data": {
      "text/html": [
       "10"
      ],
      "text/latex": [
       "10"
      ],
      "text/markdown": [
       "10"
      ],
      "text/plain": [
       "[1] 10"
      ]
     },
     "metadata": {},
     "output_type": "display_data"
    }
   ],
   "source": [
    "milista <- list(logical=c(T,T,F,F,F,T,T,T), string = c(\"hello\", \"friend\", \",\", \"how\", \"are\", \"you\", \"?\"), matriz2 = mylist$matriz*3)\n",
    "milista\n",
    "logico <- milista$logical\n",
    "cad  <- milista$string\n",
    "mat <- milista$matriz2\n",
    "length(logico)\n",
    "length(cad)\n",
    "length(mat)\n",
    "\n"
   ]
  },
  {
   "cell_type": "code",
   "execution_count": null,
   "metadata": {
    "collapsed": true
   },
   "outputs": [],
   "source": []
  },
  {
   "cell_type": "code",
   "execution_count": null,
   "metadata": {
    "collapsed": true
   },
   "outputs": [],
   "source": []
  }
 ],
 "metadata": {
  "kernelspec": {
   "display_name": "R",
   "language": "R",
   "name": "ir"
  },
  "language_info": {
   "codemirror_mode": "r",
   "file_extension": ".r",
   "mimetype": "text/x-r-source",
   "name": "R",
   "pygments_lexer": "r",
   "version": "3.2.3"
  }
 },
 "nbformat": 4,
 "nbformat_minor": 2
}
