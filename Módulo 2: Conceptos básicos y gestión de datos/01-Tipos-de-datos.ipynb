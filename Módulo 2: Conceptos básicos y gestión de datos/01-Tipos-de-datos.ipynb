{
 "cells": [
  {
   "cell_type": "markdown",
   "metadata": {},
   "source": [
    "# Tipos de Datos\n"
   ]
  },
  {
   "cell_type": "markdown",
   "metadata": {},
   "source": [
    "## Datos Numéricos "
   ]
  },
  {
   "cell_type": "markdown",
   "metadata": {},
   "source": [
    "Los valores numéricos enteros son valores \"integer\", mientras que los valores que contienen decimales son designados como \"numeric\". También encontramos los \"complex\", números complejos."
   ]
  },
  {
   "cell_type": "code",
   "execution_count": 11,
   "metadata": {
    "collapsed": true
   },
   "outputs": [],
   "source": [
    "# Hacer un vector con la función c() de 8 \"integer\" llamado w"
   ]
  },
  {
   "cell_type": "code",
   "execution_count": null,
   "metadata": {
    "collapsed": true
   },
   "outputs": [],
   "source": [
    "# Hacer un vector con la función c() de 7 \"numeric\" llamado z"
   ]
  },
  {
   "cell_type": "markdown",
   "metadata": {},
   "source": [
    "## Texto\n"
   ]
  },
  {
   "cell_type": "markdown",
   "metadata": {},
   "source": [
    "R reconoce dos tipos de datos de texto:\n",
    "- Character: etiquetas de texto plano (Tiene comillas)\n",
    "- Factor: texto plano con líneas adicionales para todas las opciones de la lista (No tiene comillas)\n",
    "- Logical: solo toman dos valores (TRUE o FALSE)"
   ]
  },
  {
   "cell_type": "markdown",
   "metadata": {},
   "source": [
    "### Character"
   ]
  },
  {
   "cell_type": "code",
   "execution_count": 3,
   "metadata": {
    "collapsed": true
   },
   "outputs": [],
   "source": [
    "# Vamos a crear un vector de caracteres\n",
    "# Crear un vector nombre con los nombres de tus compañeros de clases\n",
    "# Crear un vector apellido con los nombres de tus compañeros de clases\n",
    "# Accedamos a la tercera entrada de apellido con []\n",
    "# Con la función paste() vamos a imprimir el nombre y apellido de la quinta entrada"
   ]
  },
  {
   "cell_type": "markdown",
   "metadata": {},
   "source": [
    "###  Factor"
   ]
  },
  {
   "cell_type": "code",
   "execution_count": 14,
   "metadata": {},
   "outputs": [
    {
     "name": "stdout",
     "output_type": "stream",
     "text": [
      "[1] Mar Oct Jun Jul Mar Jun Ago Jul Jul\n",
      "Levels: Ago Jul Jun Mar Oct\n"
     ]
    },
    {
     "data": {
      "text/plain": [
       "f.m.nacimiento\n",
       "Ago Jul Jun Mar Oct \n",
       "  1   3   2   2   1 "
      ]
     },
     "metadata": {},
     "output_type": "display_data"
    }
   ],
   "source": [
    "# Creemos otro vector llamado m.nacim y llenémoslo con nuestros meses de nacimiento\n",
    "m.nacimiento <- c(\"Mar\", \"Oct\", \"Jun\", \"Jul\", \"Mar\", \"Jun\", \"Ago\", \"Jul\", \"Jul\")\n",
    "# Podemos ver que alguno se repite (Y si no lo hace, debes conocer a alguien que cumple años el mismo mes que tu)\n",
    "# Para valores fijos que se repiten (opciones de lista) utilizamos factores.\n",
    "# Veamos cómo funciona\n",
    "# Transformemos el vector m.nacimiento en factores\n",
    "f.m.nacimiento  <- as.factor(m.nacimiento)\n",
    "print(f.m.nacimiento)\n",
    "# Veamos la frecuencia de cada factor\n",
    "table(f.m.nacimiento)"
   ]
  },
  {
   "cell_type": "code",
   "execution_count": 16,
   "metadata": {},
   "outputs": [
    {
     "name": "stdout",
     "output_type": "stream",
     "text": [
      "[1] Mar Oct Jun Jul Mar Jun Ago Jul Jul\n",
      "Levels: Ene Feb Mar Abr May Jun Jul Ago Sep Oct Nov Dic\n"
     ]
    },
    {
     "data": {
      "text/plain": [
       "ff.m.nacimiento\n",
       "Ene Feb Mar Abr May Jun Jul Ago Sep Oct Nov Dic \n",
       "  0   0   2   0   0   2   3   1   0   1   0   0 "
      ]
     },
     "metadata": {},
     "output_type": "display_data"
    }
   ],
   "source": [
    "# Vamos a ordenarlo y a escribir todas las opciones posibles (un muestra mayor implicará resultados no registrados en mes.nacimiento)\n",
    "# Creemos un vector llamado meses\n",
    "meses  <- c(\"Ene\", \"Feb\", \"Mar\", \"Abr\", \"May\", \"Jun\", \"Jul\", \"Ago\", \"Sep\", \"Oct\", \"Nov\", \"Dic\" )\n",
    "# Hagámoslos factores (Hay mas meses que en el original)\n",
    "ff.m.nacimiento  <-  factor(m.nacimiento, levels = meses)\n",
    "print(ff.m.nacimiento)\n",
    "# Veamos la frecuencia de los factores\n",
    "table(ff.m.nacimiento)"
   ]
  },
  {
   "cell_type": "markdown",
   "metadata": {},
   "source": [
    "### Logical"
   ]
  },
  {
   "cell_type": "code",
   "execution_count": 15,
   "metadata": {
    "collapsed": true
   },
   "outputs": [],
   "source": [
    "# Vamos a crear un vector de operaciones lógicas\n",
    "# Tomemos el vector w y probémoslo con algun de estos operadores\n",
    "# ==, >=, <= >, <, !=, !, &, &&, |, ||, xor(x,y)\n"
   ]
  },
  {
   "cell_type": "markdown",
   "metadata": {},
   "source": [
    "# Revisar dónde y cómo poner esto? "
   ]
  },
  {
   "cell_type": "code",
   "execution_count": 16,
   "metadata": {},
   "outputs": [
    {
     "data": {
      "text/html": [
       "<table>\n",
       "<thead><tr><th scope=col>Operador</th><th scope=col>Aritmético</th><th scope=col>Operador</th><th scope=col>Comparativo</th><th scope=col>Operador</th><th scope=col>Lógico</th></tr></thead>\n",
       "<tbody>\n",
       "\t<tr><td><span style=white-space:pre-wrap>  +</span>                    </td><td><span style=white-space:pre-wrap>            Adición</span>    </td><td> &lt;                                                          </td><td><span style=white-space:pre-wrap>        Menor que</span>      </td><td><span style=white-space:pre-wrap>       !</span>               </td><td><span style=white-space:pre-wrap>              NO lógico</span></td></tr>\n",
       "\t<tr><td><span style=white-space:pre-wrap>  -</span>                </td><td><span style=white-space:pre-wrap>        Sustracción</span></td><td> &gt;                                                      </td><td><span style=white-space:pre-wrap>        Mayor que</span>  </td><td><span style=white-space:pre-wrap>       &amp;</span>       </td><td>Y lógico (longitud &gt; 1)                                 </td></tr>\n",
       "\t<tr><td><span style=white-space:pre-wrap>  *</span>                </td><td><span style=white-space:pre-wrap>     Multiplicación</span></td><td>&lt;=                                                      </td><td>Menor o Igual que                                          </td><td><span style=white-space:pre-wrap>      &amp;&amp;</span>   </td><td>Y lógico (longitud = 1)                                    </td></tr>\n",
       "\t<tr><td><span style=white-space:pre-wrap>  /</span>                </td><td><span style=white-space:pre-wrap>           División</span></td><td>&gt;=                                                      </td><td>Mayor o Igual que                                          </td><td><span style=white-space:pre-wrap>       |</span>           </td><td>O lógico (longitud &gt; 1)                                 </td></tr>\n",
       "\t<tr><td>  ^                    </td><td>           Potencia    </td><td>==                     </td><td>            Igual      </td><td>      ||               </td><td>O lógico (longitud = 1)</td></tr>\n",
       "\t<tr><td> %%                    </td><td>             Módulo    </td><td>!=                     </td><td>     Diferente de      </td><td>xor(x,y)               </td><td>            O exclusivo</td></tr>\n",
       "\t<tr><td>%/%                    </td><td>División de Enteros    </td><td>                       </td><td>                       </td><td>                       </td><td>                       </td></tr>\n",
       "</tbody>\n",
       "</table>\n"
      ],
      "text/latex": [
       "\\begin{tabular}{r|llllll}\n",
       " Operador & Aritmético & Operador & Comparativo & Operador & Lógico\\\\\n",
       "\\hline\n",
       "\t   +                     &             Adición     &  <                      &         Menor que       &        !                &               NO lógico\\\\\n",
       "\t   -                     &         Sustracción     &  >                      &         Mayor que       &        \\&              & Y lógico (longitud > 1)\\\\\n",
       "\t   *                     &      Multiplicación     & <=                      & Menor o Igual que       &       \\&\\&            & Y lógico (longitud = 1)\\\\\n",
       "\t   /                     &            División     & >=                      & Mayor o Igual que       &        \\textbar{}      & O lógico (longitud > 1)\\\\\n",
       "\t   \\textasciicircum{}        &            Potencia          & ==                           &             Igual            &       \\textbar{}\\textbar{} & O lógico (longitud = 1)     \\\\\n",
       "\t  \\%\\%                 &              Módulo     & !=                      &      Diferente de       & xor(x,y)                &             O exclusivo\\\\\n",
       "\t \\%/\\%                 & División de Enteros     &                         &                         &                         &                        \\\\\n",
       "\\end{tabular}\n"
      ],
      "text/markdown": [
       "\n",
       "Operador | Aritmético | Operador | Comparativo | Operador | Lógico | \n",
       "|---|---|---|---|---|---|---|\n",
       "|   +                     |             Adición     |  <                      |         Menor que       |        !                |               NO lógico | \n",
       "|   -                     |         Sustracción     |  >                      |         Mayor que       |        &                | Y lógico (longitud > 1) | \n",
       "|   *                     |      Multiplicación     | <=                      | Menor o Igual que       |       &&                | Y lógico (longitud = 1) | \n",
       "|   /                     |            División     | >=                      | Mayor o Igual que       |        |                | O lógico (longitud > 1) | \n",
       "|   ^                     |            Potencia     | ==                      |             Igual       |       ||                | O lógico (longitud = 1) | \n",
       "|  %%                     |              Módulo     | !=                      |      Diferente de       | xor(x,y)                |             O exclusivo | \n",
       "| %/%                     | División de Enteros     |                         |                         |                         |                         | \n",
       "\n",
       "\n"
      ],
      "text/plain": [
       "  Operador Aritmético          Operador Comparativo       Operador\n",
       "1   +                  Adición  <               Menor que        !\n",
       "2   -              Sustracción  >               Mayor que        &\n",
       "3   *           Multiplicación <=       Menor o Igual que       &&\n",
       "4   /                 División >=       Mayor o Igual que        |\n",
       "5   ^                 Potencia ==                   Igual       ||\n",
       "6  %%                   Módulo !=            Diferente de xor(x,y)\n",
       "7 %/%      División de Enteros                                    \n",
       "  Lógico                 \n",
       "1               NO lógico\n",
       "2 Y lógico (longitud > 1)\n",
       "3 Y lógico (longitud = 1)\n",
       "4 O lógico (longitud > 1)\n",
       "5 O lógico (longitud = 1)\n",
       "6             O exclusivo\n",
       "7                        "
      ]
     },
     "metadata": {},
     "output_type": "display_data"
    }
   ],
   "source": [
    "op_arit <- c(\"+\", \"-\", \"*\", \"/\", \"^\", \"%%\", \"%/%\")\n",
    "nom_arit <- c(\"Adición\", \"Sustracción\", \"Multiplicación\", \"División\", \"Potencia\", \"Módulo\", \"División de Enteros\")\n",
    "op_comp <- c(\"<\", \">\", \"<=\", \">=\", \"==\", \"!=\", \"\")\n",
    "nom_comp <- c(\"Menor que\", \"Mayor que\", \"Menor o Igual que\", \"Mayor o Igual que\", \"Igual\", \"Diferente de\", \"\")\n",
    "op_log <- c(\"!\", \"&\", \"&&\", \"|\", \"||\", \"xor(x,y)\", \"\")\n",
    "nom_log <- c(\"NO lógico\", \"Y lógico (longitud > 1)\", \"Y lógico (longitud = 1)\", \"O lógico (longitud > 1)\", \"O lógico (longitud = 1)\", \"O exclusivo\", \"\")\n",
    "op_table <- data.frame(op_arit, nom_arit, op_comp, nom_comp, op_log, nom_log)\n",
    "colnames(op_table) <- c(\"Operador\", \"Aritmético\", \"Operador\", \"Comparativo\", \"Operador\", \"Lógico\")\n",
    "format(op_table, justify = \"right\")"
   ]
  },
  {
   "cell_type": "markdown",
   "metadata": {},
   "source": [
    "## Convertir números a texto y viceversa "
   ]
  },
  {
   "cell_type": "markdown",
   "metadata": {},
   "source": [
    "Tenemos las siguientes funciones:\n",
    "- as.character()\n",
    "- as.factor()\n",
    "- as.numeric()\n",
    "- as.integer()\n"
   ]
  },
  {
   "cell_type": "code",
   "execution_count": null,
   "metadata": {
    "collapsed": true
   },
   "outputs": [],
   "source": [
    "# Cambiar de los ejemplos anteriores:\n",
    "# numeric -> character\n",
    "# character -> numeric\n",
    "# numeric -> integer\n",
    "# integer -> numeric\n",
    "# factor -> character"
   ]
  },
  {
   "cell_type": "markdown",
   "metadata": {},
   "source": [
    "Si la valores originales de los factores eran números, se puede convertir un factor en un valor numérico."
   ]
  }
 ],
 "metadata": {
  "kernelspec": {
   "display_name": "R",
   "language": "R",
   "name": "ir"
  },
  "language_info": {
   "codemirror_mode": "r",
   "file_extension": ".r",
   "mimetype": "text/x-r-source",
   "name": "R",
   "pygments_lexer": "r",
   "version": "3.2.3"
  }
 },
 "nbformat": 4,
 "nbformat_minor": 2
}
