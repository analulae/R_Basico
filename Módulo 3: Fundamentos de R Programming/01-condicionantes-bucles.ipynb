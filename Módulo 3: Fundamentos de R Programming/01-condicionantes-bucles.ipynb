{
 "cells": [
  {
   "cell_type": "markdown",
   "metadata": {},
   "source": [
    "# Condicionantes y bucles"
   ]
  },
  {
   "cell_type": "markdown",
   "metadata": {},
   "source": [
    "Ahora que hemos profundizado en varios aspectos de R, el siguiente paso es crear programas un poco más sofisticados de R, a medida que nos adentremos en este mundo será necesario controlar el flujo y orden de ejecución del código.\n",
    "\n",
    "La mejor forma de hacer esto es separar el código y hacer ciertas secciones dependientes de una condición, o que se repitan por un número determinado de veces.\n",
    "\n",
    "Preparémonos para conocer las estructuras de control básicas."
   ]
  },
  {
   "cell_type": "markdown",
   "metadata": {},
   "source": [
    "## If"
   ]
  },
  {
   "cell_type": "markdown",
   "metadata": {},
   "source": [
    "Una declaración If corre un bloque o pedazo del código si y solo si cierta condición es verdadera.\n",
    "\n",
    "Esta estructura le permite al programa responder de una forma u otra dependiendo si la condición es verdadera o falsa. Veamos su estructura.|"
   ]
  },
  {
   "cell_type": "raw",
   "metadata": {},
   "source": [
    "if(condición){\n",
    "    Comando a ejecutar si la condición resulta verdadera\n",
    "}"
   ]
  },
  {
   "cell_type": "markdown",
   "metadata": {},
   "source": [
    "Se escribe la clave `If` y luego la condición a evaluar dentro de un paréntesis, la misma debe ser una expresión que devuelva un sólo valor lógico (`TRUE` o `FALSE`).\n",
    "\n",
    "Se abre una llave `{` y se escribe el código a ser ejecutado en caso de ser cierta la condición, al finalizar se cierra con otra llave `}`. Si la condición es falsa, la acción dentro de las llaves es ignorada y R sigue ejecutando el programa."
   ]
  },
  {
   "cell_type": "code",
   "execution_count": 1,
   "metadata": {},
   "outputs": [
    {
     "name": "stdout",
     "output_type": "stream",
     "text": [
      "[1] \"Menor de edad\"\n"
     ]
    }
   ],
   "source": [
    "age <- 15\n",
    "if (age < 18){\n",
    "    print (\"Menor de edad\")\n",
    "}"
   ]
  },
  {
   "cell_type": "markdown",
   "metadata": {
    "collapsed": true
   },
   "source": [
    "## If - Else"
   ]
  },
  {
   "cell_type": "markdown",
   "metadata": {
    "collapsed": true
   },
   "source": [
    "En el caso que la condición sea falsa sabemos que R va a ignorar el código dentro de los `{}` y seguirá ejecutando el que se encuentre fuera de la condición, pero existirán ocasiones en las que será importante para nosotros que el programa devuelva una respuesta en caso de una evaluación negativa de la condición, para esto tenemos la combinación `if - else` cuando una condición arroja un `FALSE` también podemos hacer que el programa ejecute algún comando, veamos un ejemplo sencillo."
   ]
  },
  {
   "cell_type": "code",
   "execution_count": 1,
   "metadata": {},
   "outputs": [
    {
     "name": "stdout",
     "output_type": "stream",
     "text": [
      "[1] \"Mayor de edad\"\n"
     ]
    }
   ],
   "source": [
    "age <- 20\n",
    "if (age < 18){\n",
    "    print (\"Menor de edad\")\n",
    "}else{\n",
    "    print (\"Mayor de edad\")\n",
    "}"
   ]
  },
  {
   "cell_type": "markdown",
   "metadata": {},
   "source": [
    "Podemos observar que se deben cerrar las `{}` de la primera condición y abrir unas nuevas justo después de `else` para englobar la acción a ejecutar en caso de ser falsa."
   ]
  },
  {
   "cell_type": "markdown",
   "metadata": {},
   "source": [
    "También podemos poner una condición dentro del else, y tendríamos un código así:"
   ]
  },
  {
   "cell_type": "code",
   "execution_count": 4,
   "metadata": {},
   "outputs": [
    {
     "name": "stdout",
     "output_type": "stream",
     "text": [
      "[1] \"Mayor de edad\"\n"
     ]
    }
   ],
   "source": [
    "age <- 24\n",
    "if (age < 18){\n",
    "    print (\"Menor de edad\")\n",
    "}else if (18 <= age && age <= 21){\n",
    "    print (\"Todavía menor de edad en Estados Unidos\")\n",
    "} else {\n",
    "    print( \"Mayor de edad\")\n",
    "}"
   ]
  },
  {
   "cell_type": "markdown",
   "metadata": {},
   "source": [
    "En R existe una opción mas concisa alternativa para esto, la función `ifelse()`, con el siguiente formato:\n",
    "\n",
    "`ifelse(test, yes, no)`"
   ]
  },
  {
   "cell_type": "code",
   "execution_count": 8,
   "metadata": {},
   "outputs": [
    {
     "data": {
      "text/html": [
       "'Menor de edad'"
      ],
      "text/latex": [
       "'Menor de edad'"
      ],
      "text/markdown": [
       "'Menor de edad'"
      ],
      "text/plain": [
       "[1] \"Menor de edad\""
      ]
     },
     "metadata": {},
     "output_type": "display_data"
    }
   ],
   "source": [
    "age <- 17\n",
    "ifelse(age<18, \"Menor de edad\", \"Mayor de edad\")"
   ]
  },
  {
   "cell_type": "markdown",
   "metadata": {},
   "source": [
    "Las estructuras `if` e `ifelse` evalúan una única condición, si queremos evaluar varias condiciones es necesario establecer un orden y anidar estas estructuras, sus resultados pueden ser guardados en distintas variables o crear un vector que los almacene (en caso de ser necesario)."
   ]
  },
  {
   "cell_type": "markdown",
   "metadata": {},
   "source": [
    "\n",
    "## Anidado del condicionante if"
   ]
  },
  {
   "cell_type": "markdown",
   "metadata": {},
   "source": [
    "Un condicionante `if` puede ser colocado dentro del resultado de otro condicionante `if`. Podemos crear caminos intrincados de toma de decisiones, evaluando un cierto número de condiciones en varias etapas del código.\n",
    "\n",
    "Veamos un ejemplo:"
   ]
  },
  {
   "cell_type": "code",
   "execution_count": 8,
   "metadata": {
    "collapsed": true
   },
   "outputs": [],
   "source": [
    "mynumber <- 8\n",
    "a <- 9\n",
    "b <- 5"
   ]
  },
  {
   "cell_type": "code",
   "execution_count": 9,
   "metadata": {},
   "outputs": [
    {
     "name": "stdout",
     "output_type": "stream",
     "text": [
      "First condition was FALSE\n",
      "Second condition was TRUE"
     ]
    },
    {
     "data": {
      "text/html": [
       "5.5"
      ],
      "text/latex": [
       "5.5"
      ],
      "text/markdown": [
       "5.5"
      ],
      "text/plain": [
       "[1] 5.5"
      ]
     },
     "metadata": {},
     "output_type": "display_data"
    },
    {
     "data": {
      "text/html": [
       "0.00019869482337893"
      ],
      "text/latex": [
       "0.00019869482337893"
      ],
      "text/markdown": [
       "0.00019869482337893"
      ],
      "text/plain": [
       "[1] 0.0001986948"
      ]
     },
     "metadata": {},
     "output_type": "display_data"
    }
   ],
   "source": [
    "if(a<=mynumber){\n",
    "cat(\"Primera condición CIERTA\\n\")\n",
    "a <- a^2\n",
    "if(mynumber>3){\n",
    "cat(\"Second condition was TRUE\")\n",
    "b <- seq(1,a,length=mynumber)\n",
    "} else {\n",
    "cat(\"Second condition was FALSE\")\n",
    "b <- a*mynumber\n",
    "}\n",
    "} else {\n",
    "cat(\"First condition was FALSE\\n\")\n",
    "a <- a-3.5\n",
    "if(mynumber>=4){\n",
    "cat(\"Second condition was TRUE\")\n",
    "b <- a^(3-mynumber)\n",
    "} else {\n",
    "cat(\"Second condition was FALSE\")\n",
    "b <- rep(a+mynumber,times=3)\n",
    "}\n",
    "}\n",
    "a\n",
    "b"
   ]
  },
  {
   "cell_type": "markdown",
   "metadata": {},
   "source": [
    "## Bucles o ciclos "
   ]
  },
  {
   "cell_type": "markdown",
   "metadata": {},
   "source": [
    "Este lenguaje cuenta con varios tipos de ciclos, las repeticiones por un número determinado de veces, repeticiones mientras se cumple una condición y las repeticiones infinitas."
   ]
  },
  {
   "cell_type": "markdown",
   "metadata": {},
   "source": [
    "## For "
   ]
  },
  {
   "cell_type": "markdown",
   "metadata": {},
   "source": [
    "El ciclo o loop `for` repite el código a medida que toma cada elemento de un vector, elemento por elemento. Tiene la siguiente forma:"
   ]
  },
  {
   "cell_type": "raw",
   "metadata": {
    "collapsed": true
   },
   "source": [
    "for(índice del loop in vector del loop){\n",
    "    Comandos a ejecutar\n",
    "}"
   ]
  },
  {
   "cell_type": "markdown",
   "metadata": {
    "collapsed": true
   },
   "source": [
    "Aquí, el índice del loop es un marcador que representa un elemento en el vector del loop. Este índice comienza como el primer elemento en el vector y se mueve al siguiente con cada repetición del ciclo.\n",
    "\n",
    "Cuando el `for` inicia corre el código en el área dentro del `{}` reemplazando cualquier aparición del nombre que le hayamos asignado al índice del loop con el primer elemento del vector.\n",
    "\n",
    "Cuando el ciclo llega a `}` el índice del loop se incrementa, tomando el valor del segundo elemento del vector y el código dentro de `{}` es repetido con el nuevo valor. Esto continúa hasta que el loop alcance el último elemento del vector, donde el código es ejecutado una última vez.\n",
    "\n",
    "Veamos un ejemplo que nos permita ver los valores que toma el índice:"
   ]
  },
  {
   "cell_type": "code",
   "execution_count": 1,
   "metadata": {},
   "outputs": [
    {
     "name": "stdout",
     "output_type": "stream",
     "text": [
      "--Comienza área de {}--\n",
      "El índice actual es: 7 \n",
      "--Termina el área de {}--\n",
      "\n",
      "--Comienza área de {}--\n",
      "El índice actual es: 8 \n",
      "--Termina el área de {}--\n",
      "\n",
      "--Comienza área de {}--\n",
      "El índice actual es: 9 \n",
      "--Termina el área de {}--\n",
      "\n"
     ]
    }
   ],
   "source": [
    "for(indice in 7:9){\n",
    "    cat(\"--Comienza área de {}--\\n\")\n",
    "    cat(\"El índice actual es:\", indice, \"\\n\")\n",
    "    cat(\"--Termina el área de {}--\\n\\n\")\n",
    "}"
   ]
  },
  {
   "cell_type": "markdown",
   "metadata": {},
   "source": [
    "No es necesario que los objectos se encuentre dentro del loop para su manipulación."
   ]
  },
  {
   "cell_type": "markdown",
   "metadata": {
    "collapsed": true
   },
   "source": [
    "Por otro lado, existen diferentes formas de programar o introducir la información en el loop `for`, una de ellas establece el índice `i` para representar directamente los elementos del vector. En el siguiente caso, este ciclo imprime el valor de cada elemento del vector multiplicado por dos: "
   ]
  },
  {
   "cell_type": "code",
   "execution_count": 1,
   "metadata": {},
   "outputs": [
    {
     "name": "stdout",
     "output_type": "stream",
     "text": [
      "[1] 0.8\n",
      "[1] 2.2\n",
      "[1] 0.68\n",
      "[1] 1.1\n"
     ]
    }
   ],
   "source": [
    "myvec <- c(0.4,1.1,0.34,0.55)\n",
    "for(i in myvec){\n",
    "print(2*i)\n",
    "}"
   ]
  },
  {
   "cell_type": "markdown",
   "metadata": {
    "collapsed": true
   },
   "source": [
    "Sin embargo, también podemos utilizar el índice `i` para representar enteros en una secuencia, por ejemplo, desde uno hasta el valor de longitud del vector a utilizar. Estos enteros forman todas las posiciones posibles del índice en el vector y se utilizan estos índices para extraer toos los elementos.\n",
    "\n",
    "Aunque esto represente escribir un poco más en el código, esto provee una mayor flexibilidad para el uso del índice y será más útil al hacer más complejos los requerimientos del código y el loop `for`"
   ]
  },
  {
   "cell_type": "code",
   "execution_count": 4,
   "metadata": {},
   "outputs": [
    {
     "name": "stdout",
     "output_type": "stream",
     "text": [
      "[1] 0.8\n",
      "[1] 2.2\n",
      "[1] 0.68\n",
      "[1] 1.1\n"
     ]
    }
   ],
   "source": [
    "for(i in 1:length(myvec)){\n",
    "print(2*myvec[i])\n",
    "}\n"
   ]
  },
  {
   "cell_type": "markdown",
   "metadata": {},
   "source": [
    "Veamos un ejemplo un poco más complejo, repasemos algunas estructuras de datos, usemos listas y matrices."
   ]
  },
  {
   "cell_type": "code",
   "execution_count": 6,
   "metadata": {},
   "outputs": [
    {
     "data": {
      "text/html": [
       "<dl>\n",
       "\t<dt>$aa</dt>\n",
       "\t\t<dd><ol class=list-inline>\n",
       "\t<li>3.4</li>\n",
       "\t<li>1</li>\n",
       "</ol>\n",
       "</dd>\n",
       "\t<dt>$bb</dt>\n",
       "\t\t<dd><table>\n",
       "<tbody>\n",
       "\t<tr><td>1</td><td>3</td></tr>\n",
       "\t<tr><td>2</td><td>4</td></tr>\n",
       "</tbody>\n",
       "</table>\n",
       "</dd>\n",
       "\t<dt>$cc</dt>\n",
       "\t\t<dd><table>\n",
       "<tbody>\n",
       "\t<tr><td> TRUE</td><td> TRUE</td></tr>\n",
       "\t<tr><td> TRUE</td><td>FALSE</td></tr>\n",
       "\t<tr><td>FALSE</td><td>FALSE</td></tr>\n",
       "</tbody>\n",
       "</table>\n",
       "</dd>\n",
       "\t<dt>$dd</dt>\n",
       "\t\t<dd>'string here'</dd>\n",
       "\t<dt>$ee</dt>\n",
       "\t\t<dd><table>\n",
       "<tbody>\n",
       "\t<tr><td>red   </td></tr>\n",
       "\t<tr><td>green </td></tr>\n",
       "\t<tr><td>blue  </td></tr>\n",
       "\t<tr><td>yellow</td></tr>\n",
       "</tbody>\n",
       "</table>\n",
       "</dd>\n",
       "</dl>\n"
      ],
      "text/latex": [
       "\\begin{description}\n",
       "\\item[\\$aa] \\begin{enumerate*}\n",
       "\\item 3.4\n",
       "\\item 1\n",
       "\\end{enumerate*}\n",
       "\n",
       "\\item[\\$bb] \\begin{tabular}{ll}\n",
       "\t 1 & 3\\\\\n",
       "\t 2 & 4\\\\\n",
       "\\end{tabular}\n",
       "\n",
       "\\item[\\$cc] \\begin{tabular}{ll}\n",
       "\t  TRUE &  TRUE\\\\\n",
       "\t  TRUE & FALSE\\\\\n",
       "\t FALSE & FALSE\\\\\n",
       "\\end{tabular}\n",
       "\n",
       "\\item[\\$dd] 'string here'\n",
       "\\item[\\$ee] \\begin{tabular}{l}\n",
       "\t red   \\\\\n",
       "\t green \\\\\n",
       "\t blue  \\\\\n",
       "\t yellow\\\\\n",
       "\\end{tabular}\n",
       "\n",
       "\\end{description}\n"
      ],
      "text/markdown": [
       "$aa\n",
       ":   1. 3.4\n",
       "2. 1\n",
       "\n",
       "\n",
       "\n",
       "$bb\n",
       ":   \n",
       "| 1 | 3 | \n",
       "| 2 | 4 | \n",
       "\n",
       "\n",
       "\n",
       "$cc\n",
       ":   \n",
       "|  TRUE |  TRUE | \n",
       "|  TRUE | FALSE | \n",
       "| FALSE | FALSE | \n",
       "\n",
       "\n",
       "\n",
       "$dd\n",
       ":   'string here'\n",
       "$ee\n",
       ":   \n",
       "| red    | \n",
       "| green  | \n",
       "| blue   | \n",
       "| yellow | \n",
       "\n",
       "\n",
       "\n",
       "\n",
       "\n"
      ],
      "text/plain": [
       "$aa\n",
       "[1] 3.4 1.0\n",
       "\n",
       "$bb\n",
       "     [,1] [,2]\n",
       "[1,]    1    3\n",
       "[2,]    2    4\n",
       "\n",
       "$cc\n",
       "      [,1]  [,2]\n",
       "[1,]  TRUE  TRUE\n",
       "[2,]  TRUE FALSE\n",
       "[3,] FALSE FALSE\n",
       "\n",
       "$dd\n",
       "[1] \"string here\"\n",
       "\n",
       "$ee\n",
       "     [,1]    \n",
       "[1,] \"red\"   \n",
       "[2,] \"green\" \n",
       "[3,] \"blue\"  \n",
       "[4,] \"yellow\"\n"
      ]
     },
     "metadata": {},
     "output_type": "display_data"
    }
   ],
   "source": [
    "foo <- list(aa=c(3.4,1),bb=matrix(1:4,2,2),cc=matrix(c(T,T,F,T,F,F),3,2),\n",
    "dd=\"string here\",ee=matrix(c(\"red\",\"green\",\"blue\",\"yellow\")))\n",
    "foo"
   ]
  },
  {
   "cell_type": "markdown",
   "metadata": {},
   "source": [
    "El elemento`foo` contiene 3 matrices (bb, cc, ee) de diferentes dimensiones y tipos de datos.\n",
    "Vamos a crear un ciclo que pasa por cada miembro de la lista que hemos creado y revisa si efectivamente es una matriz. Si lo es, el loop devolverá el número de filas y columas y el tipo de datos dentro de ella.\n",
    "\n",
    "Creemos primero varias estructuras de almacenamiento:\n",
    "- **name**: nombre de los miembros de la lista\n",
    "- **is.mat**: indica si el miembro es una matriz (con \"Si\" o \"No\")\n",
    "- **nc y nr**: guarda el número de columnas y el número de filas para cada matriz \n",
    "- **data.type**: guarda el tipo de datos para cada matriz."
   ]
  },
  {
   "cell_type": "code",
   "execution_count": 8,
   "metadata": {},
   "outputs": [
    {
     "data": {
      "text/html": [
       "<ol class=list-inline>\n",
       "\t<li>'aa'</li>\n",
       "\t<li>'bb'</li>\n",
       "\t<li>'cc'</li>\n",
       "\t<li>'dd'</li>\n",
       "\t<li>'ee'</li>\n",
       "</ol>\n"
      ],
      "text/latex": [
       "\\begin{enumerate*}\n",
       "\\item 'aa'\n",
       "\\item 'bb'\n",
       "\\item 'cc'\n",
       "\\item 'dd'\n",
       "\\item 'ee'\n",
       "\\end{enumerate*}\n"
      ],
      "text/markdown": [
       "1. 'aa'\n",
       "2. 'bb'\n",
       "3. 'cc'\n",
       "4. 'dd'\n",
       "5. 'ee'\n",
       "\n",
       "\n"
      ],
      "text/plain": [
       "[1] \"aa\" \"bb\" \"cc\" \"dd\" \"ee\""
      ]
     },
     "metadata": {},
     "output_type": "display_data"
    },
    {
     "data": {
      "text/html": [
       "<ol class=list-inline>\n",
       "\t<li>&lt;NA&gt;</li>\n",
       "\t<li>&lt;NA&gt;</li>\n",
       "\t<li>&lt;NA&gt;</li>\n",
       "\t<li>&lt;NA&gt;</li>\n",
       "\t<li>&lt;NA&gt;</li>\n",
       "</ol>\n"
      ],
      "text/latex": [
       "\\begin{enumerate*}\n",
       "\\item <NA>\n",
       "\\item <NA>\n",
       "\\item <NA>\n",
       "\\item <NA>\n",
       "\\item <NA>\n",
       "\\end{enumerate*}\n"
      ],
      "text/markdown": [
       "1. &lt;NA&gt;\n",
       "2. &lt;NA&gt;\n",
       "3. &lt;NA&gt;\n",
       "4. &lt;NA&gt;\n",
       "5. &lt;NA&gt;\n",
       "\n",
       "\n"
      ],
      "text/plain": [
       "[1] NA NA NA NA NA"
      ]
     },
     "metadata": {},
     "output_type": "display_data"
    }
   ],
   "source": [
    "name <- names(foo)\n",
    "name\n",
    "is.mat <- rep(NA,length(foo))\n",
    "is.mat\n",
    "nr <- is.mat\n",
    "nc <- is.mat\n",
    "data.type <- is.mat"
   ]
  },
  {
   "cell_type": "markdown",
   "metadata": {},
   "source": [
    "Acabamos de crear los vectores para guardar los datos y los inicializamos en NA, estos serán actualizados apropiadamente en el loop que vamos a crear."
   ]
  },
  {
   "cell_type": "code",
   "execution_count": 17,
   "metadata": {},
   "outputs": [
    {
     "data": {
      "text/html": [
       "<table>\n",
       "<thead><tr><th scope=col>name</th><th scope=col>is.mat</th><th scope=col>nr</th><th scope=col>nc</th><th scope=col>data.type</th></tr></thead>\n",
       "<tbody>\n",
       "\t<tr><td>aa       </td><td>No       </td><td>NA       </td><td>NA       </td><td>NA       </td></tr>\n",
       "\t<tr><td>bb       </td><td>Si       </td><td> 2       </td><td> 2       </td><td>integer  </td></tr>\n",
       "\t<tr><td>cc       </td><td>Si       </td><td> 3       </td><td> 2       </td><td>logical  </td></tr>\n",
       "\t<tr><td>dd       </td><td>No       </td><td>NA       </td><td>NA       </td><td>NA       </td></tr>\n",
       "\t<tr><td>ee       </td><td>Si       </td><td> 4       </td><td> 1       </td><td>character</td></tr>\n",
       "</tbody>\n",
       "</table>\n"
      ],
      "text/latex": [
       "\\begin{tabular}{r|lllll}\n",
       " name & is.mat & nr & nc & data.type\\\\\n",
       "\\hline\n",
       "\t aa        & No        & NA        & NA        & NA       \\\\\n",
       "\t bb        & Si        &  2        &  2        & integer  \\\\\n",
       "\t cc        & Si        &  3        &  2        & logical  \\\\\n",
       "\t dd        & No        & NA        & NA        & NA       \\\\\n",
       "\t ee        & Si        &  4        &  1        & character\\\\\n",
       "\\end{tabular}\n"
      ],
      "text/markdown": [
       "\n",
       "name | is.mat | nr | nc | data.type | \n",
       "|---|---|---|---|---|\n",
       "| aa        | No        | NA        | NA        | NA        | \n",
       "| bb        | Si        |  2        |  2        | integer   | \n",
       "| cc        | Si        |  3        |  2        | logical   | \n",
       "| dd        | No        | NA        | NA        | NA        | \n",
       "| ee        | Si        |  4        |  1        | character | \n",
       "\n",
       "\n"
      ],
      "text/plain": [
       "  name is.mat nr nc data.type\n",
       "1 aa   No     NA NA NA       \n",
       "2 bb   Si      2  2 integer  \n",
       "3 cc   Si      3  2 logical  \n",
       "4 dd   No     NA NA NA       \n",
       "5 ee   Si      4  1 character"
      ]
     },
     "metadata": {},
     "output_type": "display_data"
    }
   ],
   "source": [
    "for(i in 1:length(foo)){\n",
    "miembro <- foo[[i]]\n",
    "if(is.matrix(miembro)){\n",
    "is.mat[i] <- \"Si\"\n",
    "nr[i] <- nrow(miembro)\n",
    "nc[i] <- ncol(miembro)\n",
    "data.type[i] <- class(as.vector(miembro))\n",
    "} else {\n",
    "is.mat[i] <- \"No\"\n",
    "    }\n",
    "}\n",
    "bar <- data.frame(name,is.mat,nr,nc,data.type,stringsAsFactors=FALSE)\n",
    "bar"
   ]
  },
  {
   "cell_type": "markdown",
   "metadata": {},
   "source": [
    "## Anidado del ciclo for "
   ]
  },
  {
   "cell_type": "markdown",
   "metadata": {
    "collapsed": true
   },
   "source": [
    "Cuando el ciclo `for` es anidado en otro ciclo, el ciclo interno es ejecutado por completo y luego el índice del ciclo externo se incrementa"
   ]
  },
  {
   "cell_type": "code",
   "execution_count": 2,
   "metadata": {
    "collapsed": true
   },
   "outputs": [],
   "source": [
    "loopvec1 <- 5:7\n",
    "loopvec2 <- 9:6\n",
    "matriz <- matrix(NA,length(loopvec1),length(loopvec2))"
   ]
  },
  {
   "cell_type": "code",
   "execution_count": 3,
   "metadata": {
    "scrolled": true
   },
   "outputs": [
    {
     "data": {
      "text/html": [
       "<table>\n",
       "<tbody>\n",
       "\t<tr><td>45</td><td>40</td><td>35</td><td>30</td></tr>\n",
       "\t<tr><td>54</td><td>48</td><td>42</td><td>36</td></tr>\n",
       "\t<tr><td>63</td><td>56</td><td>49</td><td>42</td></tr>\n",
       "</tbody>\n",
       "</table>\n"
      ],
      "text/latex": [
       "\\begin{tabular}{llll}\n",
       "\t 45 & 40 & 35 & 30\\\\\n",
       "\t 54 & 48 & 42 & 36\\\\\n",
       "\t 63 & 56 & 49 & 42\\\\\n",
       "\\end{tabular}\n"
      ],
      "text/markdown": [
       "\n",
       "| 45 | 40 | 35 | 30 | \n",
       "| 54 | 48 | 42 | 36 | \n",
       "| 63 | 56 | 49 | 42 | \n",
       "\n",
       "\n"
      ],
      "text/plain": [
       "     [,1] [,2] [,3] [,4]\n",
       "[1,] 45   40   35   30  \n",
       "[2,] 54   48   42   36  \n",
       "[3,] 63   56   49   42  "
      ]
     },
     "metadata": {},
     "output_type": "display_data"
    }
   ],
   "source": [
    "for(i in 1:length(loopvec1)){\n",
    " for(j in 1:length(loopvec2)){\n",
    "matriz[i,j] <- loopvec1[i]*loopvec2[j]\n",
    " }\n",
    "}\n",
    "matriz"
   ]
  },
  {
   "cell_type": "markdown",
   "metadata": {},
   "source": [
    "## While"
   ]
  },
  {
   "cell_type": "markdown",
   "metadata": {},
   "source": [
    "Cuando usamos ciclos `for` debemos poder calcular el número de veces que se repetirá. Cuando no conoces la cantidad de veces que un ciclo debe repetirse puedes recurrir al ciclo `while`, qe se repite mientra una condición específica devuelve `TRUE` y toma la siguiente forma general:"
   ]
  },
  {
   "cell_type": "raw",
   "metadata": {},
   "source": [
    "while(loopcondition){\n",
    "   do any code in here\n",
    "}"
   ]
  },
  {
   "cell_type": "markdown",
   "metadata": {},
   "source": [
    "El ciclo `while` usa una condición lógica única para controlar cuantas veces se repite. Para la ejecución, la condición del ciclo es evaluada. Si es verdadera (`TRUE`), el área dentro de los corchetes es ejecutada línea por línea hasta completarse, momento en el que la condición es evaluada de nuevo. Este ciclo termina si y sólo si la condición resulta como falsa ltima vez (`FALSE`), acabando por completo, sin correr el codigo una  última vez.\n",
    "\n",
    "Veamos un ejemplo:"
   ]
  },
  {
   "cell_type": "code",
   "execution_count": 3,
   "metadata": {},
   "outputs": [
    {
     "name": "stdout",
     "output_type": "stream",
     "text": [
      "\n",
      "El valor es ahora 6 \n",
      "Mi condición es ahora TRUE \n",
      "\n",
      "El valor es ahora 7 \n",
      "Mi condición es ahora TRUE \n",
      "\n",
      "El valor es ahora 8 \n",
      "Mi condición es ahora TRUE \n",
      "\n",
      "El valor es ahora 9 \n",
      "Mi condición es ahora TRUE \n",
      "\n",
      "El valor es ahora 10 \n",
      "Mi condición es ahora FALSE \n"
     ]
    }
   ],
   "source": [
    "val <- 5\n",
    "while(val<10){\n",
    "val <- val+1\n",
    "cat(\"\\nEl valor es ahora\",val,\"\\n\")\n",
    "cat(\"Mi condición es ahora\",val<10,\"\\n\")\n",
    "}"
   ]
  }
 ],
 "metadata": {
  "kernelspec": {
   "display_name": "R",
   "language": "R",
   "name": "ir"
  },
  "language_info": {
   "codemirror_mode": "r",
   "file_extension": ".r",
   "mimetype": "text/x-r-source",
   "name": "R",
   "pygments_lexer": "r",
   "version": "3.2.3"
  }
 },
 "nbformat": 4,
 "nbformat_minor": 2
}
