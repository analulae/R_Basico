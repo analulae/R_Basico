{
 "cells": [
  {
   "cell_type": "markdown",
   "metadata": {},
   "source": [
    "# Funciones en R"
   ]
  },
  {
   "cell_type": "markdown",
   "metadata": {},
   "source": [
    "Definir una función te permite reusar un pedazo de código sin tener que copiarlo y pegarlo infinitamente.\n",
    "\n",
    "Aquí aprenderemos lo más básico para escribir tus propias funciones en R, definir y usar argumentos, cómo devuelve resultados una función, entre otros.\n",
    "\n",
    "La definición de una función sigue este formato:"
   ]
  },
  {
   "cell_type": "markdown",
   "metadata": {},
   "source": [
    "```R\n",
    "nombre_función <- function(arg1, arg2, arg3, ...){\n",
    "  correr código cuando sea llamada la función\n",
    "  return(objetodevuelto)\n",
    "}\n",
    "```"
   ]
  },
  {
   "cell_type": "markdown",
   "metadata": {},
   "source": [
    "El nombre de la función puede ser cualquier nombre de objeto de R válido, que será lo que finalmente usaremos para llamar a la función.\n",
    "\n",
    "Asignemos a este nombre un llamado a `function`, seguido por los argumentos dentro de un paréntesis.\n",
    "El número de argumentos, sus etiquetas, y (...) dependerán directamente de la función que estamos definiendo.  Si la función no requiere argumentos, se incluyen unos paréntesis vacíos (). Observemos que estos argumentos no son objetos dentro del espacio de trabajo, no tienen un tipo, ni una clase, son simplemente una declaración de nombres de argumentos que serán requeridos. Estos son tratados como objetos en el léxico de la función.\n",
    "\n",
    "Cuando se llama a la función, se corre el código dentro de los corchetes {} (llamado cuerpo de la función). Puede incluir condicionantes, ciclos, e incluso otras funciones.\n",
    "\n",
    "Dependiendo de cómo sean usados los argumentos declarados pueden requerir algún tipo de característica, por lo que es importante que al compartir el código exista bastante documentación para la función.\n",
    "\n",
    "Existe un mecanismo que permite devolver resultados de las operaciones en la función al usuario,es el comando `return`. En el código anterior lo vemos como `objetodevuelto` al que se le asigna un objeto creado o calculado anteriormente en el cuerpo de la función. Si no existe ningún `return`, la función simplemente devolverá el objeto creado por la última expresión ejecutada."
   ]
  },
  {
   "cell_type": "markdown",
   "metadata": {
    "collapsed": true
   },
   "source": [
    "Veamos un ejemplo con el generador de la serie de Fibonacci:"
   ]
  },
  {
   "cell_type": "code",
   "execution_count": 2,
   "metadata": {
    "collapsed": true
   },
   "outputs": [],
   "source": [
    "myfib <- function(){\n",
    "fib.a <- 1\n",
    "fib.b <- 1\n",
    "cat(fib.a,\", \",fib.b,\", \",sep=\"\")\n",
    "repeat{\n",
    "temp <- fib.a+fib.b\n",
    "    fib.a <- fib.b\n",
    "fib.b <- temp\n",
    "cat(fib.b,\", \",sep=\"\")\n",
    "if(fib.b>150){\n",
    "cat(\"BREAK NOW...\")\n",
    "break\n",
    "}\n",
    "}\n",
    "}"
   ]
  },
  {
   "cell_type": "markdown",
   "metadata": {},
   "source": [
    "Antes de poder llamar a la función en la Consola, tenemos que enviar esta definición allí. Para importar la función al especio de trabajo, resalta el código y presiona ``\"CTRL - R\"``. Esto debe hacerse cada vez que creemos o modifiquemos una función a usar."
   ]
  },
  {
   "cell_type": "code",
   "execution_count": 3,
   "metadata": {},
   "outputs": [
    {
     "name": "stdout",
     "output_type": "stream",
     "text": [
      "1, 1, 2, 3, 5, 8, 13, 21, 34, 55, 89, 144, 233, BREAK NOW..."
     ]
    }
   ],
   "source": [
    "myfib()"
   ]
  },
  {
   "cell_type": "markdown",
   "metadata": {
    "collapsed": true
   },
   "source": [
    "### Argumentos"
   ]
  },
  {
   "cell_type": "markdown",
   "metadata": {
    "collapsed": true
   },
   "source": [
    "Ahora, vamos a incluir en la función un argumento para controlar cuántos números de Fibonacci aparecerán. Para esto escribamos una nueva función."
   ]
  },
  {
   "cell_type": "code",
   "execution_count": 1,
   "metadata": {
    "collapsed": true
   },
   "outputs": [],
   "source": [
    "myfib2 <- function(max){\n",
    "fib.a <- 1\n",
    "fib.b <- 1\n",
    "cat(fib.a,\", \",fib.b,\", \",sep=\"\")\n",
    "repeat{\n",
    "temp <- fib.a+fib.b\n",
    "fib.a <- fib.b\n",
    "fib.b <- temp\n",
    "cat(fib.b,\", \",sep=\"\")\n",
    "if(fib.b>max){\n",
    "cat(\"BREAK NOW...\")\n",
    "break\n",
    "}\n",
    "}\n",
    "}"
   ]
  },
  {
   "cell_type": "code",
   "execution_count": 4,
   "metadata": {},
   "outputs": [
    {
     "name": "stdout",
     "output_type": "stream",
     "text": [
      "1, 1, 2, 3, 5, 8, BREAK NOW..."
     ]
    }
   ],
   "source": [
    "myfib2(6)"
   ]
  },
  {
   "cell_type": "markdown",
   "metadata": {
    "collapsed": true
   },
   "source": [
    "## Devolver Resultados"
   ]
  },
  {
   "cell_type": "markdown",
   "metadata": {
    "collapsed": true
   },
   "source": [
    "Cuando deseemos usar los resultados de una función en operaciones futuras (no sólo imprimir el resultado), necesitamos devolver el contenido al usuario.\n",
    "\n",
    "Vamos a continuar con el ejemplo de Fibonacci, creando una función que guarda esta secuencia en un vector y la devuelve en la función"
   ]
  },
  {
   "cell_type": "code",
   "execution_count": 8,
   "metadata": {
    "collapsed": true
   },
   "outputs": [],
   "source": [
    "myfib3 <- function(max){\n",
    "fibseq <- c(1,1)\n",
    "counter <- 2\n",
    "repeat{\n",
    "fibseq <- c(fibseq,fibseq[counter-1]+fibseq[counter])\n",
    "counter <- counter+1\n",
    "if(fibseq[counter]>max){\n",
    "break\n",
    "}\n",
    "}\n",
    "return(fibseq)\n",
    "}"
   ]
  },
  {
   "cell_type": "code",
   "execution_count": 9,
   "metadata": {},
   "outputs": [
    {
     "data": {
      "text/html": [
       "<ol class=list-inline>\n",
       "\t<li>1</li>\n",
       "\t<li>1</li>\n",
       "\t<li>2</li>\n",
       "\t<li>3</li>\n",
       "\t<li>5</li>\n",
       "\t<li>8</li>\n",
       "\t<li>13</li>\n",
       "\t<li>21</li>\n",
       "\t<li>34</li>\n",
       "\t<li>55</li>\n",
       "\t<li>89</li>\n",
       "\t<li>144</li>\n",
       "\t<li>233</li>\n",
       "\t<li>377</li>\n",
       "\t<li>610</li>\n",
       "\t<li>987</li>\n",
       "\t<li>1597</li>\n",
       "\t<li>2584</li>\n",
       "\t<li>4181</li>\n",
       "\t<li>6765</li>\n",
       "\t<li>10946</li>\n",
       "\t<li>17711</li>\n",
       "\t<li>28657</li>\n",
       "\t<li>46368</li>\n",
       "\t<li>75025</li>\n",
       "\t<li>121393</li>\n",
       "\t<li>196418</li>\n",
       "\t<li>317811</li>\n",
       "\t<li>514229</li>\n",
       "\t<li>832040</li>\n",
       "\t<li>1346269</li>\n",
       "</ol>\n"
      ],
      "text/latex": [
       "\\begin{enumerate*}\n",
       "\\item 1\n",
       "\\item 1\n",
       "\\item 2\n",
       "\\item 3\n",
       "\\item 5\n",
       "\\item 8\n",
       "\\item 13\n",
       "\\item 21\n",
       "\\item 34\n",
       "\\item 55\n",
       "\\item 89\n",
       "\\item 144\n",
       "\\item 233\n",
       "\\item 377\n",
       "\\item 610\n",
       "\\item 987\n",
       "\\item 1597\n",
       "\\item 2584\n",
       "\\item 4181\n",
       "\\item 6765\n",
       "\\item 10946\n",
       "\\item 17711\n",
       "\\item 28657\n",
       "\\item 46368\n",
       "\\item 75025\n",
       "\\item 121393\n",
       "\\item 196418\n",
       "\\item 317811\n",
       "\\item 514229\n",
       "\\item 832040\n",
       "\\item 1346269\n",
       "\\end{enumerate*}\n"
      ],
      "text/markdown": [
       "1. 1\n",
       "2. 1\n",
       "3. 2\n",
       "4. 3\n",
       "5. 5\n",
       "6. 8\n",
       "7. 13\n",
       "8. 21\n",
       "9. 34\n",
       "10. 55\n",
       "11. 89\n",
       "12. 144\n",
       "13. 233\n",
       "14. 377\n",
       "15. 610\n",
       "16. 987\n",
       "17. 1597\n",
       "18. 2584\n",
       "19. 4181\n",
       "20. 6765\n",
       "21. 10946\n",
       "22. 17711\n",
       "23. 28657\n",
       "24. 46368\n",
       "25. 75025\n",
       "26. 121393\n",
       "27. 196418\n",
       "28. 317811\n",
       "29. 514229\n",
       "30. 832040\n",
       "31. 1346269\n",
       "\n",
       "\n"
      ],
      "text/plain": [
       " [1]       1       1       2       3       5       8      13      21      34\n",
       "[10]      55      89     144     233     377     610     987    1597    2584\n",
       "[19]    4181    6765   10946   17711   28657   46368   75025  121393  196418\n",
       "[28]  317811  514229  832040 1346269"
      ]
     },
     "metadata": {},
     "output_type": "display_data"
    }
   ],
   "source": [
    "myfib3(1000000)"
   ]
  },
  {
   "cell_type": "markdown",
   "metadata": {},
   "source": [
    "Veamos que sucede si retiramos `return()`"
   ]
  },
  {
   "cell_type": "markdown",
   "metadata": {},
   "source": [
    "## `return()` "
   ]
  },
  {
   "cell_type": "markdown",
   "metadata": {},
   "source": [
    "Si no existe la declaración `return()` dentro de la función, la misma imprimirá el objeto creado o asignado más reciente (última línea en el cuerpo de código). Si nada es creado (como el ejemplo anterior), la función devuelve NULL. Vamos a ver un ejemplo:"
   ]
  },
  {
   "cell_type": "code",
   "execution_count": 13,
   "metadata": {
    "collapsed": true
   },
   "outputs": [],
   "source": [
    "dummy1 <- function(){\n",
    "aa <- 2.5\n",
    "bb <- \"string me along\"\n",
    "cc <- \"string 'em up\"\n",
    "dd <- 4:8\n",
    "}\n",
    "\n",
    "dummy2 <- function(){\n",
    "aa <- 2.5\n",
    "bb <- \"string me along\"\n",
    "cc <- \"string 'em up\"\n",
    "dd <- 4:8\n",
    "return(dd)\n",
    "}"
   ]
  },
  {
   "cell_type": "code",
   "execution_count": 17,
   "metadata": {},
   "outputs": [
    {
     "data": {
      "text/html": [
       "<ol class=list-inline>\n",
       "\t<li>4</li>\n",
       "\t<li>5</li>\n",
       "\t<li>6</li>\n",
       "\t<li>7</li>\n",
       "\t<li>8</li>\n",
       "</ol>\n"
      ],
      "text/latex": [
       "\\begin{enumerate*}\n",
       "\\item 4\n",
       "\\item 5\n",
       "\\item 6\n",
       "\\item 7\n",
       "\\item 8\n",
       "\\end{enumerate*}\n"
      ],
      "text/markdown": [
       "1. 4\n",
       "2. 5\n",
       "3. 6\n",
       "4. 7\n",
       "5. 8\n",
       "\n",
       "\n"
      ],
      "text/plain": [
       "[1] 4 5 6 7 8"
      ]
     },
     "metadata": {},
     "output_type": "display_data"
    },
    {
     "data": {
      "text/html": [
       "<ol class=list-inline>\n",
       "\t<li>4</li>\n",
       "\t<li>5</li>\n",
       "\t<li>6</li>\n",
       "\t<li>7</li>\n",
       "\t<li>8</li>\n",
       "</ol>\n"
      ],
      "text/latex": [
       "\\begin{enumerate*}\n",
       "\\item 4\n",
       "\\item 5\n",
       "\\item 6\n",
       "\\item 7\n",
       "\\item 8\n",
       "\\end{enumerate*}\n"
      ],
      "text/markdown": [
       "1. 4\n",
       "2. 5\n",
       "3. 6\n",
       "4. 7\n",
       "5. 8\n",
       "\n",
       "\n"
      ],
      "text/plain": [
       "[1] 4 5 6 7 8"
      ]
     },
     "metadata": {},
     "output_type": "display_data"
    }
   ],
   "source": [
    "uno <- dummy1()\n",
    "uno\n",
    "dos <- dummy2()\n",
    "dos"
   ]
  },
  {
   "cell_type": "markdown",
   "metadata": {},
   "source": [
    "La función va a terminar tan pronto como evalúe un comando `return()` sin ejecutar el código restante del cuerpo de la función.\n"
   ]
  },
  {
   "cell_type": "code",
   "execution_count": 18,
   "metadata": {
    "collapsed": true
   },
   "outputs": [],
   "source": [
    "dummy3 <- function(){\n",
    "aa <- 2.5\n",
    "bb <- \"string me along\"\n",
    "return(aa)\n",
    "cc <- \"string 'em up\"\n",
    "dd <- 4:8\n",
    "return(bb)\n",
    "}"
   ]
  },
  {
   "cell_type": "code",
   "execution_count": 19,
   "metadata": {},
   "outputs": [
    {
     "data": {
      "text/html": [
       "2.5"
      ],
      "text/latex": [
       "2.5"
      ],
      "text/markdown": [
       "2.5"
      ],
      "text/plain": [
       "[1] 2.5"
      ]
     },
     "metadata": {},
     "output_type": "display_data"
    }
   ],
   "source": [
    "tres <- dummy3()\n",
    "tres"
   ]
  },
  {
   "cell_type": "markdown",
   "metadata": {},
   "source": [
    "El comando `return()`permite que el código sea más accesible para entender dónde el autor de la función pretende que esta termine y cuál es el resultado que quiere que arroje"
   ]
  }
 ],
 "metadata": {
  "kernelspec": {
   "display_name": "R",
   "language": "R",
   "name": "ir"
  },
  "language_info": {
   "codemirror_mode": "r",
   "file_extension": ".r",
   "mimetype": "text/x-r-source",
   "name": "R",
   "pygments_lexer": "r",
   "version": "3.2.3"
  }
 },
 "nbformat": 4,
 "nbformat_minor": 2
}
